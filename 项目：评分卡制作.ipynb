{
 "cells": [
  {
   "cell_type": "markdown",
   "metadata": {
    "toc": true
   },
   "source": [
    "<h1>Table of Contents<span class=\"tocSkip\"></span></h1>\n",
    "<div class=\"toc\"><ul class=\"toc-item\"><li><span><a href=\"#确定观察时间窗口\" data-toc-modified-id=\"确定观察时间窗口-1\"><span class=\"toc-item-num\">1&nbsp;&nbsp;</span>确定观察时间窗口</a></span><ul class=\"toc-item\"><li><span><a href=\"#读取数据，数据描述\" data-toc-modified-id=\"读取数据，数据描述-1.1\"><span class=\"toc-item-num\">1.1&nbsp;&nbsp;</span>读取数据，数据描述</a></span></li><li><span><a href=\"#数据清洗\" data-toc-modified-id=\"数据清洗-1.2\"><span class=\"toc-item-num\">1.2&nbsp;&nbsp;</span>数据清洗</a></span><ul class=\"toc-item\"><li><span><a href=\"#去重\" data-toc-modified-id=\"去重-1.2.1\"><span class=\"toc-item-num\">1.2.1&nbsp;&nbsp;</span>去重</a></span></li><li><span><a href=\"#缺失值处理\" data-toc-modified-id=\"缺失值处理-1.2.2\"><span class=\"toc-item-num\">1.2.2&nbsp;&nbsp;</span>缺失值处理</a></span></li><li><span><a href=\"#异常值处理\" data-toc-modified-id=\"异常值处理-1.2.3\"><span class=\"toc-item-num\">1.2.3&nbsp;&nbsp;</span>异常值处理</a></span></li><li><span><a href=\"#生成衍生变量\" data-toc-modified-id=\"生成衍生变量-1.2.4\"><span class=\"toc-item-num\">1.2.4&nbsp;&nbsp;</span>生成衍生变量</a></span></li></ul></li><li><span><a href=\"#构建矩阵\" data-toc-modified-id=\"构建矩阵-1.3\"><span class=\"toc-item-num\">1.3&nbsp;&nbsp;</span>构建矩阵</a></span><ul class=\"toc-item\"><li><span><a href=\"#生成逾期状态数据框\" data-toc-modified-id=\"生成逾期状态数据框-1.3.1\"><span class=\"toc-item-num\">1.3.1&nbsp;&nbsp;</span>生成逾期状态数据框</a></span></li><li><span><a href=\"#生成时间数据框\" data-toc-modified-id=\"生成时间数据框-1.3.2\"><span class=\"toc-item-num\">1.3.2&nbsp;&nbsp;</span>生成时间数据框</a></span></li><li><span><a href=\"#生成矩阵\" data-toc-modified-id=\"生成矩阵-1.3.3\"><span class=\"toc-item-num\">1.3.3&nbsp;&nbsp;</span>生成矩阵</a></span></li></ul></li><li><span><a href=\"#根据生成矩阵生成观察时间窗口\" data-toc-modified-id=\"根据生成矩阵生成观察时间窗口-1.4\"><span class=\"toc-item-num\">1.4&nbsp;&nbsp;</span>根据生成矩阵生成观察时间窗口</a></span></li></ul></li><li><span><a href=\"#确定表现时间窗口\" data-toc-modified-id=\"确定表现时间窗口-2\"><span class=\"toc-item-num\">2&nbsp;&nbsp;</span>确定表现时间窗口</a></span><ul class=\"toc-item\"><li><span><a href=\"#读取数据，数据描述\" data-toc-modified-id=\"读取数据，数据描述-2.1\"><span class=\"toc-item-num\">2.1&nbsp;&nbsp;</span>读取数据，数据描述</a></span></li><li><span><a href=\"#数据清洗\" data-toc-modified-id=\"数据清洗-2.2\"><span class=\"toc-item-num\">2.2&nbsp;&nbsp;</span>数据清洗</a></span></li><li><span><a href=\"#定义y的总结\" data-toc-modified-id=\"定义y的总结-2.3\"><span class=\"toc-item-num\">2.3&nbsp;&nbsp;</span>定义y的总结</a></span></li></ul></li><li><span><a href=\"#评分卡制作\" data-toc-modified-id=\"评分卡制作-3\"><span class=\"toc-item-num\">3&nbsp;&nbsp;</span>评分卡制作</a></span><ul class=\"toc-item\"><li><span><a href=\"#数据读取，数据描述\" data-toc-modified-id=\"数据读取，数据描述-3.1\"><span class=\"toc-item-num\">3.1&nbsp;&nbsp;</span>数据读取，数据描述</a></span><ul class=\"toc-item\"><li><span><a href=\"#去重\" data-toc-modified-id=\"去重-3.1.1\"><span class=\"toc-item-num\">3.1.1&nbsp;&nbsp;</span>去重</a></span></li></ul></li><li><span><a href=\"#缺失值处理\" data-toc-modified-id=\"缺失值处理-3.2\"><span class=\"toc-item-num\">3.2&nbsp;&nbsp;</span>缺失值处理</a></span><ul class=\"toc-item\"><li><span><a href=\"#查看缺失值的分布情况\" data-toc-modified-id=\"查看缺失值的分布情况-3.2.1\"><span class=\"toc-item-num\">3.2.1&nbsp;&nbsp;</span>查看缺失值的分布情况</a></span></li><li><span><a href=\"#单一值替换\" data-toc-modified-id=\"单一值替换-3.2.2\"><span class=\"toc-item-num\">3.2.2&nbsp;&nbsp;</span>单一值替换</a></span></li><li><span><a href=\"#尝试多重插补\" data-toc-modified-id=\"尝试多重插补-3.2.3\"><span class=\"toc-item-num\">3.2.3&nbsp;&nbsp;</span>尝试多重插补</a></span></li></ul></li><li><span><a href=\"#异常值处理\" data-toc-modified-id=\"异常值处理-3.3\"><span class=\"toc-item-num\">3.3&nbsp;&nbsp;</span>异常值处理</a></span><ul class=\"toc-item\"><li><span><a href=\"#定义盖帽函数\" data-toc-modified-id=\"定义盖帽函数-3.3.1\"><span class=\"toc-item-num\">3.3.1&nbsp;&nbsp;</span>定义盖帽函数</a></span></li><li><span><a href=\"#汇总清洗过程，生成函数\" data-toc-modified-id=\"汇总清洗过程，生成函数-3.3.2\"><span class=\"toc-item-num\">3.3.2&nbsp;&nbsp;</span>汇总清洗过程，生成函数</a></span></li></ul></li><li><span><a href=\"#对每个特征生成分箱对象\" data-toc-modified-id=\"对每个特征生成分箱对象-3.4\"><span class=\"toc-item-num\">3.4&nbsp;&nbsp;</span>对每个特征生成分箱对象</a></span><ul class=\"toc-item\"><li><span><a href=\"#RevolvingUtilizationOfUnsecuredLines\" data-toc-modified-id=\"RevolvingUtilizationOfUnsecuredLines-3.4.1\"><span class=\"toc-item-num\">3.4.1&nbsp;&nbsp;</span>RevolvingUtilizationOfUnsecuredLines</a></span></li><li><span><a href=\"#age\" data-toc-modified-id=\"age-3.4.2\"><span class=\"toc-item-num\">3.4.2&nbsp;&nbsp;</span>age</a></span></li><li><span><a href=\"#NumberOfTime30_59DaysPastDueNotWorse\" data-toc-modified-id=\"NumberOfTime30_59DaysPastDueNotWorse-3.4.3\"><span class=\"toc-item-num\">3.4.3&nbsp;&nbsp;</span>NumberOfTime30_59DaysPastDueNotWorse</a></span></li><li><span><a href=\"#DebtRatio\" data-toc-modified-id=\"DebtRatio-3.4.4\"><span class=\"toc-item-num\">3.4.4&nbsp;&nbsp;</span>DebtRatio</a></span></li><li><span><a href=\"#MonthlyIncome\" data-toc-modified-id=\"MonthlyIncome-3.4.5\"><span class=\"toc-item-num\">3.4.5&nbsp;&nbsp;</span>MonthlyIncome</a></span></li><li><span><a href=\"#NumberOfOpenCreditLinesAndLoans\" data-toc-modified-id=\"NumberOfOpenCreditLinesAndLoans-3.4.6\"><span class=\"toc-item-num\">3.4.6&nbsp;&nbsp;</span>NumberOfOpenCreditLinesAndLoans</a></span></li><li><span><a href=\"#NumberOfTimes90DaysLate\" data-toc-modified-id=\"NumberOfTimes90DaysLate-3.4.7\"><span class=\"toc-item-num\">3.4.7&nbsp;&nbsp;</span>NumberOfTimes90DaysLate</a></span></li><li><span><a href=\"#NumberRealEstateLoansOrLines\" data-toc-modified-id=\"NumberRealEstateLoansOrLines-3.4.8\"><span class=\"toc-item-num\">3.4.8&nbsp;&nbsp;</span>NumberRealEstateLoansOrLines</a></span></li><li><span><a href=\"#NumberOfTime60_89DaysPastDueNotWorse\" data-toc-modified-id=\"NumberOfTime60_89DaysPastDueNotWorse-3.4.9\"><span class=\"toc-item-num\">3.4.9&nbsp;&nbsp;</span>NumberOfTime60_89DaysPastDueNotWorse</a></span></li><li><span><a href=\"#NumberOfDependents\" data-toc-modified-id=\"NumberOfDependents-3.4.10\"><span class=\"toc-item-num\">3.4.10&nbsp;&nbsp;</span>NumberOfDependents</a></span></li></ul></li><li><span><a href=\"#查看所有变量的IV值\" data-toc-modified-id=\"查看所有变量的IV值-3.5\"><span class=\"toc-item-num\">3.5&nbsp;&nbsp;</span>查看所有变量的IV值</a></span></li><li><span><a href=\"#生成WOE数据\" data-toc-modified-id=\"生成WOE数据-3.6\"><span class=\"toc-item-num\">3.6&nbsp;&nbsp;</span>生成WOE数据</a></span></li><li><span><a href=\"#建模\" data-toc-modified-id=\"建模-3.7\"><span class=\"toc-item-num\">3.7&nbsp;&nbsp;</span>建模</a></span><ul class=\"toc-item\"><li><span><a href=\"#查看共线性\" data-toc-modified-id=\"查看共线性-3.7.1\"><span class=\"toc-item-num\">3.7.1&nbsp;&nbsp;</span>查看共线性</a></span></li></ul></li><li><span><a href=\"#生成评分卡\" data-toc-modified-id=\"生成评分卡-3.8\"><span class=\"toc-item-num\">3.8&nbsp;&nbsp;</span>生成评分卡</a></span></li><li><span><a href=\"#模型评估\" data-toc-modified-id=\"模型评估-3.9\"><span class=\"toc-item-num\">3.9&nbsp;&nbsp;</span>模型评估</a></span></li><li><span><a href=\"#新数据预测\" data-toc-modified-id=\"新数据预测-3.10\"><span class=\"toc-item-num\">3.10&nbsp;&nbsp;</span>新数据预测</a></span></li></ul></li></ul></div>"
   ]
  },
  {
   "cell_type": "code",
   "execution_count": 1,
   "metadata": {},
   "outputs": [],
   "source": [
    "import numpy as np\n",
    "import pandas as pd\n",
    "%matplotlib inline\n",
    "import matplotlib.pyplot as plt\n",
    "import seaborn as sns"
   ]
  },
  {
   "cell_type": "code",
   "execution_count": 2,
   "metadata": {},
   "outputs": [],
   "source": [
    "import warnings\n",
    "warnings.filterwarnings('ignore')"
   ]
  },
  {
   "cell_type": "code",
   "execution_count": 3,
   "metadata": {},
   "outputs": [],
   "source": [
    "pd.set_option('max_columns',100)"
   ]
  },
  {
   "cell_type": "markdown",
   "metadata": {},
   "source": [
    "## 确定观察时间窗口"
   ]
  },
  {
   "cell_type": "markdown",
   "metadata": {},
   "source": [
    "### 读取数据，数据描述"
   ]
  },
  {
   "cell_type": "code",
   "execution_count": 4,
   "metadata": {},
   "outputs": [
    {
     "data": {
      "text/html": [
       "<div>\n",
       "<style scoped>\n",
       "    .dataframe tbody tr th:only-of-type {\n",
       "        vertical-align: middle;\n",
       "    }\n",
       "\n",
       "    .dataframe tbody tr th {\n",
       "        vertical-align: top;\n",
       "    }\n",
       "\n",
       "    .dataframe thead th {\n",
       "        text-align: right;\n",
       "    }\n",
       "</style>\n",
       "<table border=\"1\" class=\"dataframe\">\n",
       "  <thead>\n",
       "    <tr style=\"text-align: right;\">\n",
       "      <th></th>\n",
       "      <th>CID</th>\n",
       "      <th>STAGE_BEF</th>\n",
       "      <th>STAGE_AFT</th>\n",
       "      <th>START_DATE</th>\n",
       "      <th>CLOSE_DATE</th>\n",
       "    </tr>\n",
       "  </thead>\n",
       "  <tbody>\n",
       "    <tr>\n",
       "      <th>0</th>\n",
       "      <td>CID0128273</td>\n",
       "      <td></td>\n",
       "      <td>M0</td>\n",
       "      <td>20170701.0</td>\n",
       "      <td>20170703.0</td>\n",
       "    </tr>\n",
       "  </tbody>\n",
       "</table>\n",
       "</div>"
      ],
      "text/plain": [
       "          CID STAGE_BEF STAGE_AFT  START_DATE  CLOSE_DATE\n",
       "0  CID0128273                  M0  20170701.0  20170703.0"
      ]
     },
     "execution_count": 4,
     "metadata": {},
     "output_type": "execute_result"
    }
   ],
   "source": [
    "#用户逾期详情表\n",
    "sample_windows=pd.read_csv(r\"C:\\Users\\CDA\\python\\CreditScore\\data\\CreditSampleWindow.csv\")\n",
    "sample_windows.head(1)"
   ]
  },
  {
   "cell_type": "markdown",
   "metadata": {},
   "source": [
    "- CID#用户ID\n",
    "- STAGE_BEF#本阶段前的逾期阶段\n",
    "- STAGE_AFT#本阶段进入的逾期阶段\n",
    "    - 其中逾期阶段含义为: M0:逾期0-3天; M1:逾期3-30天; M2:逾期30-60天; M3:逾期60-90天;以此类推\n",
    "- START_DATE#进入本阶段时间\n",
    "- CLOSE_DATE#本阶段结束时间\n",
    "\n",
    "- 本数据取的是订单审批日从2015年1月1日到2017年10月31日的所有订单号,即这些订单对应的逾期详情,最后的截止日期为2018年5月31日"
   ]
  },
  {
   "cell_type": "code",
   "execution_count": 5,
   "metadata": {},
   "outputs": [
    {
     "data": {
      "text/plain": [
       "(1813157, 5)"
      ]
     },
     "execution_count": 5,
     "metadata": {},
     "output_type": "execute_result"
    }
   ],
   "source": [
    "sample_windows.shape"
   ]
  },
  {
   "cell_type": "code",
   "execution_count": 6,
   "metadata": {},
   "outputs": [
    {
     "data": {
      "text/html": [
       "<div>\n",
       "<style scoped>\n",
       "    .dataframe tbody tr th:only-of-type {\n",
       "        vertical-align: middle;\n",
       "    }\n",
       "\n",
       "    .dataframe tbody tr th {\n",
       "        vertical-align: top;\n",
       "    }\n",
       "\n",
       "    .dataframe thead th {\n",
       "        text-align: right;\n",
       "    }\n",
       "</style>\n",
       "<table border=\"1\" class=\"dataframe\">\n",
       "  <thead>\n",
       "    <tr style=\"text-align: right;\">\n",
       "      <th></th>\n",
       "      <th>count</th>\n",
       "      <th>unique</th>\n",
       "      <th>top</th>\n",
       "      <th>freq</th>\n",
       "      <th>mean</th>\n",
       "      <th>std</th>\n",
       "      <th>min</th>\n",
       "      <th>10%</th>\n",
       "      <th>25%</th>\n",
       "      <th>50%</th>\n",
       "      <th>75%</th>\n",
       "      <th>90%</th>\n",
       "      <th>max</th>\n",
       "    </tr>\n",
       "  </thead>\n",
       "  <tbody>\n",
       "    <tr>\n",
       "      <th>CID</th>\n",
       "      <td>1813157</td>\n",
       "      <td>388259</td>\n",
       "      <td>CID0373971</td>\n",
       "      <td>74</td>\n",
       "      <td>NaN</td>\n",
       "      <td>NaN</td>\n",
       "      <td>NaN</td>\n",
       "      <td>NaN</td>\n",
       "      <td>NaN</td>\n",
       "      <td>NaN</td>\n",
       "      <td>NaN</td>\n",
       "      <td>NaN</td>\n",
       "      <td>NaN</td>\n",
       "    </tr>\n",
       "    <tr>\n",
       "      <th>STAGE_BEF</th>\n",
       "      <td>1663660</td>\n",
       "      <td>10</td>\n",
       "      <td></td>\n",
       "      <td>1107267</td>\n",
       "      <td>NaN</td>\n",
       "      <td>NaN</td>\n",
       "      <td>NaN</td>\n",
       "      <td>NaN</td>\n",
       "      <td>NaN</td>\n",
       "      <td>NaN</td>\n",
       "      <td>NaN</td>\n",
       "      <td>NaN</td>\n",
       "      <td>NaN</td>\n",
       "    </tr>\n",
       "    <tr>\n",
       "      <th>STAGE_AFT</th>\n",
       "      <td>1663660</td>\n",
       "      <td>10</td>\n",
       "      <td>M0</td>\n",
       "      <td>1107267</td>\n",
       "      <td>NaN</td>\n",
       "      <td>NaN</td>\n",
       "      <td>NaN</td>\n",
       "      <td>NaN</td>\n",
       "      <td>NaN</td>\n",
       "      <td>NaN</td>\n",
       "      <td>NaN</td>\n",
       "      <td>NaN</td>\n",
       "      <td>NaN</td>\n",
       "    </tr>\n",
       "    <tr>\n",
       "      <th>START_DATE</th>\n",
       "      <td>1.66366e+06</td>\n",
       "      <td>NaN</td>\n",
       "      <td>NaN</td>\n",
       "      <td>NaN</td>\n",
       "      <td>2.01704e+07</td>\n",
       "      <td>8220.96</td>\n",
       "      <td>2.01503e+07</td>\n",
       "      <td>2.01604e+07</td>\n",
       "      <td>2.01612e+07</td>\n",
       "      <td>2.01708e+07</td>\n",
       "      <td>2.01801e+07</td>\n",
       "      <td>2.01804e+07</td>\n",
       "      <td>2.01805e+07</td>\n",
       "    </tr>\n",
       "    <tr>\n",
       "      <th>CLOSE_DATE</th>\n",
       "      <td>1.66366e+06</td>\n",
       "      <td>NaN</td>\n",
       "      <td>NaN</td>\n",
       "      <td>NaN</td>\n",
       "      <td>1.98265e+07</td>\n",
       "      <td>2.61116e+06</td>\n",
       "      <td>0</td>\n",
       "      <td>2.01603e+07</td>\n",
       "      <td>2.01612e+07</td>\n",
       "      <td>2.01707e+07</td>\n",
       "      <td>2.01801e+07</td>\n",
       "      <td>2.01804e+07</td>\n",
       "      <td>2.01805e+07</td>\n",
       "    </tr>\n",
       "  </tbody>\n",
       "</table>\n",
       "</div>"
      ],
      "text/plain": [
       "                  count  unique         top     freq         mean  \\\n",
       "CID             1813157  388259  CID0373971       74          NaN   \n",
       "STAGE_BEF       1663660      10              1107267          NaN   \n",
       "STAGE_AFT       1663660      10          M0  1107267          NaN   \n",
       "START_DATE  1.66366e+06     NaN         NaN      NaN  2.01704e+07   \n",
       "CLOSE_DATE  1.66366e+06     NaN         NaN      NaN  1.98265e+07   \n",
       "\n",
       "                    std          min          10%          25%          50%  \\\n",
       "CID                 NaN          NaN          NaN          NaN          NaN   \n",
       "STAGE_BEF           NaN          NaN          NaN          NaN          NaN   \n",
       "STAGE_AFT           NaN          NaN          NaN          NaN          NaN   \n",
       "START_DATE      8220.96  2.01503e+07  2.01604e+07  2.01612e+07  2.01708e+07   \n",
       "CLOSE_DATE  2.61116e+06            0  2.01603e+07  2.01612e+07  2.01707e+07   \n",
       "\n",
       "                    75%          90%          max  \n",
       "CID                 NaN          NaN          NaN  \n",
       "STAGE_BEF           NaN          NaN          NaN  \n",
       "STAGE_AFT           NaN          NaN          NaN  \n",
       "START_DATE  2.01801e+07  2.01804e+07  2.01805e+07  \n",
       "CLOSE_DATE  2.01801e+07  2.01804e+07  2.01805e+07  "
      ]
     },
     "execution_count": 6,
     "metadata": {},
     "output_type": "execute_result"
    }
   ],
   "source": [
    "sample_windows.describe(percentiles=[0.1,0.25,0.5,0.75,0.9],include='all').T"
   ]
  },
  {
   "cell_type": "code",
   "execution_count": 7,
   "metadata": {},
   "outputs": [
    {
     "data": {
      "text/plain": [
       "CID           0.000000\n",
       "STAGE_BEF     0.082451\n",
       "STAGE_AFT     0.082451\n",
       "START_DATE    0.082451\n",
       "CLOSE_DATE    0.082451\n",
       "dtype: float64"
      ]
     },
     "execution_count": 7,
     "metadata": {},
     "output_type": "execute_result"
    }
   ],
   "source": [
    "sample_windows.isnull().mean()"
   ]
  },
  {
   "cell_type": "markdown",
   "metadata": {},
   "source": [
    "### 数据清洗"
   ]
  },
  {
   "cell_type": "markdown",
   "metadata": {},
   "source": [
    "#### 去重"
   ]
  },
  {
   "cell_type": "code",
   "execution_count": 8,
   "metadata": {},
   "outputs": [],
   "source": [
    "sample_windows.drop_duplicates(inplace=True)"
   ]
  },
  {
   "cell_type": "code",
   "execution_count": 9,
   "metadata": {},
   "outputs": [
    {
     "data": {
      "text/plain": [
       "(1813157, 5)"
      ]
     },
     "execution_count": 9,
     "metadata": {},
     "output_type": "execute_result"
    }
   ],
   "source": [
    "sample_windows.shape"
   ]
  },
  {
   "cell_type": "markdown",
   "metadata": {},
   "source": [
    "#### 缺失值处理"
   ]
  },
  {
   "cell_type": "code",
   "execution_count": 10,
   "metadata": {},
   "outputs": [
    {
     "data": {
      "text/plain": [
       "0.08245121630393838"
      ]
     },
     "execution_count": 10,
     "metadata": {},
     "output_type": "execute_result"
    }
   ],
   "source": [
    "np.mean(sample_windows.isnull().sum(axis=1)==4)"
   ]
  },
  {
   "cell_type": "markdown",
   "metadata": {},
   "source": [
    "后四列的缺失值在同一行，删除缺失值所在行"
   ]
  },
  {
   "cell_type": "code",
   "execution_count": 11,
   "metadata": {},
   "outputs": [
    {
     "name": "stdout",
     "output_type": "stream",
     "text": [
      "(1663660, 5)\n"
     ]
    },
    {
     "data": {
      "text/plain": [
       "CID           0\n",
       "STAGE_BEF     0\n",
       "STAGE_AFT     0\n",
       "START_DATE    0\n",
       "CLOSE_DATE    0\n",
       "dtype: int64"
      ]
     },
     "execution_count": 11,
     "metadata": {},
     "output_type": "execute_result"
    }
   ],
   "source": [
    "sample_windows.dropna(inplace=True)#dropna默认删除包含缺失值的所有行\n",
    "print(sample_windows.shape)\n",
    "sample_windows.isnull().sum()"
   ]
  },
  {
   "cell_type": "markdown",
   "metadata": {},
   "source": [
    "#### 异常值处理"
   ]
  },
  {
   "cell_type": "code",
   "execution_count": 12,
   "metadata": {},
   "outputs": [],
   "source": [
    "sample_windows.CLOSE_DATE.replace({0.:20180531.},inplace=True)"
   ]
  },
  {
   "cell_type": "code",
   "execution_count": 13,
   "metadata": {},
   "outputs": [
    {
     "data": {
      "text/html": [
       "<div>\n",
       "<style scoped>\n",
       "    .dataframe tbody tr th:only-of-type {\n",
       "        vertical-align: middle;\n",
       "    }\n",
       "\n",
       "    .dataframe tbody tr th {\n",
       "        vertical-align: top;\n",
       "    }\n",
       "\n",
       "    .dataframe thead th {\n",
       "        text-align: right;\n",
       "    }\n",
       "</style>\n",
       "<table border=\"1\" class=\"dataframe\">\n",
       "  <thead>\n",
       "    <tr style=\"text-align: right;\">\n",
       "      <th></th>\n",
       "      <th>CID</th>\n",
       "      <th>STAGE_BEF</th>\n",
       "      <th>STAGE_AFT</th>\n",
       "      <th>START_DATE</th>\n",
       "      <th>CLOSE_DATE</th>\n",
       "    </tr>\n",
       "  </thead>\n",
       "  <tbody>\n",
       "    <tr>\n",
       "      <th>count</th>\n",
       "      <td>1663660</td>\n",
       "      <td>1663660</td>\n",
       "      <td>1663660</td>\n",
       "      <td>1.663660e+06</td>\n",
       "      <td>1.663660e+06</td>\n",
       "    </tr>\n",
       "    <tr>\n",
       "      <th>unique</th>\n",
       "      <td>242073</td>\n",
       "      <td>10</td>\n",
       "      <td>10</td>\n",
       "      <td>NaN</td>\n",
       "      <td>NaN</td>\n",
       "    </tr>\n",
       "    <tr>\n",
       "      <th>top</th>\n",
       "      <td>CID0373971</td>\n",
       "      <td></td>\n",
       "      <td>M0</td>\n",
       "      <td>NaN</td>\n",
       "      <td>NaN</td>\n",
       "    </tr>\n",
       "    <tr>\n",
       "      <th>freq</th>\n",
       "      <td>74</td>\n",
       "      <td>1107267</td>\n",
       "      <td>1107267</td>\n",
       "      <td>NaN</td>\n",
       "      <td>NaN</td>\n",
       "    </tr>\n",
       "    <tr>\n",
       "      <th>mean</th>\n",
       "      <td>NaN</td>\n",
       "      <td>NaN</td>\n",
       "      <td>NaN</td>\n",
       "      <td>2.017035e+07</td>\n",
       "      <td>2.017052e+07</td>\n",
       "    </tr>\n",
       "    <tr>\n",
       "      <th>std</th>\n",
       "      <td>NaN</td>\n",
       "      <td>NaN</td>\n",
       "      <td>NaN</td>\n",
       "      <td>8.220957e+03</td>\n",
       "      <td>8.251640e+03</td>\n",
       "    </tr>\n",
       "    <tr>\n",
       "      <th>min</th>\n",
       "      <td>NaN</td>\n",
       "      <td>NaN</td>\n",
       "      <td>NaN</td>\n",
       "      <td>2.015030e+07</td>\n",
       "      <td>2.015030e+07</td>\n",
       "    </tr>\n",
       "    <tr>\n",
       "      <th>25%</th>\n",
       "      <td>NaN</td>\n",
       "      <td>NaN</td>\n",
       "      <td>NaN</td>\n",
       "      <td>2.016120e+07</td>\n",
       "      <td>2.016121e+07</td>\n",
       "    </tr>\n",
       "    <tr>\n",
       "      <th>50%</th>\n",
       "      <td>NaN</td>\n",
       "      <td>NaN</td>\n",
       "      <td>NaN</td>\n",
       "      <td>2.017080e+07</td>\n",
       "      <td>2.017080e+07</td>\n",
       "    </tr>\n",
       "    <tr>\n",
       "      <th>75%</th>\n",
       "      <td>NaN</td>\n",
       "      <td>NaN</td>\n",
       "      <td>NaN</td>\n",
       "      <td>2.018010e+07</td>\n",
       "      <td>2.018013e+07</td>\n",
       "    </tr>\n",
       "    <tr>\n",
       "      <th>max</th>\n",
       "      <td>NaN</td>\n",
       "      <td>NaN</td>\n",
       "      <td>NaN</td>\n",
       "      <td>2.018053e+07</td>\n",
       "      <td>2.018053e+07</td>\n",
       "    </tr>\n",
       "  </tbody>\n",
       "</table>\n",
       "</div>"
      ],
      "text/plain": [
       "               CID STAGE_BEF STAGE_AFT    START_DATE    CLOSE_DATE\n",
       "count      1663660   1663660   1663660  1.663660e+06  1.663660e+06\n",
       "unique      242073        10        10           NaN           NaN\n",
       "top     CID0373971                  M0           NaN           NaN\n",
       "freq            74   1107267   1107267           NaN           NaN\n",
       "mean           NaN       NaN       NaN  2.017035e+07  2.017052e+07\n",
       "std            NaN       NaN       NaN  8.220957e+03  8.251640e+03\n",
       "min            NaN       NaN       NaN  2.015030e+07  2.015030e+07\n",
       "25%            NaN       NaN       NaN  2.016120e+07  2.016121e+07\n",
       "50%            NaN       NaN       NaN  2.017080e+07  2.017080e+07\n",
       "75%            NaN       NaN       NaN  2.018010e+07  2.018013e+07\n",
       "max            NaN       NaN       NaN  2.018053e+07  2.018053e+07"
      ]
     },
     "execution_count": 13,
     "metadata": {},
     "output_type": "execute_result"
    }
   ],
   "source": [
    "sample_windows.describe(include='all')"
   ]
  },
  {
   "cell_type": "markdown",
   "metadata": {},
   "source": [
    "#### 生成衍生变量"
   ]
  },
  {
   "cell_type": "code",
   "execution_count": 14,
   "metadata": {},
   "outputs": [],
   "source": [
    "sample_windows[['START_MONTH','CLOSE_MONTH']]=sample_windows[['START_DATE','CLOSE_DATE']].apply(lambda x:x//100).astype(int)\n",
    "sample_windows['AFT_FLAG']=sample_windows['STAGE_AFT'].apply(lambda x:x[1:]).astype(int)"
   ]
  },
  {
   "cell_type": "code",
   "execution_count": 15,
   "metadata": {},
   "outputs": [
    {
     "name": "stdout",
     "output_type": "stream",
     "text": [
      "<class 'pandas.core.frame.DataFrame'>\n",
      "Int64Index: 1663660 entries, 0 to 1813156\n",
      "Data columns (total 8 columns):\n",
      "CID            1663660 non-null object\n",
      "STAGE_BEF      1663660 non-null object\n",
      "STAGE_AFT      1663660 non-null object\n",
      "START_DATE     1663660 non-null float64\n",
      "CLOSE_DATE     1663660 non-null float64\n",
      "START_MONTH    1663660 non-null int32\n",
      "CLOSE_MONTH    1663660 non-null int32\n",
      "AFT_FLAG       1663660 non-null int32\n",
      "dtypes: float64(2), int32(3), object(3)\n",
      "memory usage: 95.2+ MB\n"
     ]
    }
   ],
   "source": [
    "sample_windows.info()"
   ]
  },
  {
   "cell_type": "code",
   "execution_count": 16,
   "metadata": {},
   "outputs": [
    {
     "data": {
      "text/html": [
       "<div>\n",
       "<style scoped>\n",
       "    .dataframe tbody tr th:only-of-type {\n",
       "        vertical-align: middle;\n",
       "    }\n",
       "\n",
       "    .dataframe tbody tr th {\n",
       "        vertical-align: top;\n",
       "    }\n",
       "\n",
       "    .dataframe thead th {\n",
       "        text-align: right;\n",
       "    }\n",
       "</style>\n",
       "<table border=\"1\" class=\"dataframe\">\n",
       "  <thead>\n",
       "    <tr style=\"text-align: right;\">\n",
       "      <th></th>\n",
       "      <th>CID</th>\n",
       "      <th>STAGE_BEF</th>\n",
       "      <th>STAGE_AFT</th>\n",
       "      <th>START_DATE</th>\n",
       "      <th>CLOSE_DATE</th>\n",
       "      <th>START_MONTH</th>\n",
       "      <th>CLOSE_MONTH</th>\n",
       "      <th>AFT_FLAG</th>\n",
       "    </tr>\n",
       "  </thead>\n",
       "  <tbody>\n",
       "    <tr>\n",
       "      <th>0</th>\n",
       "      <td>CID0128273</td>\n",
       "      <td></td>\n",
       "      <td>M0</td>\n",
       "      <td>20170701.0</td>\n",
       "      <td>20170703.0</td>\n",
       "      <td>201707</td>\n",
       "      <td>201707</td>\n",
       "      <td>0</td>\n",
       "    </tr>\n",
       "  </tbody>\n",
       "</table>\n",
       "</div>"
      ],
      "text/plain": [
       "          CID STAGE_BEF STAGE_AFT  START_DATE  CLOSE_DATE  START_MONTH  \\\n",
       "0  CID0128273                  M0  20170701.0  20170703.0       201707   \n",
       "\n",
       "   CLOSE_MONTH  AFT_FLAG  \n",
       "0       201707         0  "
      ]
     },
     "execution_count": 16,
     "metadata": {},
     "output_type": "execute_result"
    }
   ],
   "source": [
    "sample_windows.head(1)"
   ]
  },
  {
   "cell_type": "markdown",
   "metadata": {},
   "source": [
    "### 构建矩阵"
   ]
  },
  {
   "cell_type": "markdown",
   "metadata": {},
   "source": [
    "#### 生成逾期状态数据框"
   ]
  },
  {
   "cell_type": "code",
   "execution_count": 17,
   "metadata": {},
   "outputs": [],
   "source": [
    "overdue=sample_windows.iloc[:,[0,5,7]].rename(columns={'START_MONTH':'CLOSE_MONTH'}).append(sample_windows.iloc[:,[0,6,7]],ignore_index=True,sort=False)"
   ]
  },
  {
   "cell_type": "code",
   "execution_count": 18,
   "metadata": {},
   "outputs": [
    {
     "data": {
      "text/html": [
       "<div>\n",
       "<style scoped>\n",
       "    .dataframe tbody tr th:only-of-type {\n",
       "        vertical-align: middle;\n",
       "    }\n",
       "\n",
       "    .dataframe tbody tr th {\n",
       "        vertical-align: top;\n",
       "    }\n",
       "\n",
       "    .dataframe thead th {\n",
       "        text-align: right;\n",
       "    }\n",
       "</style>\n",
       "<table border=\"1\" class=\"dataframe\">\n",
       "  <thead>\n",
       "    <tr style=\"text-align: right;\">\n",
       "      <th></th>\n",
       "      <th>CID</th>\n",
       "      <th>CLOSE_MONTH</th>\n",
       "      <th>AFT_FLAG</th>\n",
       "    </tr>\n",
       "  </thead>\n",
       "  <tbody>\n",
       "    <tr>\n",
       "      <th>3327315</th>\n",
       "      <td>CID0319068</td>\n",
       "      <td>201705</td>\n",
       "      <td>0</td>\n",
       "    </tr>\n",
       "    <tr>\n",
       "      <th>3327316</th>\n",
       "      <td>CID0246604</td>\n",
       "      <td>201803</td>\n",
       "      <td>0</td>\n",
       "    </tr>\n",
       "    <tr>\n",
       "      <th>3327317</th>\n",
       "      <td>CID0083781</td>\n",
       "      <td>201710</td>\n",
       "      <td>0</td>\n",
       "    </tr>\n",
       "    <tr>\n",
       "      <th>3327318</th>\n",
       "      <td>CID0358959</td>\n",
       "      <td>201805</td>\n",
       "      <td>0</td>\n",
       "    </tr>\n",
       "    <tr>\n",
       "      <th>3327319</th>\n",
       "      <td>CID0060406</td>\n",
       "      <td>201805</td>\n",
       "      <td>0</td>\n",
       "    </tr>\n",
       "  </tbody>\n",
       "</table>\n",
       "</div>"
      ],
      "text/plain": [
       "                CID  CLOSE_MONTH  AFT_FLAG\n",
       "3327315  CID0319068       201705         0\n",
       "3327316  CID0246604       201803         0\n",
       "3327317  CID0083781       201710         0\n",
       "3327318  CID0358959       201805         0\n",
       "3327319  CID0060406       201805         0"
      ]
     },
     "execution_count": 18,
     "metadata": {},
     "output_type": "execute_result"
    }
   ],
   "source": [
    "overdue.tail()"
   ]
  },
  {
   "cell_type": "code",
   "execution_count": 19,
   "metadata": {},
   "outputs": [
    {
     "data": {
      "text/plain": [
       "(3327320, 3)"
      ]
     },
     "execution_count": 19,
     "metadata": {},
     "output_type": "execute_result"
    }
   ],
   "source": [
    "overdue.shape"
   ]
  },
  {
   "cell_type": "markdown",
   "metadata": {},
   "source": [
    "#### 生成时间数据框"
   ]
  },
  {
   "cell_type": "code",
   "execution_count": 20,
   "metadata": {},
   "outputs": [],
   "source": [
    "overdue=overdue.sort_values(by=['CID','CLOSE_MONTH','AFT_FLAG']).drop_duplicates(['CID','CLOSE_MONTH'],keep='last')"
   ]
  },
  {
   "cell_type": "code",
   "execution_count": 21,
   "metadata": {},
   "outputs": [
    {
     "data": {
      "text/plain": [
       "(1266934, 3)"
      ]
     },
     "execution_count": 21,
     "metadata": {},
     "output_type": "execute_result"
    }
   ],
   "source": [
    "overdue.shape"
   ]
  },
  {
   "cell_type": "code",
   "execution_count": 22,
   "metadata": {},
   "outputs": [],
   "source": [
    "overdue=overdue.set_index(['CID','CLOSE_MONTH']).unstack(1)"
   ]
  },
  {
   "cell_type": "code",
   "execution_count": 23,
   "metadata": {},
   "outputs": [
    {
     "name": "stdout",
     "output_type": "stream",
     "text": [
      "(242073, 39)\n"
     ]
    },
    {
     "data": {
      "text/html": [
       "<div>\n",
       "<style scoped>\n",
       "    .dataframe tbody tr th:only-of-type {\n",
       "        vertical-align: middle;\n",
       "    }\n",
       "\n",
       "    .dataframe tbody tr th {\n",
       "        vertical-align: top;\n",
       "    }\n",
       "\n",
       "    .dataframe thead tr th {\n",
       "        text-align: left;\n",
       "    }\n",
       "\n",
       "    .dataframe thead tr:last-of-type th {\n",
       "        text-align: right;\n",
       "    }\n",
       "</style>\n",
       "<table border=\"1\" class=\"dataframe\">\n",
       "  <thead>\n",
       "    <tr>\n",
       "      <th></th>\n",
       "      <th colspan=\"39\" halign=\"left\">AFT_FLAG</th>\n",
       "    </tr>\n",
       "    <tr>\n",
       "      <th>CLOSE_MONTH</th>\n",
       "      <th>201503</th>\n",
       "      <th>201504</th>\n",
       "      <th>201505</th>\n",
       "      <th>201506</th>\n",
       "      <th>201507</th>\n",
       "      <th>201508</th>\n",
       "      <th>201509</th>\n",
       "      <th>201510</th>\n",
       "      <th>201511</th>\n",
       "      <th>201512</th>\n",
       "      <th>201601</th>\n",
       "      <th>201602</th>\n",
       "      <th>201603</th>\n",
       "      <th>201604</th>\n",
       "      <th>201605</th>\n",
       "      <th>201606</th>\n",
       "      <th>201607</th>\n",
       "      <th>201608</th>\n",
       "      <th>201609</th>\n",
       "      <th>201610</th>\n",
       "      <th>201611</th>\n",
       "      <th>201612</th>\n",
       "      <th>201701</th>\n",
       "      <th>201702</th>\n",
       "      <th>201703</th>\n",
       "      <th>201704</th>\n",
       "      <th>201705</th>\n",
       "      <th>201706</th>\n",
       "      <th>201707</th>\n",
       "      <th>201708</th>\n",
       "      <th>201709</th>\n",
       "      <th>201710</th>\n",
       "      <th>201711</th>\n",
       "      <th>201712</th>\n",
       "      <th>201801</th>\n",
       "      <th>201802</th>\n",
       "      <th>201803</th>\n",
       "      <th>201804</th>\n",
       "      <th>201805</th>\n",
       "    </tr>\n",
       "    <tr>\n",
       "      <th>CID</th>\n",
       "      <th></th>\n",
       "      <th></th>\n",
       "      <th></th>\n",
       "      <th></th>\n",
       "      <th></th>\n",
       "      <th></th>\n",
       "      <th></th>\n",
       "      <th></th>\n",
       "      <th></th>\n",
       "      <th></th>\n",
       "      <th></th>\n",
       "      <th></th>\n",
       "      <th></th>\n",
       "      <th></th>\n",
       "      <th></th>\n",
       "      <th></th>\n",
       "      <th></th>\n",
       "      <th></th>\n",
       "      <th></th>\n",
       "      <th></th>\n",
       "      <th></th>\n",
       "      <th></th>\n",
       "      <th></th>\n",
       "      <th></th>\n",
       "      <th></th>\n",
       "      <th></th>\n",
       "      <th></th>\n",
       "      <th></th>\n",
       "      <th></th>\n",
       "      <th></th>\n",
       "      <th></th>\n",
       "      <th></th>\n",
       "      <th></th>\n",
       "      <th></th>\n",
       "      <th></th>\n",
       "      <th></th>\n",
       "      <th></th>\n",
       "      <th></th>\n",
       "      <th></th>\n",
       "    </tr>\n",
       "  </thead>\n",
       "  <tbody>\n",
       "    <tr>\n",
       "      <th>CID0000000</th>\n",
       "      <td>NaN</td>\n",
       "      <td>NaN</td>\n",
       "      <td>NaN</td>\n",
       "      <td>NaN</td>\n",
       "      <td>NaN</td>\n",
       "      <td>NaN</td>\n",
       "      <td>NaN</td>\n",
       "      <td>NaN</td>\n",
       "      <td>NaN</td>\n",
       "      <td>NaN</td>\n",
       "      <td>0.0</td>\n",
       "      <td>NaN</td>\n",
       "      <td>NaN</td>\n",
       "      <td>NaN</td>\n",
       "      <td>NaN</td>\n",
       "      <td>NaN</td>\n",
       "      <td>NaN</td>\n",
       "      <td>NaN</td>\n",
       "      <td>NaN</td>\n",
       "      <td>NaN</td>\n",
       "      <td>NaN</td>\n",
       "      <td>NaN</td>\n",
       "      <td>NaN</td>\n",
       "      <td>NaN</td>\n",
       "      <td>NaN</td>\n",
       "      <td>NaN</td>\n",
       "      <td>NaN</td>\n",
       "      <td>NaN</td>\n",
       "      <td>NaN</td>\n",
       "      <td>NaN</td>\n",
       "      <td>NaN</td>\n",
       "      <td>NaN</td>\n",
       "      <td>NaN</td>\n",
       "      <td>NaN</td>\n",
       "      <td>NaN</td>\n",
       "      <td>NaN</td>\n",
       "      <td>NaN</td>\n",
       "      <td>NaN</td>\n",
       "      <td>NaN</td>\n",
       "    </tr>\n",
       "    <tr>\n",
       "      <th>CID0000001</th>\n",
       "      <td>NaN</td>\n",
       "      <td>NaN</td>\n",
       "      <td>NaN</td>\n",
       "      <td>NaN</td>\n",
       "      <td>NaN</td>\n",
       "      <td>NaN</td>\n",
       "      <td>NaN</td>\n",
       "      <td>0.0</td>\n",
       "      <td>NaN</td>\n",
       "      <td>0.0</td>\n",
       "      <td>NaN</td>\n",
       "      <td>NaN</td>\n",
       "      <td>0.0</td>\n",
       "      <td>NaN</td>\n",
       "      <td>1.0</td>\n",
       "      <td>0.0</td>\n",
       "      <td>0.0</td>\n",
       "      <td>NaN</td>\n",
       "      <td>NaN</td>\n",
       "      <td>NaN</td>\n",
       "      <td>NaN</td>\n",
       "      <td>NaN</td>\n",
       "      <td>NaN</td>\n",
       "      <td>NaN</td>\n",
       "      <td>NaN</td>\n",
       "      <td>0.0</td>\n",
       "      <td>0.0</td>\n",
       "      <td>NaN</td>\n",
       "      <td>NaN</td>\n",
       "      <td>NaN</td>\n",
       "      <td>NaN</td>\n",
       "      <td>NaN</td>\n",
       "      <td>NaN</td>\n",
       "      <td>NaN</td>\n",
       "      <td>NaN</td>\n",
       "      <td>NaN</td>\n",
       "      <td>NaN</td>\n",
       "      <td>NaN</td>\n",
       "      <td>NaN</td>\n",
       "    </tr>\n",
       "    <tr>\n",
       "      <th>CID0000003</th>\n",
       "      <td>NaN</td>\n",
       "      <td>NaN</td>\n",
       "      <td>NaN</td>\n",
       "      <td>NaN</td>\n",
       "      <td>NaN</td>\n",
       "      <td>NaN</td>\n",
       "      <td>NaN</td>\n",
       "      <td>NaN</td>\n",
       "      <td>NaN</td>\n",
       "      <td>NaN</td>\n",
       "      <td>NaN</td>\n",
       "      <td>NaN</td>\n",
       "      <td>NaN</td>\n",
       "      <td>NaN</td>\n",
       "      <td>NaN</td>\n",
       "      <td>NaN</td>\n",
       "      <td>NaN</td>\n",
       "      <td>NaN</td>\n",
       "      <td>NaN</td>\n",
       "      <td>NaN</td>\n",
       "      <td>NaN</td>\n",
       "      <td>NaN</td>\n",
       "      <td>NaN</td>\n",
       "      <td>NaN</td>\n",
       "      <td>NaN</td>\n",
       "      <td>NaN</td>\n",
       "      <td>NaN</td>\n",
       "      <td>NaN</td>\n",
       "      <td>0.0</td>\n",
       "      <td>NaN</td>\n",
       "      <td>NaN</td>\n",
       "      <td>NaN</td>\n",
       "      <td>NaN</td>\n",
       "      <td>0.0</td>\n",
       "      <td>0.0</td>\n",
       "      <td>0.0</td>\n",
       "      <td>NaN</td>\n",
       "      <td>NaN</td>\n",
       "      <td>NaN</td>\n",
       "    </tr>\n",
       "    <tr>\n",
       "      <th>CID0000004</th>\n",
       "      <td>NaN</td>\n",
       "      <td>NaN</td>\n",
       "      <td>NaN</td>\n",
       "      <td>NaN</td>\n",
       "      <td>NaN</td>\n",
       "      <td>NaN</td>\n",
       "      <td>NaN</td>\n",
       "      <td>0.0</td>\n",
       "      <td>NaN</td>\n",
       "      <td>0.0</td>\n",
       "      <td>NaN</td>\n",
       "      <td>NaN</td>\n",
       "      <td>0.0</td>\n",
       "      <td>NaN</td>\n",
       "      <td>0.0</td>\n",
       "      <td>NaN</td>\n",
       "      <td>NaN</td>\n",
       "      <td>NaN</td>\n",
       "      <td>0.0</td>\n",
       "      <td>NaN</td>\n",
       "      <td>0.0</td>\n",
       "      <td>0.0</td>\n",
       "      <td>0.0</td>\n",
       "      <td>NaN</td>\n",
       "      <td>NaN</td>\n",
       "      <td>NaN</td>\n",
       "      <td>NaN</td>\n",
       "      <td>0.0</td>\n",
       "      <td>1.0</td>\n",
       "      <td>0.0</td>\n",
       "      <td>NaN</td>\n",
       "      <td>0.0</td>\n",
       "      <td>NaN</td>\n",
       "      <td>1.0</td>\n",
       "      <td>0.0</td>\n",
       "      <td>0.0</td>\n",
       "      <td>0.0</td>\n",
       "      <td>0.0</td>\n",
       "      <td>NaN</td>\n",
       "    </tr>\n",
       "    <tr>\n",
       "      <th>CID0000006</th>\n",
       "      <td>NaN</td>\n",
       "      <td>NaN</td>\n",
       "      <td>NaN</td>\n",
       "      <td>NaN</td>\n",
       "      <td>NaN</td>\n",
       "      <td>NaN</td>\n",
       "      <td>NaN</td>\n",
       "      <td>NaN</td>\n",
       "      <td>NaN</td>\n",
       "      <td>NaN</td>\n",
       "      <td>NaN</td>\n",
       "      <td>NaN</td>\n",
       "      <td>NaN</td>\n",
       "      <td>NaN</td>\n",
       "      <td>NaN</td>\n",
       "      <td>NaN</td>\n",
       "      <td>NaN</td>\n",
       "      <td>NaN</td>\n",
       "      <td>0.0</td>\n",
       "      <td>NaN</td>\n",
       "      <td>NaN</td>\n",
       "      <td>NaN</td>\n",
       "      <td>NaN</td>\n",
       "      <td>NaN</td>\n",
       "      <td>NaN</td>\n",
       "      <td>NaN</td>\n",
       "      <td>NaN</td>\n",
       "      <td>NaN</td>\n",
       "      <td>NaN</td>\n",
       "      <td>NaN</td>\n",
       "      <td>NaN</td>\n",
       "      <td>NaN</td>\n",
       "      <td>NaN</td>\n",
       "      <td>NaN</td>\n",
       "      <td>NaN</td>\n",
       "      <td>NaN</td>\n",
       "      <td>NaN</td>\n",
       "      <td>NaN</td>\n",
       "      <td>0.0</td>\n",
       "    </tr>\n",
       "  </tbody>\n",
       "</table>\n",
       "</div>"
      ],
      "text/plain": [
       "            AFT_FLAG                                                          \\\n",
       "CLOSE_MONTH   201503 201504 201505 201506 201507 201508 201509 201510 201511   \n",
       "CID                                                                            \n",
       "CID0000000       NaN    NaN    NaN    NaN    NaN    NaN    NaN    NaN    NaN   \n",
       "CID0000001       NaN    NaN    NaN    NaN    NaN    NaN    NaN    0.0    NaN   \n",
       "CID0000003       NaN    NaN    NaN    NaN    NaN    NaN    NaN    NaN    NaN   \n",
       "CID0000004       NaN    NaN    NaN    NaN    NaN    NaN    NaN    0.0    NaN   \n",
       "CID0000006       NaN    NaN    NaN    NaN    NaN    NaN    NaN    NaN    NaN   \n",
       "\n",
       "                                                                            \\\n",
       "CLOSE_MONTH 201512 201601 201602 201603 201604 201605 201606 201607 201608   \n",
       "CID                                                                          \n",
       "CID0000000     NaN    0.0    NaN    NaN    NaN    NaN    NaN    NaN    NaN   \n",
       "CID0000001     0.0    NaN    NaN    0.0    NaN    1.0    0.0    0.0    NaN   \n",
       "CID0000003     NaN    NaN    NaN    NaN    NaN    NaN    NaN    NaN    NaN   \n",
       "CID0000004     0.0    NaN    NaN    0.0    NaN    0.0    NaN    NaN    NaN   \n",
       "CID0000006     NaN    NaN    NaN    NaN    NaN    NaN    NaN    NaN    NaN   \n",
       "\n",
       "                                                                            \\\n",
       "CLOSE_MONTH 201609 201610 201611 201612 201701 201702 201703 201704 201705   \n",
       "CID                                                                          \n",
       "CID0000000     NaN    NaN    NaN    NaN    NaN    NaN    NaN    NaN    NaN   \n",
       "CID0000001     NaN    NaN    NaN    NaN    NaN    NaN    NaN    0.0    0.0   \n",
       "CID0000003     NaN    NaN    NaN    NaN    NaN    NaN    NaN    NaN    NaN   \n",
       "CID0000004     0.0    NaN    0.0    0.0    0.0    NaN    NaN    NaN    NaN   \n",
       "CID0000006     0.0    NaN    NaN    NaN    NaN    NaN    NaN    NaN    NaN   \n",
       "\n",
       "                                                                            \\\n",
       "CLOSE_MONTH 201706 201707 201708 201709 201710 201711 201712 201801 201802   \n",
       "CID                                                                          \n",
       "CID0000000     NaN    NaN    NaN    NaN    NaN    NaN    NaN    NaN    NaN   \n",
       "CID0000001     NaN    NaN    NaN    NaN    NaN    NaN    NaN    NaN    NaN   \n",
       "CID0000003     NaN    0.0    NaN    NaN    NaN    NaN    0.0    0.0    0.0   \n",
       "CID0000004     0.0    1.0    0.0    NaN    0.0    NaN    1.0    0.0    0.0   \n",
       "CID0000006     NaN    NaN    NaN    NaN    NaN    NaN    NaN    NaN    NaN   \n",
       "\n",
       "                                  \n",
       "CLOSE_MONTH 201803 201804 201805  \n",
       "CID                               \n",
       "CID0000000     NaN    NaN    NaN  \n",
       "CID0000001     NaN    NaN    NaN  \n",
       "CID0000003     NaN    NaN    NaN  \n",
       "CID0000004     0.0    0.0    NaN  \n",
       "CID0000006     NaN    NaN    0.0  "
      ]
     },
     "execution_count": 23,
     "metadata": {},
     "output_type": "execute_result"
    }
   ],
   "source": [
    "print(overdue.shape)\n",
    "overdue.head()"
   ]
  },
  {
   "cell_type": "code",
   "execution_count": 24,
   "metadata": {},
   "outputs": [
    {
     "data": {
      "text/plain": [
       "MultiIndex(levels=[['AFT_FLAG'], [201503, 201504, 201505, 201506, 201507, 201508, 201509, 201510, 201511, 201512, 201601, 201602, 201603, 201604, 201605, 201606, 201607, 201608, 201609, 201610, 201611, 201612, 201701, 201702, 201703, 201704, 201705, 201706, 201707, 201708, 201709, 201710, 201711, 201712, 201801, 201802, 201803, 201804, 201805]],\n",
       "           codes=[[0, 0, 0, 0, 0, 0, 0, 0, 0, 0, 0, 0, 0, 0, 0, 0, 0, 0, 0, 0, 0, 0, 0, 0, 0, 0, 0, 0, 0, 0, 0, 0, 0, 0, 0, 0, 0, 0, 0], [0, 1, 2, 3, 4, 5, 6, 7, 8, 9, 10, 11, 12, 13, 14, 15, 16, 17, 18, 19, 20, 21, 22, 23, 24, 25, 26, 27, 28, 29, 30, 31, 32, 33, 34, 35, 36, 37, 38]],\n",
       "           names=[None, 'CLOSE_MONTH'])"
      ]
     },
     "execution_count": 24,
     "metadata": {},
     "output_type": "execute_result"
    }
   ],
   "source": [
    "overdue.columns"
   ]
  },
  {
   "cell_type": "code",
   "execution_count": 25,
   "metadata": {},
   "outputs": [],
   "source": [
    "overdue.columns=overdue.columns.droplevel()"
   ]
  },
  {
   "cell_type": "code",
   "execution_count": 26,
   "metadata": {
    "scrolled": true
   },
   "outputs": [
    {
     "data": {
      "text/html": [
       "<div>\n",
       "<style scoped>\n",
       "    .dataframe tbody tr th:only-of-type {\n",
       "        vertical-align: middle;\n",
       "    }\n",
       "\n",
       "    .dataframe tbody tr th {\n",
       "        vertical-align: top;\n",
       "    }\n",
       "\n",
       "    .dataframe thead th {\n",
       "        text-align: right;\n",
       "    }\n",
       "</style>\n",
       "<table border=\"1\" class=\"dataframe\">\n",
       "  <thead>\n",
       "    <tr style=\"text-align: right;\">\n",
       "      <th>CLOSE_MONTH</th>\n",
       "      <th>201503</th>\n",
       "      <th>201504</th>\n",
       "      <th>201505</th>\n",
       "      <th>201506</th>\n",
       "      <th>201507</th>\n",
       "      <th>201508</th>\n",
       "      <th>201509</th>\n",
       "      <th>201510</th>\n",
       "      <th>201511</th>\n",
       "      <th>201512</th>\n",
       "      <th>201601</th>\n",
       "      <th>201602</th>\n",
       "      <th>201603</th>\n",
       "      <th>201604</th>\n",
       "      <th>201605</th>\n",
       "      <th>201606</th>\n",
       "      <th>201607</th>\n",
       "      <th>201608</th>\n",
       "      <th>201609</th>\n",
       "      <th>201610</th>\n",
       "      <th>201611</th>\n",
       "      <th>201612</th>\n",
       "      <th>201701</th>\n",
       "      <th>201702</th>\n",
       "      <th>201703</th>\n",
       "      <th>201704</th>\n",
       "      <th>201705</th>\n",
       "      <th>201706</th>\n",
       "      <th>201707</th>\n",
       "      <th>201708</th>\n",
       "      <th>201709</th>\n",
       "      <th>201710</th>\n",
       "      <th>201711</th>\n",
       "      <th>201712</th>\n",
       "      <th>201801</th>\n",
       "      <th>201802</th>\n",
       "      <th>201803</th>\n",
       "      <th>201804</th>\n",
       "      <th>201805</th>\n",
       "    </tr>\n",
       "    <tr>\n",
       "      <th>CID</th>\n",
       "      <th></th>\n",
       "      <th></th>\n",
       "      <th></th>\n",
       "      <th></th>\n",
       "      <th></th>\n",
       "      <th></th>\n",
       "      <th></th>\n",
       "      <th></th>\n",
       "      <th></th>\n",
       "      <th></th>\n",
       "      <th></th>\n",
       "      <th></th>\n",
       "      <th></th>\n",
       "      <th></th>\n",
       "      <th></th>\n",
       "      <th></th>\n",
       "      <th></th>\n",
       "      <th></th>\n",
       "      <th></th>\n",
       "      <th></th>\n",
       "      <th></th>\n",
       "      <th></th>\n",
       "      <th></th>\n",
       "      <th></th>\n",
       "      <th></th>\n",
       "      <th></th>\n",
       "      <th></th>\n",
       "      <th></th>\n",
       "      <th></th>\n",
       "      <th></th>\n",
       "      <th></th>\n",
       "      <th></th>\n",
       "      <th></th>\n",
       "      <th></th>\n",
       "      <th></th>\n",
       "      <th></th>\n",
       "      <th></th>\n",
       "      <th></th>\n",
       "      <th></th>\n",
       "    </tr>\n",
       "  </thead>\n",
       "  <tbody>\n",
       "    <tr>\n",
       "      <th>CID0000000</th>\n",
       "      <td>NaN</td>\n",
       "      <td>NaN</td>\n",
       "      <td>NaN</td>\n",
       "      <td>NaN</td>\n",
       "      <td>NaN</td>\n",
       "      <td>NaN</td>\n",
       "      <td>NaN</td>\n",
       "      <td>NaN</td>\n",
       "      <td>NaN</td>\n",
       "      <td>NaN</td>\n",
       "      <td>0.0</td>\n",
       "      <td>NaN</td>\n",
       "      <td>NaN</td>\n",
       "      <td>NaN</td>\n",
       "      <td>NaN</td>\n",
       "      <td>NaN</td>\n",
       "      <td>NaN</td>\n",
       "      <td>NaN</td>\n",
       "      <td>NaN</td>\n",
       "      <td>NaN</td>\n",
       "      <td>NaN</td>\n",
       "      <td>NaN</td>\n",
       "      <td>NaN</td>\n",
       "      <td>NaN</td>\n",
       "      <td>NaN</td>\n",
       "      <td>NaN</td>\n",
       "      <td>NaN</td>\n",
       "      <td>NaN</td>\n",
       "      <td>NaN</td>\n",
       "      <td>NaN</td>\n",
       "      <td>NaN</td>\n",
       "      <td>NaN</td>\n",
       "      <td>NaN</td>\n",
       "      <td>NaN</td>\n",
       "      <td>NaN</td>\n",
       "      <td>NaN</td>\n",
       "      <td>NaN</td>\n",
       "      <td>NaN</td>\n",
       "      <td>NaN</td>\n",
       "    </tr>\n",
       "  </tbody>\n",
       "</table>\n",
       "</div>"
      ],
      "text/plain": [
       "CLOSE_MONTH  201503  201504  201505  201506  201507  201508  201509  201510  \\\n",
       "CID                                                                           \n",
       "CID0000000      NaN     NaN     NaN     NaN     NaN     NaN     NaN     NaN   \n",
       "\n",
       "CLOSE_MONTH  201511  201512  201601  201602  201603  201604  201605  201606  \\\n",
       "CID                                                                           \n",
       "CID0000000      NaN     NaN     0.0     NaN     NaN     NaN     NaN     NaN   \n",
       "\n",
       "CLOSE_MONTH  201607  201608  201609  201610  201611  201612  201701  201702  \\\n",
       "CID                                                                           \n",
       "CID0000000      NaN     NaN     NaN     NaN     NaN     NaN     NaN     NaN   \n",
       "\n",
       "CLOSE_MONTH  201703  201704  201705  201706  201707  201708  201709  201710  \\\n",
       "CID                                                                           \n",
       "CID0000000      NaN     NaN     NaN     NaN     NaN     NaN     NaN     NaN   \n",
       "\n",
       "CLOSE_MONTH  201711  201712  201801  201802  201803  201804  201805  \n",
       "CID                                                                  \n",
       "CID0000000      NaN     NaN     NaN     NaN     NaN     NaN     NaN  "
      ]
     },
     "execution_count": 26,
     "metadata": {},
     "output_type": "execute_result"
    }
   ],
   "source": [
    "overdue.head(1)"
   ]
  },
  {
   "cell_type": "code",
   "execution_count": 27,
   "metadata": {},
   "outputs": [
    {
     "data": {
      "text/plain": [
       "Int64Index([201503, 201504, 201505, 201506, 201507, 201508, 201509, 201510,\n",
       "            201511, 201512, 201601, 201602, 201603, 201604, 201605, 201606,\n",
       "            201607, 201608, 201609, 201610, 201611, 201612, 201701, 201702,\n",
       "            201703, 201704, 201705, 201706, 201707, 201708, 201709, 201710,\n",
       "            201711, 201712, 201801, 201802, 201803, 201804, 201805],\n",
       "           dtype='int64', name='CLOSE_MONTH')"
      ]
     },
     "execution_count": 27,
     "metadata": {},
     "output_type": "execute_result"
    }
   ],
   "source": [
    "overdue.columns"
   ]
  },
  {
   "cell_type": "code",
   "execution_count": 28,
   "metadata": {},
   "outputs": [
    {
     "data": {
      "text/plain": [
       "Int64Index([201504, 201505, 201506, 201507, 201508, 201509, 201510, 201511,\n",
       "            201512, 201601, 201602, 201603, 201604, 201605, 201606, 201607,\n",
       "            201608, 201609, 201610, 201611, 201612, 201701, 201702, 201703,\n",
       "            201704, 201705, 201706, 201707, 201708, 201709, 201710, 201711,\n",
       "            201712, 201801, 201802, 201803, 201804, 201805],\n",
       "           dtype='int64', name='CLOSE_MONTH')"
      ]
     },
     "execution_count": 28,
     "metadata": {},
     "output_type": "execute_result"
    }
   ],
   "source": [
    "overdue.columns[1:]"
   ]
  },
  {
   "cell_type": "markdown",
   "metadata": {},
   "source": [
    "#### 生成矩阵"
   ]
  },
  {
   "cell_type": "code",
   "execution_count": 29,
   "metadata": {},
   "outputs": [],
   "source": [
    "trans_mat=pd.DataFrame(data=0,index=range(0,10),columns=range(0,10))"
   ]
  },
  {
   "cell_type": "code",
   "execution_count": 30,
   "metadata": {},
   "outputs": [],
   "source": [
    "from collections import Counter\n",
    "counter=Counter()#初始化计数器"
   ]
  },
  {
   "cell_type": "code",
   "execution_count": 31,
   "metadata": {},
   "outputs": [],
   "source": [
    "#[*zip(overdue.columns,overdue.columns[1:])]"
   ]
  },
  {
   "cell_type": "code",
   "execution_count": 32,
   "metadata": {},
   "outputs": [],
   "source": [
    "#overdue.loc[select,[i,j]]"
   ]
  },
  {
   "cell_type": "code",
   "execution_count": 33,
   "metadata": {},
   "outputs": [],
   "source": [
    "for i,j in zip(overdue.columns,overdue.columns[1:]):\n",
    "    select=(overdue[i].notnull())&(overdue[j].notnull())\n",
    "    counter += Counter([tuple(x) for x in overdue.loc[select,[i,j]].values])"
   ]
  },
  {
   "cell_type": "code",
   "execution_count": 34,
   "metadata": {},
   "outputs": [
    {
     "data": {
      "text/plain": [
       "dict_items([((1.0, 0.0), 59218), ((0.0, 0.0), 218269), ((1.0, 1.0), 169811), ((0.0, 1.0), 78639), ((2.0, 2.0), 3775), ((2.0, 3.0), 17287), ((2.0, 1.0), 4061), ((1.0, 3.0), 9020), ((1.0, 2.0), 20351), ((3.0, 3.0), 1686), ((0.0, 2.0), 3232), ((3.0, 4.0), 22226), ((3.0, 0.0), 184), ((4.0, 5.0), 13634), ((2.0, 0.0), 556), ((5.0, 6.0), 14936), ((5.0, 5.0), 211), ((4.0, 4.0), 233), ((3.0, 2.0), 586), ((6.0, 6.0), 179), ((6.0, 7.0), 17223), ((3.0, 1.0), 1233), ((4.0, 1.0), 20), ((7.0, 8.0), 14262), ((8.0, 9.0), 12527), ((4.0, 2.0), 5), ((7.0, 7.0), 1292), ((2.0, 4.0), 7), ((9.0, 9.0), 247), ((8.0, 8.0), 98), ((4.0, 0.0), 1), ((3.0, 5.0), 446), ((5.0, 7.0), 911), ((6.0, 8.0), 9), ((4.0, 6.0), 2803), ((1.0, 6.0), 8), ((7.0, 9.0), 4), ((9.0, 7.0), 12), ((9.0, 8.0), 22), ((9.0, 5.0), 4), ((9.0, 6.0), 8), ((9.0, 3.0), 4), ((6.0, 3.0), 2), ((9.0, 1.0), 10), ((5.0, 2.0), 2), ((1.0, 5.0), 16), ((8.0, 7.0), 4), ((9.0, 2.0), 2), ((7.0, 6.0), 8), ((7.0, 1.0), 8), ((7.0, 4.0), 8), ((8.0, 0.0), 2), ((5.0, 1.0), 2), ((8.0, 6.0), 2), ((8.0, 1.0), 2), ((1.0, 7.0), 8), ((4.0, 7.0), 8), ((0.0, 8.0), 2), ((6.0, 9.0), 8), ((0.0, 9.0), 2), ((3.0, 9.0), 2), ((1.0, 9.0), 6), ((1.0, 8.0), 2)])"
      ]
     },
     "execution_count": 34,
     "metadata": {},
     "output_type": "execute_result"
    }
   ],
   "source": [
    "#查看生成的频数字典对应的元组\n",
    "counter.items()"
   ]
  },
  {
   "cell_type": "code",
   "execution_count": 35,
   "metadata": {},
   "outputs": [],
   "source": [
    "#将生成的频数对应到零矩阵中\n",
    "for key in counter.keys():\n",
    "    trans_mat.loc[key[0],key[1]]=counter[key]"
   ]
  },
  {
   "cell_type": "code",
   "execution_count": 36,
   "metadata": {},
   "outputs": [
    {
     "data": {
      "text/html": [
       "<div>\n",
       "<style scoped>\n",
       "    .dataframe tbody tr th:only-of-type {\n",
       "        vertical-align: middle;\n",
       "    }\n",
       "\n",
       "    .dataframe tbody tr th {\n",
       "        vertical-align: top;\n",
       "    }\n",
       "\n",
       "    .dataframe thead th {\n",
       "        text-align: right;\n",
       "    }\n",
       "</style>\n",
       "<table border=\"1\" class=\"dataframe\">\n",
       "  <thead>\n",
       "    <tr style=\"text-align: right;\">\n",
       "      <th></th>\n",
       "      <th>0</th>\n",
       "      <th>1</th>\n",
       "      <th>2</th>\n",
       "      <th>3</th>\n",
       "      <th>4</th>\n",
       "      <th>5</th>\n",
       "      <th>6</th>\n",
       "      <th>7</th>\n",
       "      <th>8</th>\n",
       "      <th>9</th>\n",
       "    </tr>\n",
       "  </thead>\n",
       "  <tbody>\n",
       "    <tr>\n",
       "      <th>0</th>\n",
       "      <td>218269</td>\n",
       "      <td>78639</td>\n",
       "      <td>3232</td>\n",
       "      <td>0</td>\n",
       "      <td>0</td>\n",
       "      <td>0</td>\n",
       "      <td>0</td>\n",
       "      <td>0</td>\n",
       "      <td>2</td>\n",
       "      <td>2</td>\n",
       "    </tr>\n",
       "    <tr>\n",
       "      <th>1</th>\n",
       "      <td>59218</td>\n",
       "      <td>169811</td>\n",
       "      <td>20351</td>\n",
       "      <td>9020</td>\n",
       "      <td>0</td>\n",
       "      <td>16</td>\n",
       "      <td>8</td>\n",
       "      <td>8</td>\n",
       "      <td>2</td>\n",
       "      <td>6</td>\n",
       "    </tr>\n",
       "    <tr>\n",
       "      <th>2</th>\n",
       "      <td>556</td>\n",
       "      <td>4061</td>\n",
       "      <td>3775</td>\n",
       "      <td>17287</td>\n",
       "      <td>7</td>\n",
       "      <td>0</td>\n",
       "      <td>0</td>\n",
       "      <td>0</td>\n",
       "      <td>0</td>\n",
       "      <td>0</td>\n",
       "    </tr>\n",
       "    <tr>\n",
       "      <th>3</th>\n",
       "      <td>184</td>\n",
       "      <td>1233</td>\n",
       "      <td>586</td>\n",
       "      <td>1686</td>\n",
       "      <td>22226</td>\n",
       "      <td>446</td>\n",
       "      <td>0</td>\n",
       "      <td>0</td>\n",
       "      <td>0</td>\n",
       "      <td>2</td>\n",
       "    </tr>\n",
       "    <tr>\n",
       "      <th>4</th>\n",
       "      <td>1</td>\n",
       "      <td>20</td>\n",
       "      <td>5</td>\n",
       "      <td>0</td>\n",
       "      <td>233</td>\n",
       "      <td>13634</td>\n",
       "      <td>2803</td>\n",
       "      <td>8</td>\n",
       "      <td>0</td>\n",
       "      <td>0</td>\n",
       "    </tr>\n",
       "    <tr>\n",
       "      <th>5</th>\n",
       "      <td>0</td>\n",
       "      <td>2</td>\n",
       "      <td>2</td>\n",
       "      <td>0</td>\n",
       "      <td>0</td>\n",
       "      <td>211</td>\n",
       "      <td>14936</td>\n",
       "      <td>911</td>\n",
       "      <td>0</td>\n",
       "      <td>0</td>\n",
       "    </tr>\n",
       "    <tr>\n",
       "      <th>6</th>\n",
       "      <td>0</td>\n",
       "      <td>0</td>\n",
       "      <td>0</td>\n",
       "      <td>2</td>\n",
       "      <td>0</td>\n",
       "      <td>0</td>\n",
       "      <td>179</td>\n",
       "      <td>17223</td>\n",
       "      <td>9</td>\n",
       "      <td>8</td>\n",
       "    </tr>\n",
       "    <tr>\n",
       "      <th>7</th>\n",
       "      <td>0</td>\n",
       "      <td>8</td>\n",
       "      <td>0</td>\n",
       "      <td>0</td>\n",
       "      <td>8</td>\n",
       "      <td>0</td>\n",
       "      <td>8</td>\n",
       "      <td>1292</td>\n",
       "      <td>14262</td>\n",
       "      <td>4</td>\n",
       "    </tr>\n",
       "    <tr>\n",
       "      <th>8</th>\n",
       "      <td>2</td>\n",
       "      <td>2</td>\n",
       "      <td>0</td>\n",
       "      <td>0</td>\n",
       "      <td>0</td>\n",
       "      <td>0</td>\n",
       "      <td>2</td>\n",
       "      <td>4</td>\n",
       "      <td>98</td>\n",
       "      <td>12527</td>\n",
       "    </tr>\n",
       "    <tr>\n",
       "      <th>9</th>\n",
       "      <td>0</td>\n",
       "      <td>10</td>\n",
       "      <td>2</td>\n",
       "      <td>4</td>\n",
       "      <td>0</td>\n",
       "      <td>4</td>\n",
       "      <td>8</td>\n",
       "      <td>12</td>\n",
       "      <td>22</td>\n",
       "      <td>247</td>\n",
       "    </tr>\n",
       "  </tbody>\n",
       "</table>\n",
       "</div>"
      ],
      "text/plain": [
       "        0       1      2      3      4      5      6      7      8      9\n",
       "0  218269   78639   3232      0      0      0      0      0      2      2\n",
       "1   59218  169811  20351   9020      0     16      8      8      2      6\n",
       "2     556    4061   3775  17287      7      0      0      0      0      0\n",
       "3     184    1233    586   1686  22226    446      0      0      0      2\n",
       "4       1      20      5      0    233  13634   2803      8      0      0\n",
       "5       0       2      2      0      0    211  14936    911      0      0\n",
       "6       0       0      0      2      0      0    179  17223      9      8\n",
       "7       0       8      0      0      8      0      8   1292  14262      4\n",
       "8       2       2      0      0      0      0      2      4     98  12527\n",
       "9       0      10      2      4      0      4      8     12     22    247"
      ]
     },
     "execution_count": 36,
     "metadata": {},
     "output_type": "execute_result"
    }
   ],
   "source": [
    "trans_mat"
   ]
  },
  {
   "cell_type": "code",
   "execution_count": 37,
   "metadata": {},
   "outputs": [],
   "source": [
    "trans_mat['all_count']=trans_mat.sum(axis=1)"
   ]
  },
  {
   "cell_type": "code",
   "execution_count": 38,
   "metadata": {},
   "outputs": [],
   "source": [
    "bad_count=[]\n",
    "for i in range(0,10):\n",
    "    bad_count.append(trans_mat.iloc[i,(i+1):10].sum())\n",
    "trans_mat['bad_count']=bad_count"
   ]
  },
  {
   "cell_type": "code",
   "execution_count": 39,
   "metadata": {},
   "outputs": [],
   "source": [
    "trans_mat['bad_ratio']=trans_mat['bad_count']/trans_mat['all_count']"
   ]
  },
  {
   "cell_type": "code",
   "execution_count": 40,
   "metadata": {},
   "outputs": [
    {
     "data": {
      "text/html": [
       "<div>\n",
       "<style scoped>\n",
       "    .dataframe tbody tr th:only-of-type {\n",
       "        vertical-align: middle;\n",
       "    }\n",
       "\n",
       "    .dataframe tbody tr th {\n",
       "        vertical-align: top;\n",
       "    }\n",
       "\n",
       "    .dataframe thead th {\n",
       "        text-align: right;\n",
       "    }\n",
       "</style>\n",
       "<table border=\"1\" class=\"dataframe\">\n",
       "  <thead>\n",
       "    <tr style=\"text-align: right;\">\n",
       "      <th></th>\n",
       "      <th>0</th>\n",
       "      <th>1</th>\n",
       "      <th>2</th>\n",
       "      <th>3</th>\n",
       "      <th>4</th>\n",
       "      <th>5</th>\n",
       "      <th>6</th>\n",
       "      <th>7</th>\n",
       "      <th>8</th>\n",
       "      <th>9</th>\n",
       "      <th>all_count</th>\n",
       "      <th>bad_count</th>\n",
       "      <th>bad_ratio</th>\n",
       "    </tr>\n",
       "  </thead>\n",
       "  <tbody>\n",
       "    <tr>\n",
       "      <th>0</th>\n",
       "      <td>218269</td>\n",
       "      <td>78639</td>\n",
       "      <td>3232</td>\n",
       "      <td>0</td>\n",
       "      <td>0</td>\n",
       "      <td>0</td>\n",
       "      <td>0</td>\n",
       "      <td>0</td>\n",
       "      <td>2</td>\n",
       "      <td>2</td>\n",
       "      <td>300144</td>\n",
       "      <td>81875</td>\n",
       "      <td>0.272786</td>\n",
       "    </tr>\n",
       "    <tr>\n",
       "      <th>1</th>\n",
       "      <td>59218</td>\n",
       "      <td>169811</td>\n",
       "      <td>20351</td>\n",
       "      <td>9020</td>\n",
       "      <td>0</td>\n",
       "      <td>16</td>\n",
       "      <td>8</td>\n",
       "      <td>8</td>\n",
       "      <td>2</td>\n",
       "      <td>6</td>\n",
       "      <td>258440</td>\n",
       "      <td>29411</td>\n",
       "      <td>0.113802</td>\n",
       "    </tr>\n",
       "    <tr>\n",
       "      <th>2</th>\n",
       "      <td>556</td>\n",
       "      <td>4061</td>\n",
       "      <td>3775</td>\n",
       "      <td>17287</td>\n",
       "      <td>7</td>\n",
       "      <td>0</td>\n",
       "      <td>0</td>\n",
       "      <td>0</td>\n",
       "      <td>0</td>\n",
       "      <td>0</td>\n",
       "      <td>25686</td>\n",
       "      <td>17294</td>\n",
       "      <td>0.673285</td>\n",
       "    </tr>\n",
       "    <tr>\n",
       "      <th>3</th>\n",
       "      <td>184</td>\n",
       "      <td>1233</td>\n",
       "      <td>586</td>\n",
       "      <td>1686</td>\n",
       "      <td>22226</td>\n",
       "      <td>446</td>\n",
       "      <td>0</td>\n",
       "      <td>0</td>\n",
       "      <td>0</td>\n",
       "      <td>2</td>\n",
       "      <td>26363</td>\n",
       "      <td>22674</td>\n",
       "      <td>0.860069</td>\n",
       "    </tr>\n",
       "    <tr>\n",
       "      <th>4</th>\n",
       "      <td>1</td>\n",
       "      <td>20</td>\n",
       "      <td>5</td>\n",
       "      <td>0</td>\n",
       "      <td>233</td>\n",
       "      <td>13634</td>\n",
       "      <td>2803</td>\n",
       "      <td>8</td>\n",
       "      <td>0</td>\n",
       "      <td>0</td>\n",
       "      <td>16704</td>\n",
       "      <td>16445</td>\n",
       "      <td>0.984495</td>\n",
       "    </tr>\n",
       "    <tr>\n",
       "      <th>5</th>\n",
       "      <td>0</td>\n",
       "      <td>2</td>\n",
       "      <td>2</td>\n",
       "      <td>0</td>\n",
       "      <td>0</td>\n",
       "      <td>211</td>\n",
       "      <td>14936</td>\n",
       "      <td>911</td>\n",
       "      <td>0</td>\n",
       "      <td>0</td>\n",
       "      <td>16062</td>\n",
       "      <td>15847</td>\n",
       "      <td>0.986614</td>\n",
       "    </tr>\n",
       "    <tr>\n",
       "      <th>6</th>\n",
       "      <td>0</td>\n",
       "      <td>0</td>\n",
       "      <td>0</td>\n",
       "      <td>2</td>\n",
       "      <td>0</td>\n",
       "      <td>0</td>\n",
       "      <td>179</td>\n",
       "      <td>17223</td>\n",
       "      <td>9</td>\n",
       "      <td>8</td>\n",
       "      <td>17421</td>\n",
       "      <td>17240</td>\n",
       "      <td>0.989610</td>\n",
       "    </tr>\n",
       "    <tr>\n",
       "      <th>7</th>\n",
       "      <td>0</td>\n",
       "      <td>8</td>\n",
       "      <td>0</td>\n",
       "      <td>0</td>\n",
       "      <td>8</td>\n",
       "      <td>0</td>\n",
       "      <td>8</td>\n",
       "      <td>1292</td>\n",
       "      <td>14262</td>\n",
       "      <td>4</td>\n",
       "      <td>15582</td>\n",
       "      <td>14266</td>\n",
       "      <td>0.915544</td>\n",
       "    </tr>\n",
       "    <tr>\n",
       "      <th>8</th>\n",
       "      <td>2</td>\n",
       "      <td>2</td>\n",
       "      <td>0</td>\n",
       "      <td>0</td>\n",
       "      <td>0</td>\n",
       "      <td>0</td>\n",
       "      <td>2</td>\n",
       "      <td>4</td>\n",
       "      <td>98</td>\n",
       "      <td>12527</td>\n",
       "      <td>12635</td>\n",
       "      <td>12527</td>\n",
       "      <td>0.991452</td>\n",
       "    </tr>\n",
       "    <tr>\n",
       "      <th>9</th>\n",
       "      <td>0</td>\n",
       "      <td>10</td>\n",
       "      <td>2</td>\n",
       "      <td>4</td>\n",
       "      <td>0</td>\n",
       "      <td>4</td>\n",
       "      <td>8</td>\n",
       "      <td>12</td>\n",
       "      <td>22</td>\n",
       "      <td>247</td>\n",
       "      <td>309</td>\n",
       "      <td>0</td>\n",
       "      <td>0.000000</td>\n",
       "    </tr>\n",
       "  </tbody>\n",
       "</table>\n",
       "</div>"
      ],
      "text/plain": [
       "        0       1      2      3      4      5      6      7      8      9  \\\n",
       "0  218269   78639   3232      0      0      0      0      0      2      2   \n",
       "1   59218  169811  20351   9020      0     16      8      8      2      6   \n",
       "2     556    4061   3775  17287      7      0      0      0      0      0   \n",
       "3     184    1233    586   1686  22226    446      0      0      0      2   \n",
       "4       1      20      5      0    233  13634   2803      8      0      0   \n",
       "5       0       2      2      0      0    211  14936    911      0      0   \n",
       "6       0       0      0      2      0      0    179  17223      9      8   \n",
       "7       0       8      0      0      8      0      8   1292  14262      4   \n",
       "8       2       2      0      0      0      0      2      4     98  12527   \n",
       "9       0      10      2      4      0      4      8     12     22    247   \n",
       "\n",
       "   all_count  bad_count  bad_ratio  \n",
       "0     300144      81875   0.272786  \n",
       "1     258440      29411   0.113802  \n",
       "2      25686      17294   0.673285  \n",
       "3      26363      22674   0.860069  \n",
       "4      16704      16445   0.984495  \n",
       "5      16062      15847   0.986614  \n",
       "6      17421      17240   0.989610  \n",
       "7      15582      14266   0.915544  \n",
       "8      12635      12527   0.991452  \n",
       "9        309          0   0.000000  "
      ]
     },
     "execution_count": 40,
     "metadata": {},
     "output_type": "execute_result"
    }
   ],
   "source": [
    "trans_mat"
   ]
  },
  {
   "cell_type": "markdown",
   "metadata": {},
   "source": [
    "### 根据生成矩阵生成观察时间窗口"
   ]
  },
  {
   "cell_type": "code",
   "execution_count": 41,
   "metadata": {},
   "outputs": [
    {
     "data": {
      "text/plain": [
       "(0, 8)"
      ]
     },
     "execution_count": 41,
     "metadata": {},
     "output_type": "execute_result"
    },
    {
     "data": {
      "image/png": "[encoded data removed]",
      "text/plain": [
       "<Figure size 432x288 with 1 Axes>"
      ]
     },
     "metadata": {
      "needs_background": "light"
     },
     "output_type": "display_data"
    }
   ],
   "source": [
    "plt.plot(trans_mat.index,trans_mat.bad_ratio)\n",
    "plt.xlim(0,8)"
   ]
  },
  {
   "cell_type": "markdown",
   "metadata": {},
   "source": [
    "## 确定表现时间窗口"
   ]
  },
  {
   "cell_type": "markdown",
   "metadata": {},
   "source": [
    "### 读取数据，数据描述"
   ]
  },
  {
   "cell_type": "code",
   "execution_count": 42,
   "metadata": {},
   "outputs": [
    {
     "data": {
      "text/html": [
       "<div>\n",
       "<style scoped>\n",
       "    .dataframe tbody tr th:only-of-type {\n",
       "        vertical-align: middle;\n",
       "    }\n",
       "\n",
       "    .dataframe tbody tr th {\n",
       "        vertical-align: top;\n",
       "    }\n",
       "\n",
       "    .dataframe thead th {\n",
       "        text-align: right;\n",
       "    }\n",
       "</style>\n",
       "<table border=\"1\" class=\"dataframe\">\n",
       "  <thead>\n",
       "    <tr style=\"text-align: right;\">\n",
       "      <th></th>\n",
       "      <th>CID</th>\n",
       "      <th>FST_USE_DT</th>\n",
       "    </tr>\n",
       "  </thead>\n",
       "  <tbody>\n",
       "    <tr>\n",
       "      <th>0</th>\n",
       "      <td>CID0092102</td>\n",
       "      <td>20161116</td>\n",
       "    </tr>\n",
       "  </tbody>\n",
       "</table>\n",
       "</div>"
      ],
      "text/plain": [
       "          CID  FST_USE_DT\n",
       "0  CID0092102    20161116"
      ]
     },
     "execution_count": 42,
     "metadata": {},
     "output_type": "execute_result"
    }
   ],
   "source": [
    "#用户订单时间表\n",
    "perf_window=pd.read_csv(r\"C:\\Users\\CDA\\python\\CreditScore\\data\\CreditFirstUse.csv\")\n",
    "perf_window.head(1)"
   ]
  },
  {
   "cell_type": "code",
   "execution_count": 43,
   "metadata": {},
   "outputs": [
    {
     "data": {
      "text/plain": [
       "(388259, 2)"
      ]
     },
     "execution_count": 43,
     "metadata": {},
     "output_type": "execute_result"
    }
   ],
   "source": [
    "perf_window.shape"
   ]
  },
  {
   "cell_type": "code",
   "execution_count": 44,
   "metadata": {},
   "outputs": [
    {
     "name": "stdout",
     "output_type": "stream",
     "text": [
      "<class 'pandas.core.frame.DataFrame'>\n",
      "RangeIndex: 388259 entries, 0 to 388258\n",
      "Data columns (total 2 columns):\n",
      "CID           388259 non-null object\n",
      "FST_USE_DT    388259 non-null int64\n",
      "dtypes: int64(1), object(1)\n",
      "memory usage: 5.9+ MB\n"
     ]
    }
   ],
   "source": [
    "perf_window.info()"
   ]
  },
  {
   "cell_type": "code",
   "execution_count": 45,
   "metadata": {},
   "outputs": [
    {
     "data": {
      "text/html": [
       "<div>\n",
       "<style scoped>\n",
       "    .dataframe tbody tr th:only-of-type {\n",
       "        vertical-align: middle;\n",
       "    }\n",
       "\n",
       "    .dataframe tbody tr th {\n",
       "        vertical-align: top;\n",
       "    }\n",
       "\n",
       "    .dataframe thead th {\n",
       "        text-align: right;\n",
       "    }\n",
       "</style>\n",
       "<table border=\"1\" class=\"dataframe\">\n",
       "  <thead>\n",
       "    <tr style=\"text-align: right;\">\n",
       "      <th></th>\n",
       "      <th>count</th>\n",
       "      <th>unique</th>\n",
       "      <th>top</th>\n",
       "      <th>freq</th>\n",
       "      <th>mean</th>\n",
       "      <th>std</th>\n",
       "      <th>min</th>\n",
       "      <th>25%</th>\n",
       "      <th>50%</th>\n",
       "      <th>75%</th>\n",
       "      <th>max</th>\n",
       "    </tr>\n",
       "  </thead>\n",
       "  <tbody>\n",
       "    <tr>\n",
       "      <th>CID</th>\n",
       "      <td>388259</td>\n",
       "      <td>388259</td>\n",
       "      <td>CID0057741</td>\n",
       "      <td>1</td>\n",
       "      <td>NaN</td>\n",
       "      <td>NaN</td>\n",
       "      <td>NaN</td>\n",
       "      <td>NaN</td>\n",
       "      <td>NaN</td>\n",
       "      <td>NaN</td>\n",
       "      <td>NaN</td>\n",
       "    </tr>\n",
       "    <tr>\n",
       "      <th>FST_USE_DT</th>\n",
       "      <td>388259</td>\n",
       "      <td>NaN</td>\n",
       "      <td>NaN</td>\n",
       "      <td>NaN</td>\n",
       "      <td>2.01619e+07</td>\n",
       "      <td>7896.6</td>\n",
       "      <td>2.01501e+07</td>\n",
       "      <td>2.01512e+07</td>\n",
       "      <td>2.0161e+07</td>\n",
       "      <td>2.01705e+07</td>\n",
       "      <td>2.0171e+07</td>\n",
       "    </tr>\n",
       "  </tbody>\n",
       "</table>\n",
       "</div>"
      ],
      "text/plain": [
       "             count  unique         top freq         mean     std          min  \\\n",
       "CID         388259  388259  CID0057741    1          NaN     NaN          NaN   \n",
       "FST_USE_DT  388259     NaN         NaN  NaN  2.01619e+07  7896.6  2.01501e+07   \n",
       "\n",
       "                    25%         50%          75%         max  \n",
       "CID                 NaN         NaN          NaN         NaN  \n",
       "FST_USE_DT  2.01512e+07  2.0161e+07  2.01705e+07  2.0171e+07  "
      ]
     },
     "execution_count": 45,
     "metadata": {},
     "output_type": "execute_result"
    }
   ],
   "source": [
    "perf_window.describe(include='all').T"
   ]
  },
  {
   "cell_type": "markdown",
   "metadata": {},
   "source": [
    "### 数据清洗"
   ]
  },
  {
   "cell_type": "code",
   "execution_count": 46,
   "metadata": {},
   "outputs": [],
   "source": [
    "perf_window.set_index('CID',inplace=True)"
   ]
  },
  {
   "cell_type": "code",
   "execution_count": 47,
   "metadata": {},
   "outputs": [],
   "source": [
    "perf_window['FST_USE_MON']=(perf_window.FST_USE_DT//100).astype(int)"
   ]
  },
  {
   "cell_type": "code",
   "execution_count": 48,
   "metadata": {},
   "outputs": [
    {
     "data": {
      "text/html": [
       "<div>\n",
       "<style scoped>\n",
       "    .dataframe tbody tr th:only-of-type {\n",
       "        vertical-align: middle;\n",
       "    }\n",
       "\n",
       "    .dataframe tbody tr th {\n",
       "        vertical-align: top;\n",
       "    }\n",
       "\n",
       "    .dataframe thead th {\n",
       "        text-align: right;\n",
       "    }\n",
       "</style>\n",
       "<table border=\"1\" class=\"dataframe\">\n",
       "  <thead>\n",
       "    <tr style=\"text-align: right;\">\n",
       "      <th></th>\n",
       "      <th>FST_USE_DT</th>\n",
       "      <th>FST_USE_MON</th>\n",
       "    </tr>\n",
       "    <tr>\n",
       "      <th>CID</th>\n",
       "      <th></th>\n",
       "      <th></th>\n",
       "    </tr>\n",
       "  </thead>\n",
       "  <tbody>\n",
       "    <tr>\n",
       "      <th>CID0092102</th>\n",
       "      <td>20161116</td>\n",
       "      <td>201611</td>\n",
       "    </tr>\n",
       "  </tbody>\n",
       "</table>\n",
       "</div>"
      ],
      "text/plain": [
       "            FST_USE_DT  FST_USE_MON\n",
       "CID                                \n",
       "CID0092102    20161116       201611"
      ]
     },
     "execution_count": 48,
     "metadata": {},
     "output_type": "execute_result"
    }
   ],
   "source": [
    "perf_window.head(1)"
   ]
  },
  {
   "cell_type": "code",
   "execution_count": 49,
   "metadata": {},
   "outputs": [],
   "source": [
    "#筛选出曾经转为坏客户的ID行\n",
    "overdue_m2=overdue>=2\n",
    "overdue_m2=overdue_m2[overdue_m2.sum(axis=1)>0]"
   ]
  },
  {
   "cell_type": "code",
   "execution_count": 50,
   "metadata": {},
   "outputs": [
    {
     "data": {
      "text/html": [
       "<div>\n",
       "<style scoped>\n",
       "    .dataframe tbody tr th:only-of-type {\n",
       "        vertical-align: middle;\n",
       "    }\n",
       "\n",
       "    .dataframe tbody tr th {\n",
       "        vertical-align: top;\n",
       "    }\n",
       "\n",
       "    .dataframe thead th {\n",
       "        text-align: right;\n",
       "    }\n",
       "</style>\n",
       "<table border=\"1\" class=\"dataframe\">\n",
       "  <thead>\n",
       "    <tr style=\"text-align: right;\">\n",
       "      <th>CLOSE_MONTH</th>\n",
       "      <th>201503</th>\n",
       "      <th>201504</th>\n",
       "      <th>201505</th>\n",
       "      <th>201506</th>\n",
       "      <th>201507</th>\n",
       "      <th>201508</th>\n",
       "      <th>201509</th>\n",
       "      <th>201510</th>\n",
       "      <th>201511</th>\n",
       "      <th>201512</th>\n",
       "      <th>201601</th>\n",
       "      <th>201602</th>\n",
       "      <th>201603</th>\n",
       "      <th>201604</th>\n",
       "      <th>201605</th>\n",
       "      <th>201606</th>\n",
       "      <th>201607</th>\n",
       "      <th>201608</th>\n",
       "      <th>201609</th>\n",
       "      <th>201610</th>\n",
       "      <th>201611</th>\n",
       "      <th>201612</th>\n",
       "      <th>201701</th>\n",
       "      <th>201702</th>\n",
       "      <th>201703</th>\n",
       "      <th>201704</th>\n",
       "      <th>201705</th>\n",
       "      <th>201706</th>\n",
       "      <th>201707</th>\n",
       "      <th>201708</th>\n",
       "      <th>201709</th>\n",
       "      <th>201710</th>\n",
       "      <th>201711</th>\n",
       "      <th>201712</th>\n",
       "      <th>201801</th>\n",
       "      <th>201802</th>\n",
       "      <th>201803</th>\n",
       "      <th>201804</th>\n",
       "      <th>201805</th>\n",
       "    </tr>\n",
       "    <tr>\n",
       "      <th>CID</th>\n",
       "      <th></th>\n",
       "      <th></th>\n",
       "      <th></th>\n",
       "      <th></th>\n",
       "      <th></th>\n",
       "      <th></th>\n",
       "      <th></th>\n",
       "      <th></th>\n",
       "      <th></th>\n",
       "      <th></th>\n",
       "      <th></th>\n",
       "      <th></th>\n",
       "      <th></th>\n",
       "      <th></th>\n",
       "      <th></th>\n",
       "      <th></th>\n",
       "      <th></th>\n",
       "      <th></th>\n",
       "      <th></th>\n",
       "      <th></th>\n",
       "      <th></th>\n",
       "      <th></th>\n",
       "      <th></th>\n",
       "      <th></th>\n",
       "      <th></th>\n",
       "      <th></th>\n",
       "      <th></th>\n",
       "      <th></th>\n",
       "      <th></th>\n",
       "      <th></th>\n",
       "      <th></th>\n",
       "      <th></th>\n",
       "      <th></th>\n",
       "      <th></th>\n",
       "      <th></th>\n",
       "      <th></th>\n",
       "      <th></th>\n",
       "      <th></th>\n",
       "      <th></th>\n",
       "    </tr>\n",
       "  </thead>\n",
       "  <tbody>\n",
       "    <tr>\n",
       "      <th>CID0000013</th>\n",
       "      <td>False</td>\n",
       "      <td>False</td>\n",
       "      <td>False</td>\n",
       "      <td>False</td>\n",
       "      <td>False</td>\n",
       "      <td>False</td>\n",
       "      <td>False</td>\n",
       "      <td>False</td>\n",
       "      <td>False</td>\n",
       "      <td>False</td>\n",
       "      <td>True</td>\n",
       "      <td>False</td>\n",
       "      <td>True</td>\n",
       "      <td>True</td>\n",
       "      <td>True</td>\n",
       "      <td>True</td>\n",
       "      <td>True</td>\n",
       "      <td>True</td>\n",
       "      <td>False</td>\n",
       "      <td>False</td>\n",
       "      <td>False</td>\n",
       "      <td>False</td>\n",
       "      <td>False</td>\n",
       "      <td>False</td>\n",
       "      <td>False</td>\n",
       "      <td>False</td>\n",
       "      <td>False</td>\n",
       "      <td>False</td>\n",
       "      <td>False</td>\n",
       "      <td>False</td>\n",
       "      <td>False</td>\n",
       "      <td>False</td>\n",
       "      <td>False</td>\n",
       "      <td>False</td>\n",
       "      <td>False</td>\n",
       "      <td>False</td>\n",
       "      <td>False</td>\n",
       "      <td>False</td>\n",
       "      <td>True</td>\n",
       "    </tr>\n",
       "  </tbody>\n",
       "</table>\n",
       "</div>"
      ],
      "text/plain": [
       "CLOSE_MONTH  201503  201504  201505  201506  201507  201508  201509  201510  \\\n",
       "CID                                                                           \n",
       "CID0000013    False   False   False   False   False   False   False   False   \n",
       "\n",
       "CLOSE_MONTH  201511  201512  201601  201602  201603  201604  201605  201606  \\\n",
       "CID                                                                           \n",
       "CID0000013    False   False    True   False    True    True    True    True   \n",
       "\n",
       "CLOSE_MONTH  201607  201608  201609  201610  201611  201612  201701  201702  \\\n",
       "CID                                                                           \n",
       "CID0000013     True    True   False   False   False   False   False   False   \n",
       "\n",
       "CLOSE_MONTH  201703  201704  201705  201706  201707  201708  201709  201710  \\\n",
       "CID                                                                           \n",
       "CID0000013    False   False   False   False   False   False   False   False   \n",
       "\n",
       "CLOSE_MONTH  201711  201712  201801  201802  201803  201804  201805  \n",
       "CID                                                                  \n",
       "CID0000013    False   False   False   False   False   False    True  "
      ]
     },
     "execution_count": 50,
     "metadata": {},
     "output_type": "execute_result"
    }
   ],
   "source": [
    "overdue_m2.head(1)"
   ]
  },
  {
   "cell_type": "code",
   "execution_count": 51,
   "metadata": {},
   "outputs": [],
   "source": [
    "overdue_month=overdue_m2.apply(lambda x:overdue_m2.columns[x][0],axis=1)"
   ]
  },
  {
   "cell_type": "code",
   "execution_count": 52,
   "metadata": {},
   "outputs": [],
   "source": [
    "perf_window['OVERDUE_MON']=overdue_month"
   ]
  },
  {
   "cell_type": "code",
   "execution_count": 53,
   "metadata": {},
   "outputs": [
    {
     "data": {
      "text/html": [
       "<div>\n",
       "<style scoped>\n",
       "    .dataframe tbody tr th:only-of-type {\n",
       "        vertical-align: middle;\n",
       "    }\n",
       "\n",
       "    .dataframe tbody tr th {\n",
       "        vertical-align: top;\n",
       "    }\n",
       "\n",
       "    .dataframe thead th {\n",
       "        text-align: right;\n",
       "    }\n",
       "</style>\n",
       "<table border=\"1\" class=\"dataframe\">\n",
       "  <thead>\n",
       "    <tr style=\"text-align: right;\">\n",
       "      <th></th>\n",
       "      <th>FST_USE_DT</th>\n",
       "      <th>FST_USE_MON</th>\n",
       "      <th>OVERDUE_MON</th>\n",
       "    </tr>\n",
       "    <tr>\n",
       "      <th>CID</th>\n",
       "      <th></th>\n",
       "      <th></th>\n",
       "      <th></th>\n",
       "    </tr>\n",
       "  </thead>\n",
       "  <tbody>\n",
       "    <tr>\n",
       "      <th>CID0082006</th>\n",
       "      <td>20160906</td>\n",
       "      <td>201609</td>\n",
       "      <td>201705.0</td>\n",
       "    </tr>\n",
       "    <tr>\n",
       "      <th>CID0383647</th>\n",
       "      <td>20160906</td>\n",
       "      <td>201609</td>\n",
       "      <td>201708.0</td>\n",
       "    </tr>\n",
       "    <tr>\n",
       "      <th>CID0006192</th>\n",
       "      <td>20161022</td>\n",
       "      <td>201610</td>\n",
       "      <td>201707.0</td>\n",
       "    </tr>\n",
       "    <tr>\n",
       "      <th>CID0348120</th>\n",
       "      <td>20161122</td>\n",
       "      <td>201611</td>\n",
       "      <td>201712.0</td>\n",
       "    </tr>\n",
       "    <tr>\n",
       "      <th>CID0155834</th>\n",
       "      <td>20161123</td>\n",
       "      <td>201611</td>\n",
       "      <td>201707.0</td>\n",
       "    </tr>\n",
       "  </tbody>\n",
       "</table>\n",
       "</div>"
      ],
      "text/plain": [
       "            FST_USE_DT  FST_USE_MON  OVERDUE_MON\n",
       "CID                                             \n",
       "CID0082006    20160906       201609     201705.0\n",
       "CID0383647    20160906       201609     201708.0\n",
       "CID0006192    20161022       201610     201707.0\n",
       "CID0348120    20161122       201611     201712.0\n",
       "CID0155834    20161123       201611     201707.0"
      ]
     },
     "execution_count": 53,
     "metadata": {},
     "output_type": "execute_result"
    }
   ],
   "source": [
    "perf_window[perf_window.OVERDUE_MON.notnull()].head()"
   ]
  },
  {
   "cell_type": "markdown",
   "metadata": {},
   "source": [
    "计算首次使用月和逾期月的月份差，生成新列"
   ]
  },
  {
   "cell_type": "code",
   "execution_count": 54,
   "metadata": {},
   "outputs": [],
   "source": [
    "x=201705.0\n",
    "y=201609"
   ]
  },
  {
   "cell_type": "code",
   "execution_count": 55,
   "metadata": {},
   "outputs": [
    {
     "data": {
      "text/plain": [
       "8.0"
      ]
     },
     "execution_count": 55,
     "metadata": {},
     "output_type": "execute_result"
    }
   ],
   "source": [
    "(x//100-y//100)*12+x%100-y%100"
   ]
  },
  {
   "cell_type": "code",
   "execution_count": 56,
   "metadata": {},
   "outputs": [],
   "source": [
    "def diffmon(x,y):\n",
    "    return((x//100-y//100)*12+x%100-y%100)"
   ]
  },
  {
   "cell_type": "code",
   "execution_count": 57,
   "metadata": {},
   "outputs": [],
   "source": [
    "perf_window['DIFF_MON']=diffmon(perf_window.OVERDUE_MON,perf_window.FST_USE_MON)"
   ]
  },
  {
   "cell_type": "code",
   "execution_count": 58,
   "metadata": {},
   "outputs": [
    {
     "data": {
      "text/html": [
       "<div>\n",
       "<style scoped>\n",
       "    .dataframe tbody tr th:only-of-type {\n",
       "        vertical-align: middle;\n",
       "    }\n",
       "\n",
       "    .dataframe tbody tr th {\n",
       "        vertical-align: top;\n",
       "    }\n",
       "\n",
       "    .dataframe thead th {\n",
       "        text-align: right;\n",
       "    }\n",
       "</style>\n",
       "<table border=\"1\" class=\"dataframe\">\n",
       "  <thead>\n",
       "    <tr style=\"text-align: right;\">\n",
       "      <th></th>\n",
       "      <th>FST_USE_DT</th>\n",
       "      <th>FST_USE_MON</th>\n",
       "      <th>OVERDUE_MON</th>\n",
       "      <th>DIFF_MON</th>\n",
       "    </tr>\n",
       "    <tr>\n",
       "      <th>CID</th>\n",
       "      <th></th>\n",
       "      <th></th>\n",
       "      <th></th>\n",
       "      <th></th>\n",
       "    </tr>\n",
       "  </thead>\n",
       "  <tbody>\n",
       "    <tr>\n",
       "      <th>CID0082006</th>\n",
       "      <td>20160906</td>\n",
       "      <td>201609</td>\n",
       "      <td>201705.0</td>\n",
       "      <td>8.0</td>\n",
       "    </tr>\n",
       "    <tr>\n",
       "      <th>CID0383647</th>\n",
       "      <td>20160906</td>\n",
       "      <td>201609</td>\n",
       "      <td>201708.0</td>\n",
       "      <td>11.0</td>\n",
       "    </tr>\n",
       "    <tr>\n",
       "      <th>CID0006192</th>\n",
       "      <td>20161022</td>\n",
       "      <td>201610</td>\n",
       "      <td>201707.0</td>\n",
       "      <td>9.0</td>\n",
       "    </tr>\n",
       "    <tr>\n",
       "      <th>CID0348120</th>\n",
       "      <td>20161122</td>\n",
       "      <td>201611</td>\n",
       "      <td>201712.0</td>\n",
       "      <td>13.0</td>\n",
       "    </tr>\n",
       "    <tr>\n",
       "      <th>CID0155834</th>\n",
       "      <td>20161123</td>\n",
       "      <td>201611</td>\n",
       "      <td>201707.0</td>\n",
       "      <td>8.0</td>\n",
       "    </tr>\n",
       "  </tbody>\n",
       "</table>\n",
       "</div>"
      ],
      "text/plain": [
       "            FST_USE_DT  FST_USE_MON  OVERDUE_MON  DIFF_MON\n",
       "CID                                                       \n",
       "CID0082006    20160906       201609     201705.0       8.0\n",
       "CID0383647    20160906       201609     201708.0      11.0\n",
       "CID0006192    20161022       201610     201707.0       9.0\n",
       "CID0348120    20161122       201611     201712.0      13.0\n",
       "CID0155834    20161123       201611     201707.0       8.0"
      ]
     },
     "execution_count": 58,
     "metadata": {},
     "output_type": "execute_result"
    }
   ],
   "source": [
    "perf_window[perf_window.OVERDUE_MON.notnull()].head()"
   ]
  },
  {
   "cell_type": "code",
   "execution_count": 59,
   "metadata": {},
   "outputs": [],
   "source": [
    "mon_freq=perf_window.DIFF_MON.value_counts(normalize=True).sort_index()[1:]"
   ]
  },
  {
   "cell_type": "code",
   "execution_count": 60,
   "metadata": {},
   "outputs": [
    {
     "data": {
      "text/plain": [
       "<matplotlib.axes._subplots.AxesSubplot at 0x1046b7f0>"
      ]
     },
     "execution_count": 60,
     "metadata": {},
     "output_type": "execute_result"
    },
    {
     "data": {
      "image/png": "[encoded data removed]",
      "text/plain": [
       "<Figure size 432x288 with 1 Axes>"
      ]
     },
     "metadata": {
      "needs_background": "light"
     },
     "output_type": "display_data"
    }
   ],
   "source": [
    "mon_freq.plot()"
   ]
  },
  {
   "cell_type": "code",
   "execution_count": 61,
   "metadata": {},
   "outputs": [
    {
     "data": {
      "text/plain": [
       "<matplotlib.axes._subplots.AxesSubplot at 0xb78cc88>"
      ]
     },
     "execution_count": 61,
     "metadata": {},
     "output_type": "execute_result"
    },
    {
     "data": {
      "image/png": "[encoded data removed]",
      "text/plain": [
       "<Figure size 432x288 with 1 Axes>"
      ]
     },
     "metadata": {
      "needs_background": "light"
     },
     "output_type": "display_data"
    }
   ],
   "source": [
    "mon_freq.cumsum().plot()#cumsum行累积求和"
   ]
  },
  {
   "cell_type": "markdown",
   "metadata": {},
   "source": [
    "### 定义y的总结"
   ]
  },
  {
   "cell_type": "markdown",
   "metadata": {},
   "source": [
    "- 通过之前的数据筛选和汇总,我们定义观察时间窗口为M2(30-60天),表现时间窗口为20\n",
    "- 即对于所有客户来说,我们认为在订单生成20个月内\n",
    "    - 有M2以上的逾期,即逾期天数>=31天,为坏客户\n",
    "    - 有M1以下的逾期,即逾期天数<=3天,为好客户\n",
    "    - 中间状态的样本认为是不确定的不进入模型"
   ]
  },
  {
   "cell_type": "markdown",
   "metadata": {},
   "source": [
    "## 评分卡制作"
   ]
  },
  {
   "cell_type": "markdown",
   "metadata": {},
   "source": [
    "### 数据读取，数据描述"
   ]
  },
  {
   "cell_type": "code",
   "execution_count": 62,
   "metadata": {},
   "outputs": [],
   "source": [
    "train_data=pd.read_csv(r\"C:\\Users\\CDA\\python\\CreditScore\\data\\cs-training.csv\",index_col=0)"
   ]
  },
  {
   "cell_type": "code",
   "execution_count": 63,
   "metadata": {},
   "outputs": [
    {
     "name": "stdout",
     "output_type": "stream",
     "text": [
      "(150000, 11)\n"
     ]
    },
    {
     "data": {
      "text/html": [
       "<div>\n",
       "<style scoped>\n",
       "    .dataframe tbody tr th:only-of-type {\n",
       "        vertical-align: middle;\n",
       "    }\n",
       "\n",
       "    .dataframe tbody tr th {\n",
       "        vertical-align: top;\n",
       "    }\n",
       "\n",
       "    .dataframe thead th {\n",
       "        text-align: right;\n",
       "    }\n",
       "</style>\n",
       "<table border=\"1\" class=\"dataframe\">\n",
       "  <thead>\n",
       "    <tr style=\"text-align: right;\">\n",
       "      <th></th>\n",
       "      <th>count</th>\n",
       "      <th>mean</th>\n",
       "      <th>std</th>\n",
       "      <th>min</th>\n",
       "      <th>25%</th>\n",
       "      <th>50%</th>\n",
       "      <th>75%</th>\n",
       "      <th>max</th>\n",
       "    </tr>\n",
       "  </thead>\n",
       "  <tbody>\n",
       "    <tr>\n",
       "      <th>SeriousDlqin2yrs</th>\n",
       "      <td>150000.0</td>\n",
       "      <td>0.07</td>\n",
       "      <td>0.25</td>\n",
       "      <td>0.0</td>\n",
       "      <td>0.00</td>\n",
       "      <td>0.00</td>\n",
       "      <td>0.00</td>\n",
       "      <td>1.0</td>\n",
       "    </tr>\n",
       "    <tr>\n",
       "      <th>RevolvingUtilizationOfUnsecuredLines</th>\n",
       "      <td>150000.0</td>\n",
       "      <td>6.05</td>\n",
       "      <td>249.76</td>\n",
       "      <td>0.0</td>\n",
       "      <td>0.03</td>\n",
       "      <td>0.15</td>\n",
       "      <td>0.56</td>\n",
       "      <td>50708.0</td>\n",
       "    </tr>\n",
       "    <tr>\n",
       "      <th>age</th>\n",
       "      <td>150000.0</td>\n",
       "      <td>52.30</td>\n",
       "      <td>14.77</td>\n",
       "      <td>0.0</td>\n",
       "      <td>41.00</td>\n",
       "      <td>52.00</td>\n",
       "      <td>63.00</td>\n",
       "      <td>109.0</td>\n",
       "    </tr>\n",
       "    <tr>\n",
       "      <th>NumberOfTime30-59DaysPastDueNotWorse</th>\n",
       "      <td>150000.0</td>\n",
       "      <td>0.42</td>\n",
       "      <td>4.19</td>\n",
       "      <td>0.0</td>\n",
       "      <td>0.00</td>\n",
       "      <td>0.00</td>\n",
       "      <td>0.00</td>\n",
       "      <td>98.0</td>\n",
       "    </tr>\n",
       "    <tr>\n",
       "      <th>DebtRatio</th>\n",
       "      <td>150000.0</td>\n",
       "      <td>353.01</td>\n",
       "      <td>2037.82</td>\n",
       "      <td>0.0</td>\n",
       "      <td>0.18</td>\n",
       "      <td>0.37</td>\n",
       "      <td>0.87</td>\n",
       "      <td>329664.0</td>\n",
       "    </tr>\n",
       "    <tr>\n",
       "      <th>MonthlyIncome</th>\n",
       "      <td>120269.0</td>\n",
       "      <td>6670.22</td>\n",
       "      <td>14384.67</td>\n",
       "      <td>0.0</td>\n",
       "      <td>3400.00</td>\n",
       "      <td>5400.00</td>\n",
       "      <td>8249.00</td>\n",
       "      <td>3008750.0</td>\n",
       "    </tr>\n",
       "    <tr>\n",
       "      <th>NumberOfOpenCreditLinesAndLoans</th>\n",
       "      <td>150000.0</td>\n",
       "      <td>8.45</td>\n",
       "      <td>5.15</td>\n",
       "      <td>0.0</td>\n",
       "      <td>5.00</td>\n",
       "      <td>8.00</td>\n",
       "      <td>11.00</td>\n",
       "      <td>58.0</td>\n",
       "    </tr>\n",
       "    <tr>\n",
       "      <th>NumberOfTimes90DaysLate</th>\n",
       "      <td>150000.0</td>\n",
       "      <td>0.27</td>\n",
       "      <td>4.17</td>\n",
       "      <td>0.0</td>\n",
       "      <td>0.00</td>\n",
       "      <td>0.00</td>\n",
       "      <td>0.00</td>\n",
       "      <td>98.0</td>\n",
       "    </tr>\n",
       "    <tr>\n",
       "      <th>NumberRealEstateLoansOrLines</th>\n",
       "      <td>150000.0</td>\n",
       "      <td>1.02</td>\n",
       "      <td>1.13</td>\n",
       "      <td>0.0</td>\n",
       "      <td>0.00</td>\n",
       "      <td>1.00</td>\n",
       "      <td>2.00</td>\n",
       "      <td>54.0</td>\n",
       "    </tr>\n",
       "    <tr>\n",
       "      <th>NumberOfTime60-89DaysPastDueNotWorse</th>\n",
       "      <td>150000.0</td>\n",
       "      <td>0.24</td>\n",
       "      <td>4.16</td>\n",
       "      <td>0.0</td>\n",
       "      <td>0.00</td>\n",
       "      <td>0.00</td>\n",
       "      <td>0.00</td>\n",
       "      <td>98.0</td>\n",
       "    </tr>\n",
       "    <tr>\n",
       "      <th>NumberOfDependents</th>\n",
       "      <td>146076.0</td>\n",
       "      <td>0.76</td>\n",
       "      <td>1.12</td>\n",
       "      <td>0.0</td>\n",
       "      <td>0.00</td>\n",
       "      <td>0.00</td>\n",
       "      <td>1.00</td>\n",
       "      <td>20.0</td>\n",
       "    </tr>\n",
       "  </tbody>\n",
       "</table>\n",
       "</div>"
      ],
      "text/plain": [
       "                                         count     mean       std  min  \\\n",
       "SeriousDlqin2yrs                      150000.0     0.07      0.25  0.0   \n",
       "RevolvingUtilizationOfUnsecuredLines  150000.0     6.05    249.76  0.0   \n",
       "age                                   150000.0    52.30     14.77  0.0   \n",
       "NumberOfTime30-59DaysPastDueNotWorse  150000.0     0.42      4.19  0.0   \n",
       "DebtRatio                             150000.0   353.01   2037.82  0.0   \n",
       "MonthlyIncome                         120269.0  6670.22  14384.67  0.0   \n",
       "NumberOfOpenCreditLinesAndLoans       150000.0     8.45      5.15  0.0   \n",
       "NumberOfTimes90DaysLate               150000.0     0.27      4.17  0.0   \n",
       "NumberRealEstateLoansOrLines          150000.0     1.02      1.13  0.0   \n",
       "NumberOfTime60-89DaysPastDueNotWorse  150000.0     0.24      4.16  0.0   \n",
       "NumberOfDependents                    146076.0     0.76      1.12  0.0   \n",
       "\n",
       "                                          25%      50%      75%        max  \n",
       "SeriousDlqin2yrs                         0.00     0.00     0.00        1.0  \n",
       "RevolvingUtilizationOfUnsecuredLines     0.03     0.15     0.56    50708.0  \n",
       "age                                     41.00    52.00    63.00      109.0  \n",
       "NumberOfTime30-59DaysPastDueNotWorse     0.00     0.00     0.00       98.0  \n",
       "DebtRatio                                0.18     0.37     0.87   329664.0  \n",
       "MonthlyIncome                         3400.00  5400.00  8249.00  3008750.0  \n",
       "NumberOfOpenCreditLinesAndLoans          5.00     8.00    11.00       58.0  \n",
       "NumberOfTimes90DaysLate                  0.00     0.00     0.00       98.0  \n",
       "NumberRealEstateLoansOrLines             0.00     1.00     2.00       54.0  \n",
       "NumberOfTime60-89DaysPastDueNotWorse     0.00     0.00     0.00       98.0  \n",
       "NumberOfDependents                       0.00     0.00     1.00       20.0  "
      ]
     },
     "execution_count": 63,
     "metadata": {},
     "output_type": "execute_result"
    }
   ],
   "source": [
    "print(train_data.shape)\n",
    "train_data.describe(include='all').T.round(2)#round 要保留的小数位数"
   ]
  },
  {
   "cell_type": "code",
   "execution_count": 64,
   "metadata": {},
   "outputs": [],
   "source": [
    "train_data.columns=train_data.columns.map(lambda x:x.replace('-','_'))"
   ]
  },
  {
   "cell_type": "code",
   "execution_count": 65,
   "metadata": {},
   "outputs": [
    {
     "data": {
      "text/plain": [
       "Index(['SeriousDlqin2yrs', 'RevolvingUtilizationOfUnsecuredLines', 'age',\n",
       "       'NumberOfTime30_59DaysPastDueNotWorse', 'DebtRatio', 'MonthlyIncome',\n",
       "       'NumberOfOpenCreditLinesAndLoans', 'NumberOfTimes90DaysLate',\n",
       "       'NumberRealEstateLoansOrLines', 'NumberOfTime60_89DaysPastDueNotWorse',\n",
       "       'NumberOfDependents'],\n",
       "      dtype='object')"
      ]
     },
     "execution_count": 65,
     "metadata": {},
     "output_type": "execute_result"
    }
   ],
   "source": [
    "train_data.columns"
   ]
  },
  {
   "cell_type": "markdown",
   "metadata": {},
   "source": [
    "- SeriousDlqin2yrs:出现90天或更长时间的逾期行为(即定义好坏客户)\n",
    "- RevolvingUtilizationOfUnsecuredLines:贷款以及信用卡可用额度与总额度比例\n",
    "- age:借款人借款年龄\n",
    "- NumberOfTime30-59DaysPastDueNotWorse:过去两年内出现35-59天逾期但是没有发展的更坏的次数\n",
    "- DebtRatio:每月偿还债务,赡养费,生活费用除以月总收入\n",
    "- MonthlyIncome:月收入\n",
    "- NumberOfOpenCreditLinesAndLoans:开放式贷款和信贷数量\n",
    "- NumberOfTimes90DaysLate:借款者有90天或更高逾期的次数\n",
    "- NumberRealEstateLoansOrLines:抵押贷款和房地产贷款数量,包括房屋净值信贷额度\n",
    "- NumberOfTime60-89DaysPastDueNotWorse:过去两年内出现60-89天逾期但是没有发展的更坏的次数\n",
    "- NumberOfDependents:家庭中不包括自身的家属人数(配偶,子女等)"
   ]
  },
  {
   "cell_type": "code",
   "execution_count": 66,
   "metadata": {},
   "outputs": [
    {
     "data": {
      "text/plain": [
       "SeriousDlqin2yrs                        0.000000\n",
       "RevolvingUtilizationOfUnsecuredLines    0.000000\n",
       "age                                     0.000000\n",
       "NumberOfTime30_59DaysPastDueNotWorse    0.000000\n",
       "DebtRatio                               0.000000\n",
       "MonthlyIncome                           0.198207\n",
       "NumberOfOpenCreditLinesAndLoans         0.000000\n",
       "NumberOfTimes90DaysLate                 0.000000\n",
       "NumberRealEstateLoansOrLines            0.000000\n",
       "NumberOfTime60_89DaysPastDueNotWorse    0.000000\n",
       "NumberOfDependents                      0.026160\n",
       "dtype: float64"
      ]
     },
     "execution_count": 66,
     "metadata": {},
     "output_type": "execute_result"
    }
   ],
   "source": [
    "train_data.isnull().mean()"
   ]
  },
  {
   "cell_type": "markdown",
   "metadata": {},
   "source": [
    "#### 去重"
   ]
  },
  {
   "cell_type": "code",
   "execution_count": 67,
   "metadata": {},
   "outputs": [
    {
     "data": {
      "text/plain": [
       "(149391, 11)"
      ]
     },
     "execution_count": 67,
     "metadata": {},
     "output_type": "execute_result"
    }
   ],
   "source": [
    "train_data.drop_duplicates(inplace=True)\n",
    "train_data.shape"
   ]
  },
  {
   "cell_type": "markdown",
   "metadata": {},
   "source": [
    "### 缺失值处理"
   ]
  },
  {
   "cell_type": "markdown",
   "metadata": {},
   "source": [
    "#### 查看缺失值的分布情况"
   ]
  },
  {
   "cell_type": "code",
   "execution_count": 68,
   "metadata": {},
   "outputs": [],
   "source": [
    "#import missingno as msno"
   ]
  },
  {
   "cell_type": "markdown",
   "metadata": {},
   "source": [
    "#### 单一值替换"
   ]
  },
  {
   "cell_type": "code",
   "execution_count": 69,
   "metadata": {},
   "outputs": [],
   "source": [
    "NOD_median=train_data.NumberOfDependents.median()\n",
    "train_data.NumberOfDependents.fillna(NOD_median,inplace=True)"
   ]
  },
  {
   "cell_type": "code",
   "execution_count": 70,
   "metadata": {},
   "outputs": [
    {
     "name": "stdout",
     "output_type": "stream",
     "text": [
      "<class 'pandas.core.frame.DataFrame'>\n",
      "Int64Index: 149391 entries, 1 to 150000\n",
      "Data columns (total 11 columns):\n",
      "SeriousDlqin2yrs                        149391 non-null int64\n",
      "RevolvingUtilizationOfUnsecuredLines    149391 non-null float64\n",
      "age                                     149391 non-null int64\n",
      "NumberOfTime30_59DaysPastDueNotWorse    149391 non-null int64\n",
      "DebtRatio                               149391 non-null float64\n",
      "MonthlyIncome                           120170 non-null float64\n",
      "NumberOfOpenCreditLinesAndLoans         149391 non-null int64\n",
      "NumberOfTimes90DaysLate                 149391 non-null int64\n",
      "NumberRealEstateLoansOrLines            149391 non-null int64\n",
      "NumberOfTime60_89DaysPastDueNotWorse    149391 non-null int64\n",
      "NumberOfDependents                      149391 non-null float64\n",
      "dtypes: float64(4), int64(7)\n",
      "memory usage: 13.7 MB\n"
     ]
    }
   ],
   "source": [
    "train_data.info()"
   ]
  },
  {
   "cell_type": "markdown",
   "metadata": {},
   "source": [
    "#### 尝试多重插补"
   ]
  },
  {
   "cell_type": "code",
   "execution_count": 71,
   "metadata": {},
   "outputs": [],
   "source": [
    "from statsmodels.imputation import mice"
   ]
  },
  {
   "cell_type": "code",
   "execution_count": 72,
   "metadata": {},
   "outputs": [],
   "source": [
    "imdata=train_data.copy()#copy数据\n",
    "appdata=mice.MICEData(imdata)#指定数据\n",
    "appdata.update_all(20)#指定MICE的迭代次数"
   ]
  },
  {
   "cell_type": "code",
   "execution_count": 73,
   "metadata": {},
   "outputs": [
    {
     "data": {
      "text/plain": [
       "SeriousDlqin2yrs                        0.0\n",
       "RevolvingUtilizationOfUnsecuredLines    0.0\n",
       "age                                     0.0\n",
       "NumberOfTime30_59DaysPastDueNotWorse    0.0\n",
       "DebtRatio                               0.0\n",
       "MonthlyIncome                           0.0\n",
       "NumberOfOpenCreditLinesAndLoans         0.0\n",
       "NumberOfTimes90DaysLate                 0.0\n",
       "NumberRealEstateLoansOrLines            0.0\n",
       "NumberOfTime60_89DaysPastDueNotWorse    0.0\n",
       "NumberOfDependents                      0.0\n",
       "dtype: float64"
      ]
     },
     "execution_count": 73,
     "metadata": {},
     "output_type": "execute_result"
    }
   ],
   "source": [
    "imdata_new=appdata.data\n",
    "imdata_new.isnull().mean()"
   ]
  },
  {
   "cell_type": "code",
   "execution_count": 74,
   "metadata": {},
   "outputs": [],
   "source": [
    "#有问题"
   ]
  },
  {
   "cell_type": "markdown",
   "metadata": {},
   "source": [
    "### 异常值处理"
   ]
  },
  {
   "cell_type": "markdown",
   "metadata": {},
   "source": [
    "#### 定义盖帽函数"
   ]
  },
  {
   "cell_type": "code",
   "execution_count": 75,
   "metadata": {},
   "outputs": [],
   "source": [
    "def block(x,lower=True,upper=True):\n",
    "# x是输入的Series对象,lower表示是否替换1%分位数,upper表示是否替换99%分位数\n",
    "    ql = x.quantile(.01)\n",
    "    qu = x.quantile(.99)\n",
    "    if lower:\n",
    "        out = x.mask(x<ql,ql)\n",
    "    if upper:\n",
    "        out = x.mask(x>qu,qu)\n",
    "    return(out)"
   ]
  },
  {
   "cell_type": "code",
   "execution_count": 76,
   "metadata": {},
   "outputs": [],
   "source": [
    "#互换标签中的0,1？？？？？"
   ]
  },
  {
   "cell_type": "code",
   "execution_count": 77,
   "metadata": {},
   "outputs": [],
   "source": [
    "train_data['SeriousDlqin2yrs']=-(train_data['SeriousDlqin2yrs']-1)"
   ]
  },
  {
   "cell_type": "markdown",
   "metadata": {},
   "source": [
    "#### 汇总清洗过程，生成函数"
   ]
  },
  {
   "cell_type": "code",
   "execution_count": 78,
   "metadata": {},
   "outputs": [],
   "source": [
    "def datacleaning(testdata,include_y=False):\n",
    "    testdata.columns = testdata.columns.map(lambda x: x.replace(\"-\",\"_\"))\n",
    "    testdata[\"NumberOfDependents\"].fillna(NOD_median,inplace=True)\n",
    "    if include_y:\n",
    "        testdata[\"SeriousDlqin2yrs\"] = -(testdata[\"SeriousDlqin2yrs\"]-1)\n",
    "    return(testdata)"
   ]
  },
  {
   "cell_type": "markdown",
   "metadata": {},
   "source": [
    "### 对每个特征生成分箱对象"
   ]
  },
  {
   "cell_type": "code",
   "execution_count": 79,
   "metadata": {},
   "outputs": [
    {
     "data": {
      "text/plain": [
       "<Figure size 432x288 with 0 Axes>"
      ]
     },
     "metadata": {},
     "output_type": "display_data"
    }
   ],
   "source": [
    "%run smob.py"
   ]
  },
  {
   "cell_type": "code",
   "execution_count": 80,
   "metadata": {},
   "outputs": [],
   "source": [
    "y='SeriousDlqin2yrs'\n",
    "iv_all=pd.Series()"
   ]
  },
  {
   "cell_type": "markdown",
   "metadata": {},
   "source": [
    "#### RevolvingUtilizationOfUnsecuredLines"
   ]
  },
  {
   "cell_type": "markdown",
   "metadata": {},
   "source": [
    "贷款以及信用卡可用额度与总额度比例"
   ]
  },
  {
   "cell_type": "code",
   "execution_count": 81,
   "metadata": {},
   "outputs": [
    {
     "data": {
      "image/png": "[encoded data removed]",
      "text/plain": [
       "<Figure size 1152x720 with 1 Axes>"
      ]
     },
     "metadata": {
      "needs_background": "light"
     },
     "output_type": "display_data"
    }
   ],
   "source": [
    "RUO=smbin(train_data,y,'RevolvingUtilizationOfUnsecuredLines')"
   ]
  },
  {
   "cell_type": "markdown",
   "metadata": {},
   "source": [
    "- 查看IVtable"
   ]
  },
  {
   "cell_type": "code",
   "execution_count": 82,
   "metadata": {},
   "outputs": [
    {
     "data": {
      "text/html": [
       "<div>\n",
       "<style scoped>\n",
       "    .dataframe tbody tr th:only-of-type {\n",
       "        vertical-align: middle;\n",
       "    }\n",
       "\n",
       "    .dataframe tbody tr th {\n",
       "        vertical-align: top;\n",
       "    }\n",
       "\n",
       "    .dataframe thead th {\n",
       "        text-align: right;\n",
       "    }\n",
       "</style>\n",
       "<table border=\"1\" class=\"dataframe\">\n",
       "  <thead>\n",
       "    <tr style=\"text-align: right;\">\n",
       "      <th></th>\n",
       "      <th>Bins</th>\n",
       "      <th>CntRec</th>\n",
       "      <th>CntGood</th>\n",
       "      <th>CntBad</th>\n",
       "      <th>PctRec</th>\n",
       "      <th>PctGood</th>\n",
       "      <th>PctBad</th>\n",
       "      <th>WOE</th>\n",
       "      <th>IV</th>\n",
       "    </tr>\n",
       "  </thead>\n",
       "  <tbody>\n",
       "    <tr>\n",
       "      <th>0</th>\n",
       "      <td>(-0.001, 0.132]</td>\n",
       "      <td>70734</td>\n",
       "      <td>69424</td>\n",
       "      <td>1310</td>\n",
       "      <td>0.473482</td>\n",
       "      <td>0.498084</td>\n",
       "      <td>0.130882</td>\n",
       "      <td>1.3365</td>\n",
       "      <td>0.4908</td>\n",
       "    </tr>\n",
       "    <tr>\n",
       "      <th>1</th>\n",
       "      <td>(0.132, 0.301]</td>\n",
       "      <td>21938</td>\n",
       "      <td>21185</td>\n",
       "      <td>753</td>\n",
       "      <td>0.146850</td>\n",
       "      <td>0.151992</td>\n",
       "      <td>0.075232</td>\n",
       "      <td>0.7032</td>\n",
       "      <td>0.0540</td>\n",
       "    </tr>\n",
       "    <tr>\n",
       "      <th>2</th>\n",
       "      <td>(0.301, 0.495]</td>\n",
       "      <td>15380</td>\n",
       "      <td>14486</td>\n",
       "      <td>894</td>\n",
       "      <td>0.102951</td>\n",
       "      <td>0.103930</td>\n",
       "      <td>0.089320</td>\n",
       "      <td>0.1515</td>\n",
       "      <td>0.0022</td>\n",
       "    </tr>\n",
       "    <tr>\n",
       "      <th>3</th>\n",
       "      <td>(0.495, 0.698]</td>\n",
       "      <td>11599</td>\n",
       "      <td>10499</td>\n",
       "      <td>1100</td>\n",
       "      <td>0.077642</td>\n",
       "      <td>0.075325</td>\n",
       "      <td>0.109901</td>\n",
       "      <td>-0.3778</td>\n",
       "      <td>0.0131</td>\n",
       "    </tr>\n",
       "    <tr>\n",
       "      <th>4</th>\n",
       "      <td>(0.698, 0.863]</td>\n",
       "      <td>7985</td>\n",
       "      <td>6860</td>\n",
       "      <td>1125</td>\n",
       "      <td>0.053450</td>\n",
       "      <td>0.049217</td>\n",
       "      <td>0.112399</td>\n",
       "      <td>-0.8258</td>\n",
       "      <td>0.0522</td>\n",
       "    </tr>\n",
       "    <tr>\n",
       "      <th>5</th>\n",
       "      <td>(0.863, 1.003]</td>\n",
       "      <td>18592</td>\n",
       "      <td>14962</td>\n",
       "      <td>3630</td>\n",
       "      <td>0.124452</td>\n",
       "      <td>0.107345</td>\n",
       "      <td>0.362674</td>\n",
       "      <td>-1.2175</td>\n",
       "      <td>0.3109</td>\n",
       "    </tr>\n",
       "    <tr>\n",
       "      <th>6</th>\n",
       "      <td>(1.003, 50708.0]</td>\n",
       "      <td>3163</td>\n",
       "      <td>1966</td>\n",
       "      <td>1197</td>\n",
       "      <td>0.021173</td>\n",
       "      <td>0.014105</td>\n",
       "      <td>0.119592</td>\n",
       "      <td>-2.1376</td>\n",
       "      <td>0.2255</td>\n",
       "    </tr>\n",
       "    <tr>\n",
       "      <th>7</th>\n",
       "      <td>Total</td>\n",
       "      <td>149391</td>\n",
       "      <td>139382</td>\n",
       "      <td>10009</td>\n",
       "      <td>1.000000</td>\n",
       "      <td>1.000000</td>\n",
       "      <td>1.000000</td>\n",
       "      <td>NaN</td>\n",
       "      <td>1.1487</td>\n",
       "    </tr>\n",
       "  </tbody>\n",
       "</table>\n",
       "</div>"
      ],
      "text/plain": [
       "               Bins  CntRec  CntGood  CntBad    PctRec   PctGood    PctBad  \\\n",
       "0   (-0.001, 0.132]   70734    69424    1310  0.473482  0.498084  0.130882   \n",
       "1    (0.132, 0.301]   21938    21185     753  0.146850  0.151992  0.075232   \n",
       "2    (0.301, 0.495]   15380    14486     894  0.102951  0.103930  0.089320   \n",
       "3    (0.495, 0.698]   11599    10499    1100  0.077642  0.075325  0.109901   \n",
       "4    (0.698, 0.863]    7985     6860    1125  0.053450  0.049217  0.112399   \n",
       "5    (0.863, 1.003]   18592    14962    3630  0.124452  0.107345  0.362674   \n",
       "6  (1.003, 50708.0]    3163     1966    1197  0.021173  0.014105  0.119592   \n",
       "7             Total  149391   139382   10009  1.000000  1.000000  1.000000   \n",
       "\n",
       "      WOE      IV  \n",
       "0  1.3365  0.4908  \n",
       "1  0.7032  0.0540  \n",
       "2  0.1515  0.0022  \n",
       "3 -0.3778  0.0131  \n",
       "4 -0.8258  0.0522  \n",
       "5 -1.2175  0.3109  \n",
       "6 -2.1376  0.2255  \n",
       "7     NaN  1.1487  "
      ]
     },
     "execution_count": 82,
     "metadata": {},
     "output_type": "execute_result"
    }
   ],
   "source": [
    "RUO.IVtable"
   ]
  },
  {
   "cell_type": "markdown",
   "metadata": {},
   "source": [
    "- 查看树结构"
   ]
  },
  {
   "cell_type": "code",
   "execution_count": 83,
   "metadata": {},
   "outputs": [
    {
     "name": "stdout",
     "output_type": "stream",
     "text": [
      "The cart tree structure has 13 nodes, tree structure: \n",
      "node = 0 test node: go to node 1 if RevolvingUtilizationOfUnsecuredLines <= 0.7 else to node 2.\n",
      "\tnode = 1 test node: go to node 5 if RevolvingUtilizationOfUnsecuredLines <= 0.3 else to node 6.\n",
      "\tnode = 2 test node: go to node 3 if RevolvingUtilizationOfUnsecuredLines <= 1.0 else to node 4.\n",
      "\t\tnode = 3 test node: go to node 7 if RevolvingUtilizationOfUnsecuredLines <= 0.86 else to node 8.\n",
      "\t\tnode = 4 leaf node.\n",
      "\t\tnode = 5 test node: go to node 11 if RevolvingUtilizationOfUnsecuredLines <= 0.13 else to node 12.\n",
      "\t\tnode = 6 test node: go to node 9 if RevolvingUtilizationOfUnsecuredLines <= 0.49 else to node 10.\n",
      "\t\t\tnode = 7 leaf node.\n",
      "\t\t\tnode = 8 leaf node.\n",
      "\t\t\tnode = 9 leaf node.\n",
      "\t\t\tnode = 10 leaf node.\n",
      "\t\t\tnode = 11 leaf node.\n",
      "\t\t\tnode = 12 leaf node.\n",
      "\n"
     ]
    }
   ],
   "source": [
    "print(RUO.Tree_structure)"
   ]
  },
  {
   "cell_type": "markdown",
   "metadata": {},
   "source": [
    "- 保存iv值"
   ]
  },
  {
   "cell_type": "code",
   "execution_count": 84,
   "metadata": {},
   "outputs": [],
   "source": [
    "iv_all=iv_all.append(pd.Series({\"RevolvingUtilizationOfUnsecuredLines\":RUO.IV}))"
   ]
  },
  {
   "cell_type": "markdown",
   "metadata": {},
   "source": [
    "#### age"
   ]
  },
  {
   "cell_type": "code",
   "execution_count": 85,
   "metadata": {},
   "outputs": [
    {
     "data": {
      "image/png": "[encoded data removed]",
      "text/plain": [
       "<Figure size 1152x720 with 1 Axes>"
      ]
     },
     "metadata": {
      "needs_background": "light"
     },
     "output_type": "display_data"
    }
   ],
   "source": [
    "age=smbin(train_data,y,'age')"
   ]
  },
  {
   "cell_type": "code",
   "execution_count": 86,
   "metadata": {},
   "outputs": [
    {
     "data": {
      "text/html": [
       "<div>\n",
       "<style scoped>\n",
       "    .dataframe tbody tr th:only-of-type {\n",
       "        vertical-align: middle;\n",
       "    }\n",
       "\n",
       "    .dataframe tbody tr th {\n",
       "        vertical-align: top;\n",
       "    }\n",
       "\n",
       "    .dataframe thead th {\n",
       "        text-align: right;\n",
       "    }\n",
       "</style>\n",
       "<table border=\"1\" class=\"dataframe\">\n",
       "  <thead>\n",
       "    <tr style=\"text-align: right;\">\n",
       "      <th></th>\n",
       "      <th>Bins</th>\n",
       "      <th>CntRec</th>\n",
       "      <th>CntGood</th>\n",
       "      <th>CntBad</th>\n",
       "      <th>PctRec</th>\n",
       "      <th>PctGood</th>\n",
       "      <th>PctBad</th>\n",
       "      <th>WOE</th>\n",
       "      <th>IV</th>\n",
       "    </tr>\n",
       "  </thead>\n",
       "  <tbody>\n",
       "    <tr>\n",
       "      <th>0</th>\n",
       "      <td>(-0.001, 36.5]</td>\n",
       "      <td>23628</td>\n",
       "      <td>21011</td>\n",
       "      <td>2617</td>\n",
       "      <td>0.158162</td>\n",
       "      <td>0.150744</td>\n",
       "      <td>0.261465</td>\n",
       "      <td>-0.5507</td>\n",
       "      <td>0.0610</td>\n",
       "    </tr>\n",
       "    <tr>\n",
       "      <th>1</th>\n",
       "      <td>(36.5, 43.5]</td>\n",
       "      <td>20609</td>\n",
       "      <td>18746</td>\n",
       "      <td>1863</td>\n",
       "      <td>0.137953</td>\n",
       "      <td>0.134494</td>\n",
       "      <td>0.186132</td>\n",
       "      <td>-0.3249</td>\n",
       "      <td>0.0168</td>\n",
       "    </tr>\n",
       "    <tr>\n",
       "      <th>2</th>\n",
       "      <td>(43.5, 55.5]</td>\n",
       "      <td>43428</td>\n",
       "      <td>40119</td>\n",
       "      <td>3309</td>\n",
       "      <td>0.290700</td>\n",
       "      <td>0.287835</td>\n",
       "      <td>0.330602</td>\n",
       "      <td>-0.1385</td>\n",
       "      <td>0.0059</td>\n",
       "    </tr>\n",
       "    <tr>\n",
       "      <th>3</th>\n",
       "      <td>(55.5, 62.5]</td>\n",
       "      <td>23972</td>\n",
       "      <td>22764</td>\n",
       "      <td>1208</td>\n",
       "      <td>0.160465</td>\n",
       "      <td>0.163321</td>\n",
       "      <td>0.120691</td>\n",
       "      <td>0.3025</td>\n",
       "      <td>0.0129</td>\n",
       "    </tr>\n",
       "    <tr>\n",
       "      <th>4</th>\n",
       "      <td>(62.5, 109.0]</td>\n",
       "      <td>37754</td>\n",
       "      <td>36742</td>\n",
       "      <td>1012</td>\n",
       "      <td>0.252719</td>\n",
       "      <td>0.263606</td>\n",
       "      <td>0.101109</td>\n",
       "      <td>0.9583</td>\n",
       "      <td>0.1557</td>\n",
       "    </tr>\n",
       "    <tr>\n",
       "      <th>5</th>\n",
       "      <td>Total</td>\n",
       "      <td>149391</td>\n",
       "      <td>139382</td>\n",
       "      <td>10009</td>\n",
       "      <td>1.000000</td>\n",
       "      <td>1.000000</td>\n",
       "      <td>1.000000</td>\n",
       "      <td>NaN</td>\n",
       "      <td>0.2523</td>\n",
       "    </tr>\n",
       "  </tbody>\n",
       "</table>\n",
       "</div>"
      ],
      "text/plain": [
       "             Bins  CntRec  CntGood  CntBad    PctRec   PctGood    PctBad  \\\n",
       "0  (-0.001, 36.5]   23628    21011    2617  0.158162  0.150744  0.261465   \n",
       "1    (36.5, 43.5]   20609    18746    1863  0.137953  0.134494  0.186132   \n",
       "2    (43.5, 55.5]   43428    40119    3309  0.290700  0.287835  0.330602   \n",
       "3    (55.5, 62.5]   23972    22764    1208  0.160465  0.163321  0.120691   \n",
       "4   (62.5, 109.0]   37754    36742    1012  0.252719  0.263606  0.101109   \n",
       "5           Total  149391   139382   10009  1.000000  1.000000  1.000000   \n",
       "\n",
       "      WOE      IV  \n",
       "0 -0.5507  0.0610  \n",
       "1 -0.3249  0.0168  \n",
       "2 -0.1385  0.0059  \n",
       "3  0.3025  0.0129  \n",
       "4  0.9583  0.1557  \n",
       "5     NaN  0.2523  "
      ]
     },
     "execution_count": 86,
     "metadata": {},
     "output_type": "execute_result"
    }
   ],
   "source": [
    "age.IVtable"
   ]
  },
  {
   "cell_type": "code",
   "execution_count": 87,
   "metadata": {},
   "outputs": [],
   "source": [
    "iv_all=iv_all.append(pd.Series({'age':age.IV}))"
   ]
  },
  {
   "cell_type": "markdown",
   "metadata": {},
   "source": [
    "#### NumberOfTime30_59DaysPastDueNotWorse"
   ]
  },
  {
   "cell_type": "markdown",
   "metadata": {},
   "source": [
    "过去两年内出现35-59天逾期但是没有发展的更坏的次数"
   ]
  },
  {
   "cell_type": "code",
   "execution_count": 88,
   "metadata": {},
   "outputs": [
    {
     "data": {
      "image/png": "[encoded data removed]",
      "text/plain": [
       "<Figure size 1152x720 with 1 Axes>"
      ]
     },
     "metadata": {
      "needs_background": "light"
     },
     "output_type": "display_data"
    }
   ],
   "source": [
    "NO3059=smbin(train_data,y,'NumberOfTime30_59DaysPastDueNotWorse')"
   ]
  },
  {
   "cell_type": "code",
   "execution_count": 89,
   "metadata": {},
   "outputs": [
    {
     "data": {
      "text/html": [
       "<div>\n",
       "<style scoped>\n",
       "    .dataframe tbody tr th:only-of-type {\n",
       "        vertical-align: middle;\n",
       "    }\n",
       "\n",
       "    .dataframe tbody tr th {\n",
       "        vertical-align: top;\n",
       "    }\n",
       "\n",
       "    .dataframe thead th {\n",
       "        text-align: right;\n",
       "    }\n",
       "</style>\n",
       "<table border=\"1\" class=\"dataframe\">\n",
       "  <thead>\n",
       "    <tr style=\"text-align: right;\">\n",
       "      <th></th>\n",
       "      <th>Bins</th>\n",
       "      <th>CntRec</th>\n",
       "      <th>CntGood</th>\n",
       "      <th>CntBad</th>\n",
       "      <th>PctRec</th>\n",
       "      <th>PctGood</th>\n",
       "      <th>PctBad</th>\n",
       "      <th>WOE</th>\n",
       "      <th>IV</th>\n",
       "    </tr>\n",
       "  </thead>\n",
       "  <tbody>\n",
       "    <tr>\n",
       "      <th>0</th>\n",
       "      <td>(-0.001, 0.5]</td>\n",
       "      <td>125453</td>\n",
       "      <td>120418</td>\n",
       "      <td>5035</td>\n",
       "      <td>0.839763</td>\n",
       "      <td>0.863942</td>\n",
       "      <td>0.503047</td>\n",
       "      <td>0.5408</td>\n",
       "      <td>0.1952</td>\n",
       "    </tr>\n",
       "    <tr>\n",
       "      <th>1</th>\n",
       "      <td>(0.5, 1.5]</td>\n",
       "      <td>16033</td>\n",
       "      <td>13624</td>\n",
       "      <td>2409</td>\n",
       "      <td>0.107322</td>\n",
       "      <td>0.097746</td>\n",
       "      <td>0.240683</td>\n",
       "      <td>-0.9011</td>\n",
       "      <td>0.1288</td>\n",
       "    </tr>\n",
       "    <tr>\n",
       "      <th>2</th>\n",
       "      <td>(1.5, 2.5]</td>\n",
       "      <td>4598</td>\n",
       "      <td>3379</td>\n",
       "      <td>1219</td>\n",
       "      <td>0.030778</td>\n",
       "      <td>0.024243</td>\n",
       "      <td>0.121790</td>\n",
       "      <td>-1.6142</td>\n",
       "      <td>0.1575</td>\n",
       "    </tr>\n",
       "    <tr>\n",
       "      <th>3</th>\n",
       "      <td>(2.5, 3.5]</td>\n",
       "      <td>1754</td>\n",
       "      <td>1136</td>\n",
       "      <td>618</td>\n",
       "      <td>0.011741</td>\n",
       "      <td>0.008150</td>\n",
       "      <td>0.061744</td>\n",
       "      <td>-2.0250</td>\n",
       "      <td>0.1085</td>\n",
       "    </tr>\n",
       "    <tr>\n",
       "      <th>4</th>\n",
       "      <td>(3.5, 98.0]</td>\n",
       "      <td>1553</td>\n",
       "      <td>825</td>\n",
       "      <td>728</td>\n",
       "      <td>0.010396</td>\n",
       "      <td>0.005919</td>\n",
       "      <td>0.072735</td>\n",
       "      <td>-2.5087</td>\n",
       "      <td>0.1676</td>\n",
       "    </tr>\n",
       "    <tr>\n",
       "      <th>5</th>\n",
       "      <td>Total</td>\n",
       "      <td>149391</td>\n",
       "      <td>139382</td>\n",
       "      <td>10009</td>\n",
       "      <td>1.000000</td>\n",
       "      <td>1.000000</td>\n",
       "      <td>1.000000</td>\n",
       "      <td>NaN</td>\n",
       "      <td>0.7576</td>\n",
       "    </tr>\n",
       "  </tbody>\n",
       "</table>\n",
       "</div>"
      ],
      "text/plain": [
       "            Bins  CntRec  CntGood  CntBad    PctRec   PctGood    PctBad  \\\n",
       "0  (-0.001, 0.5]  125453   120418    5035  0.839763  0.863942  0.503047   \n",
       "1     (0.5, 1.5]   16033    13624    2409  0.107322  0.097746  0.240683   \n",
       "2     (1.5, 2.5]    4598     3379    1219  0.030778  0.024243  0.121790   \n",
       "3     (2.5, 3.5]    1754     1136     618  0.011741  0.008150  0.061744   \n",
       "4    (3.5, 98.0]    1553      825     728  0.010396  0.005919  0.072735   \n",
       "5          Total  149391   139382   10009  1.000000  1.000000  1.000000   \n",
       "\n",
       "      WOE      IV  \n",
       "0  0.5408  0.1952  \n",
       "1 -0.9011  0.1288  \n",
       "2 -1.6142  0.1575  \n",
       "3 -2.0250  0.1085  \n",
       "4 -2.5087  0.1676  \n",
       "5     NaN  0.7576  "
      ]
     },
     "execution_count": 89,
     "metadata": {},
     "output_type": "execute_result"
    }
   ],
   "source": [
    "NO3059.IVtable"
   ]
  },
  {
   "cell_type": "code",
   "execution_count": 90,
   "metadata": {},
   "outputs": [],
   "source": [
    "iv_all=iv_all.append(pd.Series({'NumberOfTime30_59DaysPastDueNotWorse':NO3059.IV}))"
   ]
  },
  {
   "cell_type": "markdown",
   "metadata": {},
   "source": [
    "#### DebtRatio"
   ]
  },
  {
   "cell_type": "markdown",
   "metadata": {},
   "source": [
    "每月偿还债务,赡养费,生活费用除以月总收入"
   ]
  },
  {
   "cell_type": "code",
   "execution_count": 91,
   "metadata": {},
   "outputs": [
    {
     "data": {
      "image/png": "[encoded data removed]",
      "text/plain": [
       "<Figure size 1152x720 with 1 Axes>"
      ]
     },
     "metadata": {
      "needs_background": "light"
     },
     "output_type": "display_data"
    }
   ],
   "source": [
    "DR=smbin(train_data,y,'DebtRatio')"
   ]
  },
  {
   "cell_type": "code",
   "execution_count": 92,
   "metadata": {},
   "outputs": [
    {
     "data": {
      "text/html": [
       "<div>\n",
       "<style scoped>\n",
       "    .dataframe tbody tr th:only-of-type {\n",
       "        vertical-align: middle;\n",
       "    }\n",
       "\n",
       "    .dataframe tbody tr th {\n",
       "        vertical-align: top;\n",
       "    }\n",
       "\n",
       "    .dataframe thead th {\n",
       "        text-align: right;\n",
       "    }\n",
       "</style>\n",
       "<table border=\"1\" class=\"dataframe\">\n",
       "  <thead>\n",
       "    <tr style=\"text-align: right;\">\n",
       "      <th></th>\n",
       "      <th>Bins</th>\n",
       "      <th>CntRec</th>\n",
       "      <th>CntGood</th>\n",
       "      <th>CntBad</th>\n",
       "      <th>PctRec</th>\n",
       "      <th>PctGood</th>\n",
       "      <th>PctBad</th>\n",
       "      <th>WOE</th>\n",
       "      <th>IV</th>\n",
       "    </tr>\n",
       "  </thead>\n",
       "  <tbody>\n",
       "    <tr>\n",
       "      <th>0</th>\n",
       "      <td>(-0.001, 1.3e-05]</td>\n",
       "      <td>3515</td>\n",
       "      <td>3191</td>\n",
       "      <td>324</td>\n",
       "      <td>0.023529</td>\n",
       "      <td>0.022894</td>\n",
       "      <td>0.032371</td>\n",
       "      <td>-0.3464</td>\n",
       "      <td>0.0033</td>\n",
       "    </tr>\n",
       "    <tr>\n",
       "      <th>1</th>\n",
       "      <td>(1.3e-05, 0.0163]</td>\n",
       "      <td>8296</td>\n",
       "      <td>8009</td>\n",
       "      <td>287</td>\n",
       "      <td>0.055532</td>\n",
       "      <td>0.057461</td>\n",
       "      <td>0.028674</td>\n",
       "      <td>0.6951</td>\n",
       "      <td>0.0200</td>\n",
       "    </tr>\n",
       "    <tr>\n",
       "      <th>2</th>\n",
       "      <td>(0.0163, 0.423]</td>\n",
       "      <td>71689</td>\n",
       "      <td>67363</td>\n",
       "      <td>4326</td>\n",
       "      <td>0.479875</td>\n",
       "      <td>0.483298</td>\n",
       "      <td>0.432211</td>\n",
       "      <td>0.1117</td>\n",
       "      <td>0.0057</td>\n",
       "    </tr>\n",
       "    <tr>\n",
       "      <th>3</th>\n",
       "      <td>(0.423, 0.654]</td>\n",
       "      <td>21179</td>\n",
       "      <td>19451</td>\n",
       "      <td>1728</td>\n",
       "      <td>0.141769</td>\n",
       "      <td>0.139552</td>\n",
       "      <td>0.172645</td>\n",
       "      <td>-0.2128</td>\n",
       "      <td>0.0070</td>\n",
       "    </tr>\n",
       "    <tr>\n",
       "      <th>4</th>\n",
       "      <td>(0.654, 3.973]</td>\n",
       "      <td>14648</td>\n",
       "      <td>12961</td>\n",
       "      <td>1687</td>\n",
       "      <td>0.098051</td>\n",
       "      <td>0.092989</td>\n",
       "      <td>0.168548</td>\n",
       "      <td>-0.5947</td>\n",
       "      <td>0.0449</td>\n",
       "    </tr>\n",
       "    <tr>\n",
       "      <th>5</th>\n",
       "      <td>(3.973, 329664.0]</td>\n",
       "      <td>30064</td>\n",
       "      <td>28407</td>\n",
       "      <td>1657</td>\n",
       "      <td>0.201244</td>\n",
       "      <td>0.203807</td>\n",
       "      <td>0.165551</td>\n",
       "      <td>0.2079</td>\n",
       "      <td>0.0080</td>\n",
       "    </tr>\n",
       "    <tr>\n",
       "      <th>6</th>\n",
       "      <td>Total</td>\n",
       "      <td>149391</td>\n",
       "      <td>139382</td>\n",
       "      <td>10009</td>\n",
       "      <td>1.000000</td>\n",
       "      <td>1.000000</td>\n",
       "      <td>1.000000</td>\n",
       "      <td>NaN</td>\n",
       "      <td>0.0889</td>\n",
       "    </tr>\n",
       "  </tbody>\n",
       "</table>\n",
       "</div>"
      ],
      "text/plain": [
       "                Bins  CntRec  CntGood  CntBad    PctRec   PctGood    PctBad  \\\n",
       "0  (-0.001, 1.3e-05]    3515     3191     324  0.023529  0.022894  0.032371   \n",
       "1  (1.3e-05, 0.0163]    8296     8009     287  0.055532  0.057461  0.028674   \n",
       "2    (0.0163, 0.423]   71689    67363    4326  0.479875  0.483298  0.432211   \n",
       "3     (0.423, 0.654]   21179    19451    1728  0.141769  0.139552  0.172645   \n",
       "4     (0.654, 3.973]   14648    12961    1687  0.098051  0.092989  0.168548   \n",
       "5  (3.973, 329664.0]   30064    28407    1657  0.201244  0.203807  0.165551   \n",
       "6              Total  149391   139382   10009  1.000000  1.000000  1.000000   \n",
       "\n",
       "      WOE      IV  \n",
       "0 -0.3464  0.0033  \n",
       "1  0.6951  0.0200  \n",
       "2  0.1117  0.0057  \n",
       "3 -0.2128  0.0070  \n",
       "4 -0.5947  0.0449  \n",
       "5  0.2079  0.0080  \n",
       "6     NaN  0.0889  "
      ]
     },
     "execution_count": 92,
     "metadata": {},
     "output_type": "execute_result"
    }
   ],
   "source": [
    "DR.IVtable"
   ]
  },
  {
   "cell_type": "code",
   "execution_count": 93,
   "metadata": {},
   "outputs": [],
   "source": [
    "iv_all=iv_all.append(pd.Series({'DebtRatio':DR.IV}))"
   ]
  },
  {
   "cell_type": "markdown",
   "metadata": {},
   "source": [
    "#### MonthlyIncome"
   ]
  },
  {
   "cell_type": "code",
   "execution_count": 94,
   "metadata": {},
   "outputs": [
    {
     "data": {
      "image/png": "[encoded data removed]",
      "text/plain": [
       "<Figure size 1152x720 with 1 Axes>"
      ]
     },
     "metadata": {
      "needs_background": "light"
     },
     "output_type": "display_data"
    }
   ],
   "source": [
    "Mic=smbin(train_data,y,'MonthlyIncome')"
   ]
  },
  {
   "cell_type": "code",
   "execution_count": 95,
   "metadata": {},
   "outputs": [
    {
     "data": {
      "text/html": [
       "<div>\n",
       "<style scoped>\n",
       "    .dataframe tbody tr th:only-of-type {\n",
       "        vertical-align: middle;\n",
       "    }\n",
       "\n",
       "    .dataframe tbody tr th {\n",
       "        vertical-align: top;\n",
       "    }\n",
       "\n",
       "    .dataframe thead th {\n",
       "        text-align: right;\n",
       "    }\n",
       "</style>\n",
       "<table border=\"1\" class=\"dataframe\">\n",
       "  <thead>\n",
       "    <tr style=\"text-align: right;\">\n",
       "      <th></th>\n",
       "      <th>Bins</th>\n",
       "      <th>CntRec</th>\n",
       "      <th>CntGood</th>\n",
       "      <th>CntBad</th>\n",
       "      <th>PctRec</th>\n",
       "      <th>PctGood</th>\n",
       "      <th>PctBad</th>\n",
       "      <th>WOE</th>\n",
       "      <th>IV</th>\n",
       "    </tr>\n",
       "  </thead>\n",
       "  <tbody>\n",
       "    <tr>\n",
       "      <th>0</th>\n",
       "      <td>(-0.001, 930.5]</td>\n",
       "      <td>4229</td>\n",
       "      <td>4028</td>\n",
       "      <td>201</td>\n",
       "      <td>0.028308</td>\n",
       "      <td>0.028899</td>\n",
       "      <td>0.020082</td>\n",
       "      <td>0.3640</td>\n",
       "      <td>0.0032</td>\n",
       "    </tr>\n",
       "    <tr>\n",
       "      <th>1</th>\n",
       "      <td>(930.5, 3332.5]</td>\n",
       "      <td>24574</td>\n",
       "      <td>22105</td>\n",
       "      <td>2469</td>\n",
       "      <td>0.164495</td>\n",
       "      <td>0.158593</td>\n",
       "      <td>0.246678</td>\n",
       "      <td>-0.4417</td>\n",
       "      <td>0.0389</td>\n",
       "    </tr>\n",
       "    <tr>\n",
       "      <th>2</th>\n",
       "      <td>(3332.5, 5320.5]</td>\n",
       "      <td>30421</td>\n",
       "      <td>27994</td>\n",
       "      <td>2427</td>\n",
       "      <td>0.203633</td>\n",
       "      <td>0.200844</td>\n",
       "      <td>0.242482</td>\n",
       "      <td>-0.1884</td>\n",
       "      <td>0.0078</td>\n",
       "    </tr>\n",
       "    <tr>\n",
       "      <th>3</th>\n",
       "      <td>(5320.5, 6643.5]</td>\n",
       "      <td>16128</td>\n",
       "      <td>15050</td>\n",
       "      <td>1078</td>\n",
       "      <td>0.107958</td>\n",
       "      <td>0.107977</td>\n",
       "      <td>0.107703</td>\n",
       "      <td>0.0025</td>\n",
       "      <td>0.0000</td>\n",
       "    </tr>\n",
       "    <tr>\n",
       "      <th>4</th>\n",
       "      <td>(6643.5, 3008750.0]</td>\n",
       "      <td>44818</td>\n",
       "      <td>42638</td>\n",
       "      <td>2180</td>\n",
       "      <td>0.300005</td>\n",
       "      <td>0.305908</td>\n",
       "      <td>0.217804</td>\n",
       "      <td>0.3397</td>\n",
       "      <td>0.0299</td>\n",
       "    </tr>\n",
       "    <tr>\n",
       "      <th>5</th>\n",
       "      <td>nan</td>\n",
       "      <td>29221</td>\n",
       "      <td>27567</td>\n",
       "      <td>1654</td>\n",
       "      <td>0.195601</td>\n",
       "      <td>0.197780</td>\n",
       "      <td>0.165251</td>\n",
       "      <td>0.1797</td>\n",
       "      <td>0.0058</td>\n",
       "    </tr>\n",
       "    <tr>\n",
       "      <th>6</th>\n",
       "      <td>Total</td>\n",
       "      <td>149391</td>\n",
       "      <td>139382</td>\n",
       "      <td>10009</td>\n",
       "      <td>1.000000</td>\n",
       "      <td>1.000000</td>\n",
       "      <td>1.000000</td>\n",
       "      <td>NaN</td>\n",
       "      <td>0.0856</td>\n",
       "    </tr>\n",
       "  </tbody>\n",
       "</table>\n",
       "</div>"
      ],
      "text/plain": [
       "                  Bins  CntRec  CntGood  CntBad    PctRec   PctGood    PctBad  \\\n",
       "0      (-0.001, 930.5]    4229     4028     201  0.028308  0.028899  0.020082   \n",
       "1      (930.5, 3332.5]   24574    22105    2469  0.164495  0.158593  0.246678   \n",
       "2     (3332.5, 5320.5]   30421    27994    2427  0.203633  0.200844  0.242482   \n",
       "3     (5320.5, 6643.5]   16128    15050    1078  0.107958  0.107977  0.107703   \n",
       "4  (6643.5, 3008750.0]   44818    42638    2180  0.300005  0.305908  0.217804   \n",
       "5                  nan   29221    27567    1654  0.195601  0.197780  0.165251   \n",
       "6                Total  149391   139382   10009  1.000000  1.000000  1.000000   \n",
       "\n",
       "      WOE      IV  \n",
       "0  0.3640  0.0032  \n",
       "1 -0.4417  0.0389  \n",
       "2 -0.1884  0.0078  \n",
       "3  0.0025  0.0000  \n",
       "4  0.3397  0.0299  \n",
       "5  0.1797  0.0058  \n",
       "6     NaN  0.0856  "
      ]
     },
     "execution_count": 95,
     "metadata": {},
     "output_type": "execute_result"
    }
   ],
   "source": [
    "Mic.IVtable"
   ]
  },
  {
   "cell_type": "code",
   "execution_count": 96,
   "metadata": {},
   "outputs": [],
   "source": [
    "iv_all=iv_all.append(pd.Series({'MonthlyIncome':Mic.IV}))"
   ]
  },
  {
   "cell_type": "markdown",
   "metadata": {},
   "source": [
    "#### NumberOfOpenCreditLinesAndLoans"
   ]
  },
  {
   "cell_type": "markdown",
   "metadata": {},
   "source": [
    "开放式贷款和信贷数量"
   ]
  },
  {
   "cell_type": "code",
   "execution_count": 98,
   "metadata": {},
   "outputs": [
    {
     "data": {
      "image/png": "[encoded data removed]",
      "text/plain": [
       "<Figure size 1152x720 with 1 Axes>"
      ]
     },
     "metadata": {
      "needs_background": "light"
     },
     "output_type": "display_data"
    }
   ],
   "source": [
    "NOO=smbin(train_data,y,'NumberOfOpenCreditLinesAndLoans')"
   ]
  },
  {
   "cell_type": "code",
   "execution_count": 99,
   "metadata": {},
   "outputs": [
    {
     "data": {
      "text/html": [
       "<div>\n",
       "<style scoped>\n",
       "    .dataframe tbody tr th:only-of-type {\n",
       "        vertical-align: middle;\n",
       "    }\n",
       "\n",
       "    .dataframe tbody tr th {\n",
       "        vertical-align: top;\n",
       "    }\n",
       "\n",
       "    .dataframe thead th {\n",
       "        text-align: right;\n",
       "    }\n",
       "</style>\n",
       "<table border=\"1\" class=\"dataframe\">\n",
       "  <thead>\n",
       "    <tr style=\"text-align: right;\">\n",
       "      <th></th>\n",
       "      <th>Bins</th>\n",
       "      <th>CntRec</th>\n",
       "      <th>CntGood</th>\n",
       "      <th>CntBad</th>\n",
       "      <th>PctRec</th>\n",
       "      <th>PctGood</th>\n",
       "      <th>PctBad</th>\n",
       "      <th>WOE</th>\n",
       "      <th>IV</th>\n",
       "    </tr>\n",
       "  </thead>\n",
       "  <tbody>\n",
       "    <tr>\n",
       "      <th>0</th>\n",
       "      <td>(-0.001, 0.5]</td>\n",
       "      <td>1712</td>\n",
       "      <td>1244</td>\n",
       "      <td>468</td>\n",
       "      <td>0.011460</td>\n",
       "      <td>0.008925</td>\n",
       "      <td>0.046758</td>\n",
       "      <td>-1.6561</td>\n",
       "      <td>0.0627</td>\n",
       "    </tr>\n",
       "    <tr>\n",
       "      <th>1</th>\n",
       "      <td>(0.5, 1.5]</td>\n",
       "      <td>4251</td>\n",
       "      <td>3667</td>\n",
       "      <td>584</td>\n",
       "      <td>0.028456</td>\n",
       "      <td>0.026309</td>\n",
       "      <td>0.058347</td>\n",
       "      <td>-0.7965</td>\n",
       "      <td>0.0255</td>\n",
       "    </tr>\n",
       "    <tr>\n",
       "      <th>2</th>\n",
       "      <td>(1.5, 3.5]</td>\n",
       "      <td>15550</td>\n",
       "      <td>14259</td>\n",
       "      <td>1291</td>\n",
       "      <td>0.104089</td>\n",
       "      <td>0.102302</td>\n",
       "      <td>0.128984</td>\n",
       "      <td>-0.2318</td>\n",
       "      <td>0.0062</td>\n",
       "    </tr>\n",
       "    <tr>\n",
       "      <th>3</th>\n",
       "      <td>(3.5, 13.5]</td>\n",
       "      <td>105861</td>\n",
       "      <td>99732</td>\n",
       "      <td>6129</td>\n",
       "      <td>0.708617</td>\n",
       "      <td>0.715530</td>\n",
       "      <td>0.612349</td>\n",
       "      <td>0.1557</td>\n",
       "      <td>0.0161</td>\n",
       "    </tr>\n",
       "    <tr>\n",
       "      <th>4</th>\n",
       "      <td>(13.5, 58.0]</td>\n",
       "      <td>22017</td>\n",
       "      <td>20480</td>\n",
       "      <td>1537</td>\n",
       "      <td>0.147378</td>\n",
       "      <td>0.146934</td>\n",
       "      <td>0.153562</td>\n",
       "      <td>-0.0441</td>\n",
       "      <td>0.0003</td>\n",
       "    </tr>\n",
       "    <tr>\n",
       "      <th>5</th>\n",
       "      <td>Total</td>\n",
       "      <td>149391</td>\n",
       "      <td>139382</td>\n",
       "      <td>10009</td>\n",
       "      <td>1.000000</td>\n",
       "      <td>1.000000</td>\n",
       "      <td>1.000000</td>\n",
       "      <td>NaN</td>\n",
       "      <td>0.1108</td>\n",
       "    </tr>\n",
       "  </tbody>\n",
       "</table>\n",
       "</div>"
      ],
      "text/plain": [
       "            Bins  CntRec  CntGood  CntBad    PctRec   PctGood    PctBad  \\\n",
       "0  (-0.001, 0.5]    1712     1244     468  0.011460  0.008925  0.046758   \n",
       "1     (0.5, 1.5]    4251     3667     584  0.028456  0.026309  0.058347   \n",
       "2     (1.5, 3.5]   15550    14259    1291  0.104089  0.102302  0.128984   \n",
       "3    (3.5, 13.5]  105861    99732    6129  0.708617  0.715530  0.612349   \n",
       "4   (13.5, 58.0]   22017    20480    1537  0.147378  0.146934  0.153562   \n",
       "5          Total  149391   139382   10009  1.000000  1.000000  1.000000   \n",
       "\n",
       "      WOE      IV  \n",
       "0 -1.6561  0.0627  \n",
       "1 -0.7965  0.0255  \n",
       "2 -0.2318  0.0062  \n",
       "3  0.1557  0.0161  \n",
       "4 -0.0441  0.0003  \n",
       "5     NaN  0.1108  "
      ]
     },
     "execution_count": 99,
     "metadata": {},
     "output_type": "execute_result"
    }
   ],
   "source": [
    "NOO.IVtable"
   ]
  },
  {
   "cell_type": "code",
   "execution_count": 100,
   "metadata": {},
   "outputs": [],
   "source": [
    "iv_all=iv_all.append(pd.Series({'NumberOfOpenCreditLinesAndLoans':NOO.IV}))"
   ]
  },
  {
   "cell_type": "markdown",
   "metadata": {},
   "source": [
    "#### NumberOfTimes90DaysLate"
   ]
  },
  {
   "cell_type": "markdown",
   "metadata": {},
   "source": [
    "借款者有90天或更高逾期的次数"
   ]
  },
  {
   "cell_type": "code",
   "execution_count": 101,
   "metadata": {},
   "outputs": [
    {
     "data": {
      "image/png": "[encoded data removed]",
      "text/plain": [
       "<Figure size 1152x720 with 1 Axes>"
      ]
     },
     "metadata": {
      "needs_background": "light"
     },
     "output_type": "display_data"
    }
   ],
   "source": [
    "NO90=smbin(train_data,y,'NumberOfTimes90DaysLate')"
   ]
  },
  {
   "cell_type": "code",
   "execution_count": 102,
   "metadata": {},
   "outputs": [
    {
     "data": {
      "text/html": [
       "<div>\n",
       "<style scoped>\n",
       "    .dataframe tbody tr th:only-of-type {\n",
       "        vertical-align: middle;\n",
       "    }\n",
       "\n",
       "    .dataframe tbody tr th {\n",
       "        vertical-align: top;\n",
       "    }\n",
       "\n",
       "    .dataframe thead th {\n",
       "        text-align: right;\n",
       "    }\n",
       "</style>\n",
       "<table border=\"1\" class=\"dataframe\">\n",
       "  <thead>\n",
       "    <tr style=\"text-align: right;\">\n",
       "      <th></th>\n",
       "      <th>Bins</th>\n",
       "      <th>CntRec</th>\n",
       "      <th>CntGood</th>\n",
       "      <th>CntBad</th>\n",
       "      <th>PctRec</th>\n",
       "      <th>PctGood</th>\n",
       "      <th>PctBad</th>\n",
       "      <th>WOE</th>\n",
       "      <th>IV</th>\n",
       "    </tr>\n",
       "  </thead>\n",
       "  <tbody>\n",
       "    <tr>\n",
       "      <th>0</th>\n",
       "      <td>(-0.001, 0.5]</td>\n",
       "      <td>141108</td>\n",
       "      <td>134559</td>\n",
       "      <td>6549</td>\n",
       "      <td>0.944555</td>\n",
       "      <td>0.965397</td>\n",
       "      <td>0.654311</td>\n",
       "      <td>0.3890</td>\n",
       "      <td>0.1210</td>\n",
       "    </tr>\n",
       "    <tr>\n",
       "      <th>1</th>\n",
       "      <td>(0.5, 1.5]</td>\n",
       "      <td>5232</td>\n",
       "      <td>3468</td>\n",
       "      <td>1764</td>\n",
       "      <td>0.035022</td>\n",
       "      <td>0.024881</td>\n",
       "      <td>0.176241</td>\n",
       "      <td>-1.9577</td>\n",
       "      <td>0.2963</td>\n",
       "    </tr>\n",
       "    <tr>\n",
       "      <th>2</th>\n",
       "      <td>(1.5, 98.0]</td>\n",
       "      <td>3051</td>\n",
       "      <td>1355</td>\n",
       "      <td>1696</td>\n",
       "      <td>0.020423</td>\n",
       "      <td>0.009721</td>\n",
       "      <td>0.169447</td>\n",
       "      <td>-2.8582</td>\n",
       "      <td>0.4565</td>\n",
       "    </tr>\n",
       "    <tr>\n",
       "      <th>3</th>\n",
       "      <td>Total</td>\n",
       "      <td>149391</td>\n",
       "      <td>139382</td>\n",
       "      <td>10009</td>\n",
       "      <td>1.000000</td>\n",
       "      <td>1.000000</td>\n",
       "      <td>1.000000</td>\n",
       "      <td>NaN</td>\n",
       "      <td>0.8738</td>\n",
       "    </tr>\n",
       "  </tbody>\n",
       "</table>\n",
       "</div>"
      ],
      "text/plain": [
       "            Bins  CntRec  CntGood  CntBad    PctRec   PctGood    PctBad  \\\n",
       "0  (-0.001, 0.5]  141108   134559    6549  0.944555  0.965397  0.654311   \n",
       "1     (0.5, 1.5]    5232     3468    1764  0.035022  0.024881  0.176241   \n",
       "2    (1.5, 98.0]    3051     1355    1696  0.020423  0.009721  0.169447   \n",
       "3          Total  149391   139382   10009  1.000000  1.000000  1.000000   \n",
       "\n",
       "      WOE      IV  \n",
       "0  0.3890  0.1210  \n",
       "1 -1.9577  0.2963  \n",
       "2 -2.8582  0.4565  \n",
       "3     NaN  0.8738  "
      ]
     },
     "execution_count": 102,
     "metadata": {},
     "output_type": "execute_result"
    }
   ],
   "source": [
    "NO90.IVtable"
   ]
  },
  {
   "cell_type": "code",
   "execution_count": 103,
   "metadata": {},
   "outputs": [],
   "source": [
    "iv_all=iv_all.append(pd.Series({'NumberOfTimes90DaysLate':NO90.IV}))"
   ]
  },
  {
   "cell_type": "markdown",
   "metadata": {},
   "source": [
    "#### NumberRealEstateLoansOrLines"
   ]
  },
  {
   "cell_type": "markdown",
   "metadata": {},
   "source": [
    "抵押贷款和房地产贷款数量,包括房屋净值信贷额度"
   ]
  },
  {
   "cell_type": "code",
   "execution_count": 104,
   "metadata": {},
   "outputs": [
    {
     "data": {
      "image/png": "[encoded data removed]",
      "text/plain": [
       "<Figure size 1152x720 with 1 Axes>"
      ]
     },
     "metadata": {
      "needs_background": "light"
     },
     "output_type": "display_data"
    }
   ],
   "source": [
    "NRE=smbin(train_data,y,'NumberRealEstateLoansOrLines')"
   ]
  },
  {
   "cell_type": "code",
   "execution_count": 105,
   "metadata": {},
   "outputs": [
    {
     "data": {
      "text/html": [
       "<div>\n",
       "<style scoped>\n",
       "    .dataframe tbody tr th:only-of-type {\n",
       "        vertical-align: middle;\n",
       "    }\n",
       "\n",
       "    .dataframe tbody tr th {\n",
       "        vertical-align: top;\n",
       "    }\n",
       "\n",
       "    .dataframe thead th {\n",
       "        text-align: right;\n",
       "    }\n",
       "</style>\n",
       "<table border=\"1\" class=\"dataframe\">\n",
       "  <thead>\n",
       "    <tr style=\"text-align: right;\">\n",
       "      <th></th>\n",
       "      <th>Bins</th>\n",
       "      <th>CntRec</th>\n",
       "      <th>CntGood</th>\n",
       "      <th>CntBad</th>\n",
       "      <th>PctRec</th>\n",
       "      <th>PctGood</th>\n",
       "      <th>PctBad</th>\n",
       "      <th>WOE</th>\n",
       "      <th>IV</th>\n",
       "    </tr>\n",
       "  </thead>\n",
       "  <tbody>\n",
       "    <tr>\n",
       "      <th>0</th>\n",
       "      <td>(-0.001, 0.5]</td>\n",
       "      <td>55579</td>\n",
       "      <td>50924</td>\n",
       "      <td>4655</td>\n",
       "      <td>0.372037</td>\n",
       "      <td>0.365356</td>\n",
       "      <td>0.465081</td>\n",
       "      <td>-0.2413</td>\n",
       "      <td>0.0241</td>\n",
       "    </tr>\n",
       "    <tr>\n",
       "      <th>1</th>\n",
       "      <td>(0.5, 3.5]</td>\n",
       "      <td>90160</td>\n",
       "      <td>85225</td>\n",
       "      <td>4935</td>\n",
       "      <td>0.603517</td>\n",
       "      <td>0.611449</td>\n",
       "      <td>0.493056</td>\n",
       "      <td>0.2152</td>\n",
       "      <td>0.0255</td>\n",
       "    </tr>\n",
       "    <tr>\n",
       "      <th>2</th>\n",
       "      <td>(3.5, 54.0]</td>\n",
       "      <td>3652</td>\n",
       "      <td>3233</td>\n",
       "      <td>419</td>\n",
       "      <td>0.024446</td>\n",
       "      <td>0.023195</td>\n",
       "      <td>0.041862</td>\n",
       "      <td>-0.5904</td>\n",
       "      <td>0.0110</td>\n",
       "    </tr>\n",
       "    <tr>\n",
       "      <th>3</th>\n",
       "      <td>Total</td>\n",
       "      <td>149391</td>\n",
       "      <td>139382</td>\n",
       "      <td>10009</td>\n",
       "      <td>1.000000</td>\n",
       "      <td>1.000000</td>\n",
       "      <td>1.000000</td>\n",
       "      <td>NaN</td>\n",
       "      <td>0.0606</td>\n",
       "    </tr>\n",
       "  </tbody>\n",
       "</table>\n",
       "</div>"
      ],
      "text/plain": [
       "            Bins  CntRec  CntGood  CntBad    PctRec   PctGood    PctBad  \\\n",
       "0  (-0.001, 0.5]   55579    50924    4655  0.372037  0.365356  0.465081   \n",
       "1     (0.5, 3.5]   90160    85225    4935  0.603517  0.611449  0.493056   \n",
       "2    (3.5, 54.0]    3652     3233     419  0.024446  0.023195  0.041862   \n",
       "3          Total  149391   139382   10009  1.000000  1.000000  1.000000   \n",
       "\n",
       "      WOE      IV  \n",
       "0 -0.2413  0.0241  \n",
       "1  0.2152  0.0255  \n",
       "2 -0.5904  0.0110  \n",
       "3     NaN  0.0606  "
      ]
     },
     "execution_count": 105,
     "metadata": {},
     "output_type": "execute_result"
    }
   ],
   "source": [
    "NRE.IVtable"
   ]
  },
  {
   "cell_type": "code",
   "execution_count": 106,
   "metadata": {},
   "outputs": [],
   "source": [
    "iv_all=iv_all.append(pd.Series({'NumberRealEstateLoansOrLines':NRE.IV}))"
   ]
  },
  {
   "cell_type": "markdown",
   "metadata": {},
   "source": [
    "#### NumberOfTime60_89DaysPastDueNotWorse"
   ]
  },
  {
   "cell_type": "markdown",
   "metadata": {},
   "source": [
    "过去两年内出现60-89天逾期但是没有发展的更坏的次数"
   ]
  },
  {
   "cell_type": "code",
   "execution_count": 107,
   "metadata": {},
   "outputs": [
    {
     "data": {
      "image/png": "[encoded data removed]",
      "text/plain": [
       "<Figure size 1152x720 with 1 Axes>"
      ]
     },
     "metadata": {
      "needs_background": "light"
     },
     "output_type": "display_data"
    }
   ],
   "source": [
    "NO6089=smbin(train_data,y,'NumberOfTime60_89DaysPastDueNotWorse')"
   ]
  },
  {
   "cell_type": "code",
   "execution_count": 108,
   "metadata": {},
   "outputs": [
    {
     "data": {
      "text/html": [
       "<div>\n",
       "<style scoped>\n",
       "    .dataframe tbody tr th:only-of-type {\n",
       "        vertical-align: middle;\n",
       "    }\n",
       "\n",
       "    .dataframe tbody tr th {\n",
       "        vertical-align: top;\n",
       "    }\n",
       "\n",
       "    .dataframe thead th {\n",
       "        text-align: right;\n",
       "    }\n",
       "</style>\n",
       "<table border=\"1\" class=\"dataframe\">\n",
       "  <thead>\n",
       "    <tr style=\"text-align: right;\">\n",
       "      <th></th>\n",
       "      <th>Bins</th>\n",
       "      <th>CntRec</th>\n",
       "      <th>CntGood</th>\n",
       "      <th>CntBad</th>\n",
       "      <th>PctRec</th>\n",
       "      <th>PctGood</th>\n",
       "      <th>PctBad</th>\n",
       "      <th>WOE</th>\n",
       "      <th>IV</th>\n",
       "    </tr>\n",
       "  </thead>\n",
       "  <tbody>\n",
       "    <tr>\n",
       "      <th>0</th>\n",
       "      <td>(-0.001, 0.5]</td>\n",
       "      <td>141831</td>\n",
       "      <td>134581</td>\n",
       "      <td>7250</td>\n",
       "      <td>0.949395</td>\n",
       "      <td>0.965555</td>\n",
       "      <td>0.724348</td>\n",
       "      <td>0.2874</td>\n",
       "      <td>0.0693</td>\n",
       "    </tr>\n",
       "    <tr>\n",
       "      <th>1</th>\n",
       "      <td>(0.5, 1.5]</td>\n",
       "      <td>5731</td>\n",
       "      <td>3954</td>\n",
       "      <td>1777</td>\n",
       "      <td>0.038362</td>\n",
       "      <td>0.028368</td>\n",
       "      <td>0.177540</td>\n",
       "      <td>-1.8339</td>\n",
       "      <td>0.2736</td>\n",
       "    </tr>\n",
       "    <tr>\n",
       "      <th>2</th>\n",
       "      <td>(1.5, 98.0]</td>\n",
       "      <td>1829</td>\n",
       "      <td>847</td>\n",
       "      <td>982</td>\n",
       "      <td>0.012243</td>\n",
       "      <td>0.006077</td>\n",
       "      <td>0.098112</td>\n",
       "      <td>-2.7816</td>\n",
       "      <td>0.2560</td>\n",
       "    </tr>\n",
       "    <tr>\n",
       "      <th>3</th>\n",
       "      <td>Total</td>\n",
       "      <td>149391</td>\n",
       "      <td>139382</td>\n",
       "      <td>10009</td>\n",
       "      <td>1.000000</td>\n",
       "      <td>1.000000</td>\n",
       "      <td>1.000000</td>\n",
       "      <td>NaN</td>\n",
       "      <td>0.5989</td>\n",
       "    </tr>\n",
       "  </tbody>\n",
       "</table>\n",
       "</div>"
      ],
      "text/plain": [
       "            Bins  CntRec  CntGood  CntBad    PctRec   PctGood    PctBad  \\\n",
       "0  (-0.001, 0.5]  141831   134581    7250  0.949395  0.965555  0.724348   \n",
       "1     (0.5, 1.5]    5731     3954    1777  0.038362  0.028368  0.177540   \n",
       "2    (1.5, 98.0]    1829      847     982  0.012243  0.006077  0.098112   \n",
       "3          Total  149391   139382   10009  1.000000  1.000000  1.000000   \n",
       "\n",
       "      WOE      IV  \n",
       "0  0.2874  0.0693  \n",
       "1 -1.8339  0.2736  \n",
       "2 -2.7816  0.2560  \n",
       "3     NaN  0.5989  "
      ]
     },
     "execution_count": 108,
     "metadata": {},
     "output_type": "execute_result"
    }
   ],
   "source": [
    "NO6089.IVtable"
   ]
  },
  {
   "cell_type": "code",
   "execution_count": 109,
   "metadata": {},
   "outputs": [],
   "source": [
    "iv_all=iv_all.append(pd.Series({'NumberOfTime60_89DaysPastDueNotWorse':NO6089.IV}))"
   ]
  },
  {
   "cell_type": "markdown",
   "metadata": {},
   "source": [
    "#### NumberOfDependents"
   ]
  },
  {
   "cell_type": "markdown",
   "metadata": {},
   "source": [
    "家庭中不包括自身的家属人数"
   ]
  },
  {
   "cell_type": "code",
   "execution_count": 110,
   "metadata": {},
   "outputs": [
    {
     "data": {
      "image/png": "[encoded data removed]",
      "text/plain": [
       "<Figure size 1152x720 with 1 Axes>"
      ]
     },
     "metadata": {
      "needs_background": "light"
     },
     "output_type": "display_data"
    }
   ],
   "source": [
    "NOD=smbin(train_data,y,'NumberOfDependents')"
   ]
  },
  {
   "cell_type": "code",
   "execution_count": 112,
   "metadata": {},
   "outputs": [
    {
     "data": {
      "text/html": [
       "<div>\n",
       "<style scoped>\n",
       "    .dataframe tbody tr th:only-of-type {\n",
       "        vertical-align: middle;\n",
       "    }\n",
       "\n",
       "    .dataframe tbody tr th {\n",
       "        vertical-align: top;\n",
       "    }\n",
       "\n",
       "    .dataframe thead th {\n",
       "        text-align: right;\n",
       "    }\n",
       "</style>\n",
       "<table border=\"1\" class=\"dataframe\">\n",
       "  <thead>\n",
       "    <tr style=\"text-align: right;\">\n",
       "      <th></th>\n",
       "      <th>Bins</th>\n",
       "      <th>CntRec</th>\n",
       "      <th>CntGood</th>\n",
       "      <th>CntBad</th>\n",
       "      <th>PctRec</th>\n",
       "      <th>PctGood</th>\n",
       "      <th>PctBad</th>\n",
       "      <th>WOE</th>\n",
       "      <th>IV</th>\n",
       "    </tr>\n",
       "  </thead>\n",
       "  <tbody>\n",
       "    <tr>\n",
       "      <th>0</th>\n",
       "      <td>(-0.001, 0.5]</td>\n",
       "      <td>90220</td>\n",
       "      <td>84963</td>\n",
       "      <td>5257</td>\n",
       "      <td>0.603919</td>\n",
       "      <td>0.609569</td>\n",
       "      <td>0.525227</td>\n",
       "      <td>0.1489</td>\n",
       "      <td>0.0126</td>\n",
       "    </tr>\n",
       "    <tr>\n",
       "      <th>1</th>\n",
       "      <td>(0.5, 1.5]</td>\n",
       "      <td>26314</td>\n",
       "      <td>24379</td>\n",
       "      <td>1935</td>\n",
       "      <td>0.176142</td>\n",
       "      <td>0.174908</td>\n",
       "      <td>0.193326</td>\n",
       "      <td>-0.1001</td>\n",
       "      <td>0.0018</td>\n",
       "    </tr>\n",
       "    <tr>\n",
       "      <th>2</th>\n",
       "      <td>(1.5, 2.5]</td>\n",
       "      <td>19521</td>\n",
       "      <td>17937</td>\n",
       "      <td>1584</td>\n",
       "      <td>0.130671</td>\n",
       "      <td>0.128690</td>\n",
       "      <td>0.158258</td>\n",
       "      <td>-0.2068</td>\n",
       "      <td>0.0061</td>\n",
       "    </tr>\n",
       "    <tr>\n",
       "      <th>3</th>\n",
       "      <td>(2.5, 3.5]</td>\n",
       "      <td>9483</td>\n",
       "      <td>8646</td>\n",
       "      <td>837</td>\n",
       "      <td>0.063478</td>\n",
       "      <td>0.062031</td>\n",
       "      <td>0.083625</td>\n",
       "      <td>-0.2987</td>\n",
       "      <td>0.0065</td>\n",
       "    </tr>\n",
       "    <tr>\n",
       "      <th>4</th>\n",
       "      <td>(3.5, 20.0]</td>\n",
       "      <td>3853</td>\n",
       "      <td>3457</td>\n",
       "      <td>396</td>\n",
       "      <td>0.025791</td>\n",
       "      <td>0.024802</td>\n",
       "      <td>0.039564</td>\n",
       "      <td>-0.4670</td>\n",
       "      <td>0.0069</td>\n",
       "    </tr>\n",
       "    <tr>\n",
       "      <th>5</th>\n",
       "      <td>Total</td>\n",
       "      <td>149391</td>\n",
       "      <td>139382</td>\n",
       "      <td>10009</td>\n",
       "      <td>1.000000</td>\n",
       "      <td>1.000000</td>\n",
       "      <td>1.000000</td>\n",
       "      <td>NaN</td>\n",
       "      <td>0.0339</td>\n",
       "    </tr>\n",
       "  </tbody>\n",
       "</table>\n",
       "</div>"
      ],
      "text/plain": [
       "            Bins  CntRec  CntGood  CntBad    PctRec   PctGood    PctBad  \\\n",
       "0  (-0.001, 0.5]   90220    84963    5257  0.603919  0.609569  0.525227   \n",
       "1     (0.5, 1.5]   26314    24379    1935  0.176142  0.174908  0.193326   \n",
       "2     (1.5, 2.5]   19521    17937    1584  0.130671  0.128690  0.158258   \n",
       "3     (2.5, 3.5]    9483     8646     837  0.063478  0.062031  0.083625   \n",
       "4    (3.5, 20.0]    3853     3457     396  0.025791  0.024802  0.039564   \n",
       "5          Total  149391   139382   10009  1.000000  1.000000  1.000000   \n",
       "\n",
       "      WOE      IV  \n",
       "0  0.1489  0.0126  \n",
       "1 -0.1001  0.0018  \n",
       "2 -0.2068  0.0061  \n",
       "3 -0.2987  0.0065  \n",
       "4 -0.4670  0.0069  \n",
       "5     NaN  0.0339  "
      ]
     },
     "execution_count": 112,
     "metadata": {},
     "output_type": "execute_result"
    }
   ],
   "source": [
    "NOD.IVtable"
   ]
  },
  {
   "cell_type": "code",
   "execution_count": 113,
   "metadata": {},
   "outputs": [],
   "source": [
    "iv_all=iv_all.append(pd.Series({'NumberOfDependents':NOD.IV}))"
   ]
  },
  {
   "cell_type": "markdown",
   "metadata": {},
   "source": [
    "### 查看所有变量的IV值"
   ]
  },
  {
   "cell_type": "code",
   "execution_count": 116,
   "metadata": {},
   "outputs": [
    {
     "data": {
      "text/plain": [
       "RevolvingUtilizationOfUnsecuredLines    1.1487\n",
       "NumberOfTimes90DaysLate                 0.8738\n",
       "NumberOfTime30_59DaysPastDueNotWorse    0.7576\n",
       "NumberOfTime60_89DaysPastDueNotWorse    0.5989\n",
       "age                                     0.2523\n",
       "NumberOfOpenCreditLinesAndLoans         0.1108\n",
       "DebtRatio                               0.0889\n",
       "MonthlyIncome                           0.0856\n",
       "NumberRealEstateLoansOrLines            0.0606\n",
       "NumberOfDependents                      0.0339\n",
       "dtype: float64"
      ]
     },
     "execution_count": 116,
     "metadata": {},
     "output_type": "execute_result"
    }
   ],
   "source": [
    "iv_all.sort_values(ascending=False)"
   ]
  },
  {
   "cell_type": "code",
   "execution_count": 119,
   "metadata": {},
   "outputs": [
    {
     "data": {
      "text/plain": [
       "<matplotlib.axes._subplots.AxesSubplot at 0x34209fd0>"
      ]
     },
     "execution_count": 119,
     "metadata": {},
     "output_type": "execute_result"
    },
    {
     "data": {
      "image/png": "[encoded data removed]",
      "text/plain": [
       "<Figure size 432x288 with 1 Axes>"
      ]
     },
     "metadata": {
      "needs_background": "light"
     },
     "output_type": "display_data"
    }
   ],
   "source": [
    "iv_all.sort_values().plot(kind='barh')"
   ]
  },
  {
   "cell_type": "markdown",
   "metadata": {},
   "source": [
    "### 生成WOE数据"
   ]
  },
  {
   "cell_type": "code",
   "execution_count": 121,
   "metadata": {},
   "outputs": [],
   "source": [
    "x_list=[RUO,age,NO3059,DR,Mic,NOO,NO90,NRE,NO6089,NOD]"
   ]
  },
  {
   "cell_type": "code",
   "execution_count": 127,
   "metadata": {},
   "outputs": [],
   "source": [
    "data_woe=smgen(train_data,x_list)"
   ]
  },
  {
   "cell_type": "code",
   "execution_count": 129,
   "metadata": {},
   "outputs": [
    {
     "name": "stdout",
     "output_type": "stream",
     "text": [
      "(149391, 21)\n"
     ]
    },
    {
     "data": {
      "text/html": [
       "<div>\n",
       "<style scoped>\n",
       "    .dataframe tbody tr th:only-of-type {\n",
       "        vertical-align: middle;\n",
       "    }\n",
       "\n",
       "    .dataframe tbody tr th {\n",
       "        vertical-align: top;\n",
       "    }\n",
       "\n",
       "    .dataframe thead th {\n",
       "        text-align: right;\n",
       "    }\n",
       "</style>\n",
       "<table border=\"1\" class=\"dataframe\">\n",
       "  <thead>\n",
       "    <tr style=\"text-align: right;\">\n",
       "      <th></th>\n",
       "      <th>SeriousDlqin2yrs</th>\n",
       "      <th>RevolvingUtilizationOfUnsecuredLines</th>\n",
       "      <th>age</th>\n",
       "      <th>NumberOfTime30_59DaysPastDueNotWorse</th>\n",
       "      <th>DebtRatio</th>\n",
       "      <th>MonthlyIncome</th>\n",
       "      <th>NumberOfOpenCreditLinesAndLoans</th>\n",
       "      <th>NumberOfTimes90DaysLate</th>\n",
       "      <th>NumberRealEstateLoansOrLines</th>\n",
       "      <th>NumberOfTime60_89DaysPastDueNotWorse</th>\n",
       "      <th>NumberOfDependents</th>\n",
       "      <th>RevolvingUtilizationOfUnsecuredLines_woe</th>\n",
       "      <th>age_woe</th>\n",
       "      <th>NumberOfTime30_59DaysPastDueNotWorse_woe</th>\n",
       "      <th>DebtRatio_woe</th>\n",
       "      <th>MonthlyIncome_woe</th>\n",
       "      <th>NumberOfOpenCreditLinesAndLoans_woe</th>\n",
       "      <th>NumberOfTimes90DaysLate_woe</th>\n",
       "      <th>NumberRealEstateLoansOrLines_woe</th>\n",
       "      <th>NumberOfTime60_89DaysPastDueNotWorse_woe</th>\n",
       "      <th>NumberOfDependents_woe</th>\n",
       "    </tr>\n",
       "  </thead>\n",
       "  <tbody>\n",
       "    <tr>\n",
       "      <th>1</th>\n",
       "      <td>0</td>\n",
       "      <td>0.766127</td>\n",
       "      <td>45</td>\n",
       "      <td>2</td>\n",
       "      <td>0.802982</td>\n",
       "      <td>9120.0</td>\n",
       "      <td>13</td>\n",
       "      <td>0</td>\n",
       "      <td>6</td>\n",
       "      <td>0</td>\n",
       "      <td>2.0</td>\n",
       "      <td>-0.8258</td>\n",
       "      <td>-0.1385</td>\n",
       "      <td>-1.6142</td>\n",
       "      <td>-0.5947</td>\n",
       "      <td>0.3397</td>\n",
       "      <td>0.1557</td>\n",
       "      <td>0.3890</td>\n",
       "      <td>-0.5904</td>\n",
       "      <td>0.2874</td>\n",
       "      <td>-0.2068</td>\n",
       "    </tr>\n",
       "    <tr>\n",
       "      <th>2</th>\n",
       "      <td>1</td>\n",
       "      <td>0.957151</td>\n",
       "      <td>40</td>\n",
       "      <td>0</td>\n",
       "      <td>0.121876</td>\n",
       "      <td>2600.0</td>\n",
       "      <td>4</td>\n",
       "      <td>0</td>\n",
       "      <td>0</td>\n",
       "      <td>0</td>\n",
       "      <td>1.0</td>\n",
       "      <td>-1.2175</td>\n",
       "      <td>-0.3249</td>\n",
       "      <td>0.5408</td>\n",
       "      <td>0.1117</td>\n",
       "      <td>-0.4417</td>\n",
       "      <td>0.1557</td>\n",
       "      <td>0.3890</td>\n",
       "      <td>-0.2413</td>\n",
       "      <td>0.2874</td>\n",
       "      <td>-0.1001</td>\n",
       "    </tr>\n",
       "    <tr>\n",
       "      <th>3</th>\n",
       "      <td>1</td>\n",
       "      <td>0.658180</td>\n",
       "      <td>38</td>\n",
       "      <td>1</td>\n",
       "      <td>0.085113</td>\n",
       "      <td>3042.0</td>\n",
       "      <td>2</td>\n",
       "      <td>1</td>\n",
       "      <td>0</td>\n",
       "      <td>0</td>\n",
       "      <td>0.0</td>\n",
       "      <td>-0.3778</td>\n",
       "      <td>-0.3249</td>\n",
       "      <td>-0.9011</td>\n",
       "      <td>0.1117</td>\n",
       "      <td>-0.4417</td>\n",
       "      <td>-0.2318</td>\n",
       "      <td>-1.9577</td>\n",
       "      <td>-0.2413</td>\n",
       "      <td>0.2874</td>\n",
       "      <td>0.1489</td>\n",
       "    </tr>\n",
       "    <tr>\n",
       "      <th>4</th>\n",
       "      <td>1</td>\n",
       "      <td>0.233810</td>\n",
       "      <td>30</td>\n",
       "      <td>0</td>\n",
       "      <td>0.036050</td>\n",
       "      <td>3300.0</td>\n",
       "      <td>5</td>\n",
       "      <td>0</td>\n",
       "      <td>0</td>\n",
       "      <td>0</td>\n",
       "      <td>0.0</td>\n",
       "      <td>0.7032</td>\n",
       "      <td>-0.5507</td>\n",
       "      <td>0.5408</td>\n",
       "      <td>0.1117</td>\n",
       "      <td>-0.4417</td>\n",
       "      <td>0.1557</td>\n",
       "      <td>0.3890</td>\n",
       "      <td>-0.2413</td>\n",
       "      <td>0.2874</td>\n",
       "      <td>0.1489</td>\n",
       "    </tr>\n",
       "    <tr>\n",
       "      <th>5</th>\n",
       "      <td>1</td>\n",
       "      <td>0.907239</td>\n",
       "      <td>49</td>\n",
       "      <td>1</td>\n",
       "      <td>0.024926</td>\n",
       "      <td>63588.0</td>\n",
       "      <td>7</td>\n",
       "      <td>0</td>\n",
       "      <td>1</td>\n",
       "      <td>0</td>\n",
       "      <td>0.0</td>\n",
       "      <td>-1.2175</td>\n",
       "      <td>-0.1385</td>\n",
       "      <td>-0.9011</td>\n",
       "      <td>0.1117</td>\n",
       "      <td>0.3397</td>\n",
       "      <td>0.1557</td>\n",
       "      <td>0.3890</td>\n",
       "      <td>0.2152</td>\n",
       "      <td>0.2874</td>\n",
       "      <td>0.1489</td>\n",
       "    </tr>\n",
       "  </tbody>\n",
       "</table>\n",
       "</div>"
      ],
      "text/plain": [
       "   SeriousDlqin2yrs  RevolvingUtilizationOfUnsecuredLines  age  \\\n",
       "1                 0                              0.766127   45   \n",
       "2                 1                              0.957151   40   \n",
       "3                 1                              0.658180   38   \n",
       "4                 1                              0.233810   30   \n",
       "5                 1                              0.907239   49   \n",
       "\n",
       "   NumberOfTime30_59DaysPastDueNotWorse  DebtRatio  MonthlyIncome  \\\n",
       "1                                     2   0.802982         9120.0   \n",
       "2                                     0   0.121876         2600.0   \n",
       "3                                     1   0.085113         3042.0   \n",
       "4                                     0   0.036050         3300.0   \n",
       "5                                     1   0.024926        63588.0   \n",
       "\n",
       "   NumberOfOpenCreditLinesAndLoans  NumberOfTimes90DaysLate  \\\n",
       "1                               13                        0   \n",
       "2                                4                        0   \n",
       "3                                2                        1   \n",
       "4                                5                        0   \n",
       "5                                7                        0   \n",
       "\n",
       "   NumberRealEstateLoansOrLines  NumberOfTime60_89DaysPastDueNotWorse  \\\n",
       "1                             6                                     0   \n",
       "2                             0                                     0   \n",
       "3                             0                                     0   \n",
       "4                             0                                     0   \n",
       "5                             1                                     0   \n",
       "\n",
       "   NumberOfDependents  RevolvingUtilizationOfUnsecuredLines_woe  age_woe  \\\n",
       "1                 2.0                                   -0.8258  -0.1385   \n",
       "2                 1.0                                   -1.2175  -0.3249   \n",
       "3                 0.0                                   -0.3778  -0.3249   \n",
       "4                 0.0                                    0.7032  -0.5507   \n",
       "5                 0.0                                   -1.2175  -0.1385   \n",
       "\n",
       "   NumberOfTime30_59DaysPastDueNotWorse_woe  DebtRatio_woe  MonthlyIncome_woe  \\\n",
       "1                                   -1.6142        -0.5947             0.3397   \n",
       "2                                    0.5408         0.1117            -0.4417   \n",
       "3                                   -0.9011         0.1117            -0.4417   \n",
       "4                                    0.5408         0.1117            -0.4417   \n",
       "5                                   -0.9011         0.1117             0.3397   \n",
       "\n",
       "   NumberOfOpenCreditLinesAndLoans_woe  NumberOfTimes90DaysLate_woe  \\\n",
       "1                               0.1557                       0.3890   \n",
       "2                               0.1557                       0.3890   \n",
       "3                              -0.2318                      -1.9577   \n",
       "4                               0.1557                       0.3890   \n",
       "5                               0.1557                       0.3890   \n",
       "\n",
       "   NumberRealEstateLoansOrLines_woe  NumberOfTime60_89DaysPastDueNotWorse_woe  \\\n",
       "1                           -0.5904                                    0.2874   \n",
       "2                           -0.2413                                    0.2874   \n",
       "3                           -0.2413                                    0.2874   \n",
       "4                           -0.2413                                    0.2874   \n",
       "5                            0.2152                                    0.2874   \n",
       "\n",
       "   NumberOfDependents_woe  \n",
       "1                 -0.2068  \n",
       "2                 -0.1001  \n",
       "3                  0.1489  \n",
       "4                  0.1489  \n",
       "5                  0.1489  "
      ]
     },
     "execution_count": 129,
     "metadata": {},
     "output_type": "execute_result"
    }
   ],
   "source": [
    "print(data_woe.shape)\n",
    "data_woe.head()"
   ]
  },
  {
   "cell_type": "code",
   "execution_count": 141,
   "metadata": {},
   "outputs": [],
   "source": [
    "import statsmodels.api as sm"
   ]
  },
  {
   "cell_type": "code",
   "execution_count": 154,
   "metadata": {},
   "outputs": [],
   "source": [
    "X=data_woe.iloc[:,-len(x_list):]\n",
    "X=sm.add_constant(X)#加入常数项列\n",
    "Y=data_woe[y]"
   ]
  },
  {
   "cell_type": "code",
   "execution_count": 155,
   "metadata": {},
   "outputs": [],
   "source": [
    "from sklearn.model_selection import train_test_split"
   ]
  },
  {
   "cell_type": "code",
   "execution_count": 156,
   "metadata": {},
   "outputs": [],
   "source": [
    "Xtrain,Xtest,Ytrain,Ytest=train_test_split(X,Y,test_size=0.3,random_state=420)"
   ]
  },
  {
   "cell_type": "code",
   "execution_count": 157,
   "metadata": {},
   "outputs": [
    {
     "name": "stdout",
     "output_type": "stream",
     "text": [
      "(104573, 11)\n",
      "(44818, 11)\n",
      "(104573,)\n",
      "(44818,)\n"
     ]
    }
   ],
   "source": [
    "print(Xtrain.shape)\n",
    "print(Xtest.shape)\n",
    "print(Ytrain.shape)\n",
    "print(Ytest.shape)"
   ]
  },
  {
   "cell_type": "markdown",
   "metadata": {},
   "source": [
    "### 建模"
   ]
  },
  {
   "cell_type": "code",
   "execution_count": 164,
   "metadata": {},
   "outputs": [],
   "source": [
    "from sklearn.linear_model import LogisticRegression as LR\n",
    "from sklearn.metrics import accuracy_score"
   ]
  },
  {
   "cell_type": "code",
   "execution_count": 165,
   "metadata": {},
   "outputs": [],
   "source": [
    "model=LR().fit(Xtrain,Ytrain)"
   ]
  },
  {
   "cell_type": "code",
   "execution_count": 169,
   "metadata": {},
   "outputs": [
    {
     "name": "stdout",
     "output_type": "stream",
     "text": [
      "0.9354723548574233\n"
     ]
    }
   ],
   "source": [
    "score=model.score(Xtest,Ytest)\n",
    "print(score)"
   ]
  },
  {
   "cell_type": "code",
   "execution_count": 183,
   "metadata": {},
   "outputs": [],
   "source": [
    "predict=model.predict(Xtest)"
   ]
  },
  {
   "cell_type": "code",
   "execution_count": 184,
   "metadata": {},
   "outputs": [
    {
     "data": {
      "text/plain": [
       "1    43862\n",
       "0      956\n",
       "Name: 0, dtype: int64"
      ]
     },
     "execution_count": 184,
     "metadata": {},
     "output_type": "execute_result"
    }
   ],
   "source": [
    "predict=pd.DataFrame(predict)\n",
    "predict[0].value_counts()"
   ]
  },
  {
   "cell_type": "code",
   "execution_count": 191,
   "metadata": {},
   "outputs": [
    {
     "data": {
      "text/plain": [
       "array([[0.05823627, 0.94176373],\n",
       "       [0.02888182, 0.97111818],\n",
       "       [0.01712615, 0.98287385],\n",
       "       ...,\n",
       "       [0.01197502, 0.98802498],\n",
       "       [0.01406788, 0.98593212],\n",
       "       [0.01436345, 0.98563655]])"
      ]
     },
     "execution_count": 191,
     "metadata": {},
     "output_type": "execute_result"
    }
   ],
   "source": [
    "model.predict_proba(Xtest)"
   ]
  },
  {
   "cell_type": "code",
   "execution_count": 190,
   "metadata": {},
   "outputs": [
    {
     "data": {
      "text/plain": [
       "array([[-2.84324695, -0.06000085],\n",
       "       [-3.54454294, -0.02930711],\n",
       "       [-4.06714866, -0.0172745 ],\n",
       "       ...,\n",
       "       [-4.4249326 , -0.0120473 ],\n",
       "       [-4.26386113, -0.01416777],\n",
       "       [-4.24306839, -0.0144676 ]])"
      ]
     },
     "execution_count": 190,
     "metadata": {},
     "output_type": "execute_result"
    }
   ],
   "source": [
    "model.predict_log_proba(Xtest)"
   ]
  },
  {
   "cell_type": "code",
   "execution_count": 202,
   "metadata": {},
   "outputs": [],
   "source": [
    "import statsmodels.api as sm"
   ]
  },
  {
   "cell_type": "code",
   "execution_count": 204,
   "metadata": {},
   "outputs": [],
   "source": [
    "glmodel=sm.GLM(Ytrain,Xtrain,family=sm.families.Binomial()).fit()"
   ]
  },
  {
   "cell_type": "code",
   "execution_count": 205,
   "metadata": {},
   "outputs": [
    {
     "data": {
      "text/html": [
       "<table class=\"simpletable\">\n",
       "<caption>Generalized Linear Model Regression Results</caption>\n",
       "<tr>\n",
       "  <th>Dep. Variable:</th>  <td>SeriousDlqin2yrs</td> <th>  No. Observations:  </th>  <td>104573</td>  \n",
       "</tr>\n",
       "<tr>\n",
       "  <th>Model:</th>                 <td>GLM</td>       <th>  Df Residuals:      </th>  <td>104562</td>  \n",
       "</tr>\n",
       "<tr>\n",
       "  <th>Model Family:</th>       <td>Binomial</td>     <th>  Df Model:          </th>  <td>    10</td>  \n",
       "</tr>\n",
       "<tr>\n",
       "  <th>Link Function:</th>        <td>logit</td>      <th>  Scale:             </th> <td>  1.0000</td> \n",
       "</tr>\n",
       "<tr>\n",
       "  <th>Method:</th>               <td>IRLS</td>       <th>  Log-Likelihood:    </th> <td> -19038.</td> \n",
       "</tr>\n",
       "<tr>\n",
       "  <th>Date:</th>           <td>Thu, 26 Sep 2019</td> <th>  Deviance:          </th> <td>  38076.</td> \n",
       "</tr>\n",
       "<tr>\n",
       "  <th>Time:</th>               <td>16:05:23</td>     <th>  Pearson chi2:      </th> <td>9.00e+04</td> \n",
       "</tr>\n",
       "<tr>\n",
       "  <th>No. Iterations:</th>         <td>7</td>        <th>  Covariance Type:   </th> <td>nonrobust</td>\n",
       "</tr>\n",
       "</table>\n",
       "<table class=\"simpletable\">\n",
       "<tr>\n",
       "                      <td></td>                        <th>coef</th>     <th>std err</th>      <th>z</th>      <th>P>|z|</th>  <th>[0.025</th>    <th>0.975]</th>  \n",
       "</tr>\n",
       "<tr>\n",
       "  <th>const</th>                                    <td>    2.6119</td> <td>    0.015</td> <td>  172.204</td> <td> 0.000</td> <td>    2.582</td> <td>    2.642</td>\n",
       "</tr>\n",
       "<tr>\n",
       "  <th>RevolvingUtilizationOfUnsecuredLines_woe</th> <td>    0.5954</td> <td>    0.014</td> <td>   41.098</td> <td> 0.000</td> <td>    0.567</td> <td>    0.624</td>\n",
       "</tr>\n",
       "<tr>\n",
       "  <th>age_woe</th>                                  <td>    0.4181</td> <td>    0.032</td> <td>   13.080</td> <td> 0.000</td> <td>    0.355</td> <td>    0.481</td>\n",
       "</tr>\n",
       "<tr>\n",
       "  <th>NumberOfTime30_59DaysPastDueNotWorse_woe</th> <td>    0.5132</td> <td>    0.016</td> <td>   32.907</td> <td> 0.000</td> <td>    0.483</td> <td>    0.544</td>\n",
       "</tr>\n",
       "<tr>\n",
       "  <th>DebtRatio_woe</th>                            <td>    0.7139</td> <td>    0.050</td> <td>   14.213</td> <td> 0.000</td> <td>    0.615</td> <td>    0.812</td>\n",
       "</tr>\n",
       "<tr>\n",
       "  <th>MonthlyIncome_woe</th>                        <td>    0.1922</td> <td>    0.050</td> <td>    3.880</td> <td> 0.000</td> <td>    0.095</td> <td>    0.289</td>\n",
       "</tr>\n",
       "<tr>\n",
       "  <th>NumberOfOpenCreditLinesAndLoans_woe</th>      <td>    0.0390</td> <td>    0.041</td> <td>    0.953</td> <td> 0.341</td> <td>   -0.041</td> <td>    0.119</td>\n",
       "</tr>\n",
       "<tr>\n",
       "  <th>NumberOfTimes90DaysLate_woe</th>              <td>    0.5205</td> <td>    0.014</td> <td>   37.629</td> <td> 0.000</td> <td>    0.493</td> <td>    0.548</td>\n",
       "</tr>\n",
       "<tr>\n",
       "  <th>NumberRealEstateLoansOrLines_woe</th>         <td>    0.4868</td> <td>    0.063</td> <td>    7.754</td> <td> 0.000</td> <td>    0.364</td> <td>    0.610</td>\n",
       "</tr>\n",
       "<tr>\n",
       "  <th>NumberOfTime60_89DaysPastDueNotWorse_woe</th> <td>    0.3698</td> <td>    0.017</td> <td>   21.733</td> <td> 0.000</td> <td>    0.336</td> <td>    0.403</td>\n",
       "</tr>\n",
       "<tr>\n",
       "  <th>NumberOfDependents_woe</th>                   <td>    0.2560</td> <td>    0.078</td> <td>    3.296</td> <td> 0.001</td> <td>    0.104</td> <td>    0.408</td>\n",
       "</tr>\n",
       "</table>"
      ],
      "text/plain": [
       "<class 'statsmodels.iolib.summary.Summary'>\n",
       "\"\"\"\n",
       "                 Generalized Linear Model Regression Results                  \n",
       "==============================================================================\n",
       "Dep. Variable:       SeriousDlqin2yrs   No. Observations:               104573\n",
       "Model:                            GLM   Df Residuals:                   104562\n",
       "Model Family:                Binomial   Df Model:                           10\n",
       "Link Function:                  logit   Scale:                          1.0000\n",
       "Method:                          IRLS   Log-Likelihood:                -19038.\n",
       "Date:                Thu, 26 Sep 2019   Deviance:                       38076.\n",
       "Time:                        16:05:23   Pearson chi2:                 9.00e+04\n",
       "No. Iterations:                     7   Covariance Type:             nonrobust\n",
       "============================================================================================================\n",
       "                                               coef    std err          z      P>|z|      [0.025      0.975]\n",
       "------------------------------------------------------------------------------------------------------------\n",
       "const                                        2.6119      0.015    172.204      0.000       2.582       2.642\n",
       "RevolvingUtilizationOfUnsecuredLines_woe     0.5954      0.014     41.098      0.000       0.567       0.624\n",
       "age_woe                                      0.4181      0.032     13.080      0.000       0.355       0.481\n",
       "NumberOfTime30_59DaysPastDueNotWorse_woe     0.5132      0.016     32.907      0.000       0.483       0.544\n",
       "DebtRatio_woe                                0.7139      0.050     14.213      0.000       0.615       0.812\n",
       "MonthlyIncome_woe                            0.1922      0.050      3.880      0.000       0.095       0.289\n",
       "NumberOfOpenCreditLinesAndLoans_woe          0.0390      0.041      0.953      0.341      -0.041       0.119\n",
       "NumberOfTimes90DaysLate_woe                  0.5205      0.014     37.629      0.000       0.493       0.548\n",
       "NumberRealEstateLoansOrLines_woe             0.4868      0.063      7.754      0.000       0.364       0.610\n",
       "NumberOfTime60_89DaysPastDueNotWorse_woe     0.3698      0.017     21.733      0.000       0.336       0.403\n",
       "NumberOfDependents_woe                       0.2560      0.078      3.296      0.001       0.104       0.408\n",
       "============================================================================================================\n",
       "\"\"\""
      ]
     },
     "execution_count": 205,
     "metadata": {},
     "output_type": "execute_result"
    }
   ],
   "source": [
    "glmodel.summary()"
   ]
  },
  {
   "cell_type": "markdown",
   "metadata": {},
   "source": [
    "#### 查看共线性"
   ]
  },
  {
   "cell_type": "code",
   "execution_count": 194,
   "metadata": {},
   "outputs": [],
   "source": [
    "from statsmodels.stats.outliers_influence import variance_inflation_factor"
   ]
  },
  {
   "cell_type": "code",
   "execution_count": 196,
   "metadata": {
    "scrolled": true
   },
   "outputs": [
    {
     "name": "stdout",
     "output_type": "stream",
     "text": [
      "RevolvingUtilizationOfUnsecuredLines_woe    1.524893\n",
      "age_woe                                     1.207659\n",
      "NumberOfTime30_59DaysPastDueNotWorse_woe    1.348221\n",
      "DebtRatio_woe                               1.179901\n",
      "MonthlyIncome_woe                           1.119801\n",
      "NumberOfOpenCreditLinesAndLoans_woe         1.183527\n",
      "NumberOfTimes90DaysLate_woe                 1.411260\n",
      "NumberRealEstateLoansOrLines_woe            1.192889\n",
      "NumberOfTime60_89DaysPastDueNotWorse_woe    1.333924\n",
      "NumberOfDependents_woe                      1.127946\n",
      "dtype: float64\n"
     ]
    }
   ],
   "source": [
    "vif=[variance_inflation_factor(Xtrain.iloc[:,1:].values,i) for i in range(Xtrain.shape[1]-1)]\n",
    "print(pd.Series(dict(zip(Xtrain.columns[1:],vif))))"
   ]
  },
  {
   "cell_type": "markdown",
   "metadata": {},
   "source": [
    "不存在共线性"
   ]
  },
  {
   "cell_type": "markdown",
   "metadata": {},
   "source": [
    "### 生成评分卡"
   ]
  },
  {
   "cell_type": "code",
   "execution_count": 206,
   "metadata": {},
   "outputs": [
    {
     "data": {
      "text/plain": [
       "[299, 841]"
      ]
     },
     "execution_count": 206,
     "metadata": {},
     "output_type": "execute_result"
    }
   ],
   "source": [
    "scorecard = smscale(glmodel,x_list,pdo=43,score=1150,odds=10)\n",
    "scorecard.minmaxscore"
   ]
  },
  {
   "cell_type": "markdown",
   "metadata": {},
   "source": [
    "- 查看评分卡"
   ]
  },
  {
   "cell_type": "code",
   "execution_count": 210,
   "metadata": {},
   "outputs": [
    {
     "data": {
      "text/html": [
       "<div>\n",
       "<style scoped>\n",
       "    .dataframe tbody tr th:only-of-type {\n",
       "        vertical-align: middle;\n",
       "    }\n",
       "\n",
       "    .dataframe tbody tr th {\n",
       "        vertical-align: top;\n",
       "    }\n",
       "\n",
       "    .dataframe thead th {\n",
       "        text-align: right;\n",
       "    }\n",
       "</style>\n",
       "<table border=\"1\" class=\"dataframe\">\n",
       "  <thead>\n",
       "    <tr style=\"text-align: right;\">\n",
       "      <th></th>\n",
       "      <th>Characteristic</th>\n",
       "      <th>Attribute</th>\n",
       "      <th>Points</th>\n",
       "    </tr>\n",
       "  </thead>\n",
       "  <tbody>\n",
       "    <tr>\n",
       "      <th>0</th>\n",
       "      <td>RevolvingUtilizationOfUnsecuredLines</td>\n",
       "      <td>(-0.001, 0.132]</td>\n",
       "      <td>118</td>\n",
       "    </tr>\n",
       "    <tr>\n",
       "      <th>1</th>\n",
       "      <td>RevolvingUtilizationOfUnsecuredLines</td>\n",
       "      <td>(0.132, 0.301]</td>\n",
       "      <td>95</td>\n",
       "    </tr>\n",
       "    <tr>\n",
       "      <th>2</th>\n",
       "      <td>RevolvingUtilizationOfUnsecuredLines</td>\n",
       "      <td>(0.301, 0.495]</td>\n",
       "      <td>74</td>\n",
       "    </tr>\n",
       "    <tr>\n",
       "      <th>3</th>\n",
       "      <td>RevolvingUtilizationOfUnsecuredLines</td>\n",
       "      <td>(0.495, 0.698]</td>\n",
       "      <td>55</td>\n",
       "    </tr>\n",
       "    <tr>\n",
       "      <th>4</th>\n",
       "      <td>RevolvingUtilizationOfUnsecuredLines</td>\n",
       "      <td>(0.698, 0.863]</td>\n",
       "      <td>38</td>\n",
       "    </tr>\n",
       "    <tr>\n",
       "      <th>5</th>\n",
       "      <td>RevolvingUtilizationOfUnsecuredLines</td>\n",
       "      <td>(0.863, 1.003]</td>\n",
       "      <td>24</td>\n",
       "    </tr>\n",
       "    <tr>\n",
       "      <th>6</th>\n",
       "      <td>RevolvingUtilizationOfUnsecuredLines</td>\n",
       "      <td>(1.003, 50708.0]</td>\n",
       "      <td>-9</td>\n",
       "    </tr>\n",
       "    <tr>\n",
       "      <th>0</th>\n",
       "      <td>age</td>\n",
       "      <td>(-0.001, 36.5]</td>\n",
       "      <td>54</td>\n",
       "    </tr>\n",
       "    <tr>\n",
       "      <th>1</th>\n",
       "      <td>age</td>\n",
       "      <td>(36.5, 43.5]</td>\n",
       "      <td>60</td>\n",
       "    </tr>\n",
       "    <tr>\n",
       "      <th>2</th>\n",
       "      <td>age</td>\n",
       "      <td>(43.5, 55.5]</td>\n",
       "      <td>65</td>\n",
       "    </tr>\n",
       "    <tr>\n",
       "      <th>3</th>\n",
       "      <td>age</td>\n",
       "      <td>(55.5, 62.5]</td>\n",
       "      <td>77</td>\n",
       "    </tr>\n",
       "    <tr>\n",
       "      <th>4</th>\n",
       "      <td>age</td>\n",
       "      <td>(62.5, 109.0]</td>\n",
       "      <td>94</td>\n",
       "    </tr>\n",
       "    <tr>\n",
       "      <th>0</th>\n",
       "      <td>NumberOfTime30_59DaysPastDueNotWorse</td>\n",
       "      <td>(-0.001, 0.5]</td>\n",
       "      <td>86</td>\n",
       "    </tr>\n",
       "    <tr>\n",
       "      <th>1</th>\n",
       "      <td>NumberOfTime30_59DaysPastDueNotWorse</td>\n",
       "      <td>(0.5, 1.5]</td>\n",
       "      <td>40</td>\n",
       "    </tr>\n",
       "    <tr>\n",
       "      <th>2</th>\n",
       "      <td>NumberOfTime30_59DaysPastDueNotWorse</td>\n",
       "      <td>(1.5, 2.5]</td>\n",
       "      <td>17</td>\n",
       "    </tr>\n",
       "    <tr>\n",
       "      <th>3</th>\n",
       "      <td>NumberOfTime30_59DaysPastDueNotWorse</td>\n",
       "      <td>(2.5, 3.5]</td>\n",
       "      <td>4</td>\n",
       "    </tr>\n",
       "    <tr>\n",
       "      <th>4</th>\n",
       "      <td>NumberOfTime30_59DaysPastDueNotWorse</td>\n",
       "      <td>(3.5, 98.0]</td>\n",
       "      <td>-10</td>\n",
       "    </tr>\n",
       "    <tr>\n",
       "      <th>0</th>\n",
       "      <td>DebtRatio</td>\n",
       "      <td>(-0.001, 1.3e-05]</td>\n",
       "      <td>53</td>\n",
       "    </tr>\n",
       "    <tr>\n",
       "      <th>1</th>\n",
       "      <td>DebtRatio</td>\n",
       "      <td>(1.3e-05, 0.0163]</td>\n",
       "      <td>99</td>\n",
       "    </tr>\n",
       "    <tr>\n",
       "      <th>2</th>\n",
       "      <td>DebtRatio</td>\n",
       "      <td>(0.0163, 0.423]</td>\n",
       "      <td>74</td>\n",
       "    </tr>\n",
       "    <tr>\n",
       "      <th>3</th>\n",
       "      <td>DebtRatio</td>\n",
       "      <td>(0.423, 0.654]</td>\n",
       "      <td>59</td>\n",
       "    </tr>\n",
       "    <tr>\n",
       "      <th>4</th>\n",
       "      <td>DebtRatio</td>\n",
       "      <td>(0.654, 3.973]</td>\n",
       "      <td>42</td>\n",
       "    </tr>\n",
       "    <tr>\n",
       "      <th>5</th>\n",
       "      <td>DebtRatio</td>\n",
       "      <td>(3.973, 329664.0]</td>\n",
       "      <td>78</td>\n",
       "    </tr>\n",
       "    <tr>\n",
       "      <th>0</th>\n",
       "      <td>MonthlyIncome</td>\n",
       "      <td>(-0.001, 930.5]</td>\n",
       "      <td>73</td>\n",
       "    </tr>\n",
       "    <tr>\n",
       "      <th>1</th>\n",
       "      <td>MonthlyIncome</td>\n",
       "      <td>(930.5, 3332.5]</td>\n",
       "      <td>63</td>\n",
       "    </tr>\n",
       "    <tr>\n",
       "      <th>2</th>\n",
       "      <td>MonthlyIncome</td>\n",
       "      <td>(3332.5, 5320.5]</td>\n",
       "      <td>66</td>\n",
       "    </tr>\n",
       "    <tr>\n",
       "      <th>3</th>\n",
       "      <td>MonthlyIncome</td>\n",
       "      <td>(5320.5, 6643.5]</td>\n",
       "      <td>69</td>\n",
       "    </tr>\n",
       "    <tr>\n",
       "      <th>4</th>\n",
       "      <td>MonthlyIncome</td>\n",
       "      <td>(6643.5, 3008750.0]</td>\n",
       "      <td>73</td>\n",
       "    </tr>\n",
       "    <tr>\n",
       "      <th>5</th>\n",
       "      <td>MonthlyIncome</td>\n",
       "      <td>nan</td>\n",
       "      <td>71</td>\n",
       "    </tr>\n",
       "    <tr>\n",
       "      <th>0</th>\n",
       "      <td>NumberOfOpenCreditLinesAndLoans</td>\n",
       "      <td>(-0.001, 0.5]</td>\n",
       "      <td>65</td>\n",
       "    </tr>\n",
       "    <tr>\n",
       "      <th>1</th>\n",
       "      <td>NumberOfOpenCreditLinesAndLoans</td>\n",
       "      <td>(0.5, 1.5]</td>\n",
       "      <td>67</td>\n",
       "    </tr>\n",
       "    <tr>\n",
       "      <th>2</th>\n",
       "      <td>NumberOfOpenCreditLinesAndLoans</td>\n",
       "      <td>(1.5, 3.5]</td>\n",
       "      <td>68</td>\n",
       "    </tr>\n",
       "    <tr>\n",
       "      <th>3</th>\n",
       "      <td>NumberOfOpenCreditLinesAndLoans</td>\n",
       "      <td>(3.5, 13.5]</td>\n",
       "      <td>69</td>\n",
       "    </tr>\n",
       "    <tr>\n",
       "      <th>4</th>\n",
       "      <td>NumberOfOpenCreditLinesAndLoans</td>\n",
       "      <td>(13.5, 58.0]</td>\n",
       "      <td>69</td>\n",
       "    </tr>\n",
       "    <tr>\n",
       "      <th>0</th>\n",
       "      <td>NumberOfTimes90DaysLate</td>\n",
       "      <td>(-0.001, 0.5]</td>\n",
       "      <td>81</td>\n",
       "    </tr>\n",
       "    <tr>\n",
       "      <th>1</th>\n",
       "      <td>NumberOfTimes90DaysLate</td>\n",
       "      <td>(0.5, 1.5]</td>\n",
       "      <td>5</td>\n",
       "    </tr>\n",
       "    <tr>\n",
       "      <th>2</th>\n",
       "      <td>NumberOfTimes90DaysLate</td>\n",
       "      <td>(1.5, 98.0]</td>\n",
       "      <td>-23</td>\n",
       "    </tr>\n",
       "    <tr>\n",
       "      <th>0</th>\n",
       "      <td>NumberRealEstateLoansOrLines</td>\n",
       "      <td>(-0.001, 0.5]</td>\n",
       "      <td>61</td>\n",
       "    </tr>\n",
       "    <tr>\n",
       "      <th>1</th>\n",
       "      <td>NumberRealEstateLoansOrLines</td>\n",
       "      <td>(0.5, 3.5]</td>\n",
       "      <td>75</td>\n",
       "    </tr>\n",
       "    <tr>\n",
       "      <th>2</th>\n",
       "      <td>NumberRealEstateLoansOrLines</td>\n",
       "      <td>(3.5, 54.0]</td>\n",
       "      <td>51</td>\n",
       "    </tr>\n",
       "    <tr>\n",
       "      <th>0</th>\n",
       "      <td>NumberOfTime60_89DaysPastDueNotWorse</td>\n",
       "      <td>(-0.001, 0.5]</td>\n",
       "      <td>75</td>\n",
       "    </tr>\n",
       "    <tr>\n",
       "      <th>1</th>\n",
       "      <td>NumberOfTime60_89DaysPastDueNotWorse</td>\n",
       "      <td>(0.5, 1.5]</td>\n",
       "      <td>27</td>\n",
       "    </tr>\n",
       "    <tr>\n",
       "      <th>2</th>\n",
       "      <td>NumberOfTime60_89DaysPastDueNotWorse</td>\n",
       "      <td>(1.5, 98.0]</td>\n",
       "      <td>5</td>\n",
       "    </tr>\n",
       "    <tr>\n",
       "      <th>0</th>\n",
       "      <td>NumberOfDependents</td>\n",
       "      <td>(-0.001, 0.5]</td>\n",
       "      <td>71</td>\n",
       "    </tr>\n",
       "    <tr>\n",
       "      <th>1</th>\n",
       "      <td>NumberOfDependents</td>\n",
       "      <td>(0.5, 1.5]</td>\n",
       "      <td>67</td>\n",
       "    </tr>\n",
       "    <tr>\n",
       "      <th>2</th>\n",
       "      <td>NumberOfDependents</td>\n",
       "      <td>(1.5, 2.5]</td>\n",
       "      <td>65</td>\n",
       "    </tr>\n",
       "    <tr>\n",
       "      <th>3</th>\n",
       "      <td>NumberOfDependents</td>\n",
       "      <td>(2.5, 3.5]</td>\n",
       "      <td>64</td>\n",
       "    </tr>\n",
       "    <tr>\n",
       "      <th>4</th>\n",
       "      <td>NumberOfDependents</td>\n",
       "      <td>(3.5, 20.0]</td>\n",
       "      <td>61</td>\n",
       "    </tr>\n",
       "  </tbody>\n",
       "</table>\n",
       "</div>"
      ],
      "text/plain": [
       "                         Characteristic            Attribute  Points\n",
       "0  RevolvingUtilizationOfUnsecuredLines      (-0.001, 0.132]     118\n",
       "1  RevolvingUtilizationOfUnsecuredLines       (0.132, 0.301]      95\n",
       "2  RevolvingUtilizationOfUnsecuredLines       (0.301, 0.495]      74\n",
       "3  RevolvingUtilizationOfUnsecuredLines       (0.495, 0.698]      55\n",
       "4  RevolvingUtilizationOfUnsecuredLines       (0.698, 0.863]      38\n",
       "5  RevolvingUtilizationOfUnsecuredLines       (0.863, 1.003]      24\n",
       "6  RevolvingUtilizationOfUnsecuredLines     (1.003, 50708.0]      -9\n",
       "0                                   age       (-0.001, 36.5]      54\n",
       "1                                   age         (36.5, 43.5]      60\n",
       "2                                   age         (43.5, 55.5]      65\n",
       "3                                   age         (55.5, 62.5]      77\n",
       "4                                   age        (62.5, 109.0]      94\n",
       "0  NumberOfTime30_59DaysPastDueNotWorse        (-0.001, 0.5]      86\n",
       "1  NumberOfTime30_59DaysPastDueNotWorse           (0.5, 1.5]      40\n",
       "2  NumberOfTime30_59DaysPastDueNotWorse           (1.5, 2.5]      17\n",
       "3  NumberOfTime30_59DaysPastDueNotWorse           (2.5, 3.5]       4\n",
       "4  NumberOfTime30_59DaysPastDueNotWorse          (3.5, 98.0]     -10\n",
       "0                             DebtRatio    (-0.001, 1.3e-05]      53\n",
       "1                             DebtRatio    (1.3e-05, 0.0163]      99\n",
       "2                             DebtRatio      (0.0163, 0.423]      74\n",
       "3                             DebtRatio       (0.423, 0.654]      59\n",
       "4                             DebtRatio       (0.654, 3.973]      42\n",
       "5                             DebtRatio    (3.973, 329664.0]      78\n",
       "0                         MonthlyIncome      (-0.001, 930.5]      73\n",
       "1                         MonthlyIncome      (930.5, 3332.5]      63\n",
       "2                         MonthlyIncome     (3332.5, 5320.5]      66\n",
       "3                         MonthlyIncome     (5320.5, 6643.5]      69\n",
       "4                         MonthlyIncome  (6643.5, 3008750.0]      73\n",
       "5                         MonthlyIncome                  nan      71\n",
       "0       NumberOfOpenCreditLinesAndLoans        (-0.001, 0.5]      65\n",
       "1       NumberOfOpenCreditLinesAndLoans           (0.5, 1.5]      67\n",
       "2       NumberOfOpenCreditLinesAndLoans           (1.5, 3.5]      68\n",
       "3       NumberOfOpenCreditLinesAndLoans          (3.5, 13.5]      69\n",
       "4       NumberOfOpenCreditLinesAndLoans         (13.5, 58.0]      69\n",
       "0               NumberOfTimes90DaysLate        (-0.001, 0.5]      81\n",
       "1               NumberOfTimes90DaysLate           (0.5, 1.5]       5\n",
       "2               NumberOfTimes90DaysLate          (1.5, 98.0]     -23\n",
       "0          NumberRealEstateLoansOrLines        (-0.001, 0.5]      61\n",
       "1          NumberRealEstateLoansOrLines           (0.5, 3.5]      75\n",
       "2          NumberRealEstateLoansOrLines          (3.5, 54.0]      51\n",
       "0  NumberOfTime60_89DaysPastDueNotWorse        (-0.001, 0.5]      75\n",
       "1  NumberOfTime60_89DaysPastDueNotWorse           (0.5, 1.5]      27\n",
       "2  NumberOfTime60_89DaysPastDueNotWorse          (1.5, 98.0]       5\n",
       "0                    NumberOfDependents        (-0.001, 0.5]      71\n",
       "1                    NumberOfDependents           (0.5, 1.5]      67\n",
       "2                    NumberOfDependents           (1.5, 2.5]      65\n",
       "3                    NumberOfDependents           (2.5, 3.5]      64\n",
       "4                    NumberOfDependents          (3.5, 20.0]      61"
      ]
     },
     "execution_count": 210,
     "metadata": {},
     "output_type": "execute_result"
    }
   ],
   "source": [
    "scorecard.ScoreCard"
   ]
  },
  {
   "cell_type": "markdown",
   "metadata": {},
   "source": [
    "- 评分卡导出"
   ]
  },
  {
   "cell_type": "code",
   "execution_count": 211,
   "metadata": {},
   "outputs": [],
   "source": [
    "scorecard.ScoreCard.to_csv(\"ScoreCard.csv\",index=False)"
   ]
  },
  {
   "cell_type": "markdown",
   "metadata": {},
   "source": [
    "### 模型评估"
   ]
  },
  {
   "cell_type": "code",
   "execution_count": 212,
   "metadata": {},
   "outputs": [],
   "source": [
    "#测试集分数\n",
    "testscore=smscoregen(scorecard,Xtest)"
   ]
  },
  {
   "cell_type": "code",
   "execution_count": 213,
   "metadata": {},
   "outputs": [
    {
     "data": {
      "text/html": [
       "<div>\n",
       "<style scoped>\n",
       "    .dataframe tbody tr th:only-of-type {\n",
       "        vertical-align: middle;\n",
       "    }\n",
       "\n",
       "    .dataframe tbody tr th {\n",
       "        vertical-align: top;\n",
       "    }\n",
       "\n",
       "    .dataframe thead th {\n",
       "        text-align: right;\n",
       "    }\n",
       "</style>\n",
       "<table border=\"1\" class=\"dataframe\">\n",
       "  <thead>\n",
       "    <tr style=\"text-align: right;\">\n",
       "      <th></th>\n",
       "      <th>const</th>\n",
       "      <th>RevolvingUtilizationOfUnsecuredLines_woe</th>\n",
       "      <th>age_woe</th>\n",
       "      <th>NumberOfTime30_59DaysPastDueNotWorse_woe</th>\n",
       "      <th>DebtRatio_woe</th>\n",
       "      <th>MonthlyIncome_woe</th>\n",
       "      <th>NumberOfOpenCreditLinesAndLoans_woe</th>\n",
       "      <th>NumberOfTimes90DaysLate_woe</th>\n",
       "      <th>NumberRealEstateLoansOrLines_woe</th>\n",
       "      <th>NumberOfTime60_89DaysPastDueNotWorse_woe</th>\n",
       "      <th>NumberOfDependents_woe</th>\n",
       "      <th>RevolvingUtilizationOfUnsecuredLines_Score</th>\n",
       "      <th>age_Score</th>\n",
       "      <th>NumberOfTime30_59DaysPastDueNotWorse_Score</th>\n",
       "      <th>DebtRatio_Score</th>\n",
       "      <th>MonthlyIncome_Score</th>\n",
       "      <th>NumberOfOpenCreditLinesAndLoans_Score</th>\n",
       "      <th>NumberOfTimes90DaysLate_Score</th>\n",
       "      <th>NumberRealEstateLoansOrLines_Score</th>\n",
       "      <th>NumberOfTime60_89DaysPastDueNotWorse_Score</th>\n",
       "      <th>NumberOfDependents_Score</th>\n",
       "      <th>Score</th>\n",
       "    </tr>\n",
       "  </thead>\n",
       "  <tbody>\n",
       "    <tr>\n",
       "      <th>0</th>\n",
       "      <td>1.0</td>\n",
       "      <td>0.1515</td>\n",
       "      <td>-0.1385</td>\n",
       "      <td>-0.9011</td>\n",
       "      <td>0.1117</td>\n",
       "      <td>0.3397</td>\n",
       "      <td>0.1557</td>\n",
       "      <td>0.3890</td>\n",
       "      <td>0.2152</td>\n",
       "      <td>0.2874</td>\n",
       "      <td>0.1489</td>\n",
       "      <td>74</td>\n",
       "      <td>65</td>\n",
       "      <td>40</td>\n",
       "      <td>74</td>\n",
       "      <td>73</td>\n",
       "      <td>69</td>\n",
       "      <td>81</td>\n",
       "      <td>75</td>\n",
       "      <td>75</td>\n",
       "      <td>71</td>\n",
       "      <td>697</td>\n",
       "    </tr>\n",
       "    <tr>\n",
       "      <th>1</th>\n",
       "      <td>1.0</td>\n",
       "      <td>0.1515</td>\n",
       "      <td>-0.1385</td>\n",
       "      <td>0.5408</td>\n",
       "      <td>0.1117</td>\n",
       "      <td>0.3397</td>\n",
       "      <td>-0.0441</td>\n",
       "      <td>0.3890</td>\n",
       "      <td>0.2152</td>\n",
       "      <td>0.2874</td>\n",
       "      <td>0.1489</td>\n",
       "      <td>74</td>\n",
       "      <td>65</td>\n",
       "      <td>86</td>\n",
       "      <td>74</td>\n",
       "      <td>73</td>\n",
       "      <td>69</td>\n",
       "      <td>81</td>\n",
       "      <td>75</td>\n",
       "      <td>75</td>\n",
       "      <td>71</td>\n",
       "      <td>743</td>\n",
       "    </tr>\n",
       "    <tr>\n",
       "      <th>2</th>\n",
       "      <td>1.0</td>\n",
       "      <td>1.3365</td>\n",
       "      <td>-0.1385</td>\n",
       "      <td>0.5408</td>\n",
       "      <td>0.1117</td>\n",
       "      <td>0.0025</td>\n",
       "      <td>0.1557</td>\n",
       "      <td>0.3890</td>\n",
       "      <td>0.2152</td>\n",
       "      <td>0.2874</td>\n",
       "      <td>-0.2987</td>\n",
       "      <td>118</td>\n",
       "      <td>65</td>\n",
       "      <td>86</td>\n",
       "      <td>74</td>\n",
       "      <td>69</td>\n",
       "      <td>69</td>\n",
       "      <td>81</td>\n",
       "      <td>75</td>\n",
       "      <td>75</td>\n",
       "      <td>64</td>\n",
       "      <td>776</td>\n",
       "    </tr>\n",
       "    <tr>\n",
       "      <th>3</th>\n",
       "      <td>1.0</td>\n",
       "      <td>-2.1376</td>\n",
       "      <td>-0.5507</td>\n",
       "      <td>0.5408</td>\n",
       "      <td>0.1117</td>\n",
       "      <td>0.0025</td>\n",
       "      <td>0.1557</td>\n",
       "      <td>0.3890</td>\n",
       "      <td>0.2152</td>\n",
       "      <td>-1.8339</td>\n",
       "      <td>-0.1001</td>\n",
       "      <td>-9</td>\n",
       "      <td>54</td>\n",
       "      <td>86</td>\n",
       "      <td>74</td>\n",
       "      <td>69</td>\n",
       "      <td>69</td>\n",
       "      <td>81</td>\n",
       "      <td>75</td>\n",
       "      <td>27</td>\n",
       "      <td>67</td>\n",
       "      <td>593</td>\n",
       "    </tr>\n",
       "    <tr>\n",
       "      <th>4</th>\n",
       "      <td>1.0</td>\n",
       "      <td>-0.8258</td>\n",
       "      <td>-0.1385</td>\n",
       "      <td>0.5408</td>\n",
       "      <td>0.1117</td>\n",
       "      <td>-0.4417</td>\n",
       "      <td>0.1557</td>\n",
       "      <td>-1.9577</td>\n",
       "      <td>-0.2413</td>\n",
       "      <td>0.2874</td>\n",
       "      <td>0.1489</td>\n",
       "      <td>38</td>\n",
       "      <td>65</td>\n",
       "      <td>86</td>\n",
       "      <td>74</td>\n",
       "      <td>63</td>\n",
       "      <td>69</td>\n",
       "      <td>5</td>\n",
       "      <td>61</td>\n",
       "      <td>75</td>\n",
       "      <td>71</td>\n",
       "      <td>607</td>\n",
       "    </tr>\n",
       "  </tbody>\n",
       "</table>\n",
       "</div>"
      ],
      "text/plain": [
       "   const  RevolvingUtilizationOfUnsecuredLines_woe  age_woe  \\\n",
       "0    1.0                                    0.1515  -0.1385   \n",
       "1    1.0                                    0.1515  -0.1385   \n",
       "2    1.0                                    1.3365  -0.1385   \n",
       "3    1.0                                   -2.1376  -0.5507   \n",
       "4    1.0                                   -0.8258  -0.1385   \n",
       "\n",
       "   NumberOfTime30_59DaysPastDueNotWorse_woe  DebtRatio_woe  MonthlyIncome_woe  \\\n",
       "0                                   -0.9011         0.1117             0.3397   \n",
       "1                                    0.5408         0.1117             0.3397   \n",
       "2                                    0.5408         0.1117             0.0025   \n",
       "3                                    0.5408         0.1117             0.0025   \n",
       "4                                    0.5408         0.1117            -0.4417   \n",
       "\n",
       "   NumberOfOpenCreditLinesAndLoans_woe  NumberOfTimes90DaysLate_woe  \\\n",
       "0                               0.1557                       0.3890   \n",
       "1                              -0.0441                       0.3890   \n",
       "2                               0.1557                       0.3890   \n",
       "3                               0.1557                       0.3890   \n",
       "4                               0.1557                      -1.9577   \n",
       "\n",
       "   NumberRealEstateLoansOrLines_woe  NumberOfTime60_89DaysPastDueNotWorse_woe  \\\n",
       "0                            0.2152                                    0.2874   \n",
       "1                            0.2152                                    0.2874   \n",
       "2                            0.2152                                    0.2874   \n",
       "3                            0.2152                                   -1.8339   \n",
       "4                           -0.2413                                    0.2874   \n",
       "\n",
       "   NumberOfDependents_woe  RevolvingUtilizationOfUnsecuredLines_Score  \\\n",
       "0                  0.1489                                          74   \n",
       "1                  0.1489                                          74   \n",
       "2                 -0.2987                                         118   \n",
       "3                 -0.1001                                          -9   \n",
       "4                  0.1489                                          38   \n",
       "\n",
       "   age_Score  NumberOfTime30_59DaysPastDueNotWorse_Score  DebtRatio_Score  \\\n",
       "0         65                                          40               74   \n",
       "1         65                                          86               74   \n",
       "2         65                                          86               74   \n",
       "3         54                                          86               74   \n",
       "4         65                                          86               74   \n",
       "\n",
       "   MonthlyIncome_Score  NumberOfOpenCreditLinesAndLoans_Score  \\\n",
       "0                   73                                     69   \n",
       "1                   73                                     69   \n",
       "2                   69                                     69   \n",
       "3                   69                                     69   \n",
       "4                   63                                     69   \n",
       "\n",
       "   NumberOfTimes90DaysLate_Score  NumberRealEstateLoansOrLines_Score  \\\n",
       "0                             81                                  75   \n",
       "1                             81                                  75   \n",
       "2                             81                                  75   \n",
       "3                             81                                  75   \n",
       "4                              5                                  61   \n",
       "\n",
       "   NumberOfTime60_89DaysPastDueNotWorse_Score  NumberOfDependents_Score  Score  \n",
       "0                                          75                        71    697  \n",
       "1                                          75                        71    743  \n",
       "2                                          75                        64    776  \n",
       "3                                          27                        67    593  \n",
       "4                                          75                        71    607  "
      ]
     },
     "execution_count": 213,
     "metadata": {},
     "output_type": "execute_result"
    }
   ],
   "source": [
    "testscore.head()"
   ]
  },
  {
   "cell_type": "markdown",
   "metadata": {},
   "source": [
    "- 通过测试集中真实的y,和预测的分数,绘制ks曲线\n",
    "- 得到对应的最优阈值以及相关度量"
   ]
  },
  {
   "cell_type": "code",
   "execution_count": 214,
   "metadata": {},
   "outputs": [
    {
     "name": "stdout",
     "output_type": "stream",
     "text": [
      "The optimal cutoff(for ks) is 699.0\n",
      "The maximum value of ks is: 0.5709\n",
      "Score      699.000000\n",
      "TP       32020.000000\n",
      "FP         601.000000\n",
      "FN        9732.000000\n",
      "TN        2465.000000\n",
      "rpp          0.727855\n",
      "tpr          0.766909\n",
      "fpr          0.196021\n",
      "ppv          0.981576\n",
      "acc          0.769445\n",
      "f            0.861065\n",
      "ks           0.570888\n",
      "lift         1.053657\n",
      "Name: 32620, dtype: float64\n"
     ]
    },
    {
     "data": {
      "image/png": "[encoded data removed]",
      "text/plain": [
       "<Figure size 432x288 with 1 Axes>"
      ]
     },
     "metadata": {
      "needs_background": "light"
     },
     "output_type": "display_data"
    }
   ],
   "source": [
    "evaluate1=evaluate01(Ytest,testscore[\"Score\"],index=\"ks\",plot=\"ks\")"
   ]
  },
  {
   "cell_type": "markdown",
   "metadata": {},
   "source": [
    "- ROC曲线"
   ]
  },
  {
   "cell_type": "code",
   "execution_count": 216,
   "metadata": {},
   "outputs": [
    {
     "data": {
      "image/png": "[encoded data removed]",
      "text/plain": [
       "<Figure size 432x288 with 1 Axes>"
      ]
     },
     "metadata": {
      "needs_background": "light"
     },
     "output_type": "display_data"
    }
   ],
   "source": [
    "evaluate2=evaluate01(Ytest,testscore[\"Score\"],plot=\"roc\",report=False)"
   ]
  },
  {
   "cell_type": "markdown",
   "metadata": {},
   "source": [
    "### 新数据预测"
   ]
  },
  {
   "cell_type": "code",
   "execution_count": 221,
   "metadata": {},
   "outputs": [],
   "source": [
    "test_data=pd.read_csv(r\"C:\\Users\\CDA\\python\\CreditScore\\data\\give-me-some-credit-dataset\\cs-test.csv\",index_col=0)"
   ]
  },
  {
   "cell_type": "code",
   "execution_count": 222,
   "metadata": {},
   "outputs": [
    {
     "data": {
      "text/html": [
       "<div>\n",
       "<style scoped>\n",
       "    .dataframe tbody tr th:only-of-type {\n",
       "        vertical-align: middle;\n",
       "    }\n",
       "\n",
       "    .dataframe tbody tr th {\n",
       "        vertical-align: top;\n",
       "    }\n",
       "\n",
       "    .dataframe thead th {\n",
       "        text-align: right;\n",
       "    }\n",
       "</style>\n",
       "<table border=\"1\" class=\"dataframe\">\n",
       "  <thead>\n",
       "    <tr style=\"text-align: right;\">\n",
       "      <th></th>\n",
       "      <th>SeriousDlqin2yrs</th>\n",
       "      <th>RevolvingUtilizationOfUnsecuredLines</th>\n",
       "      <th>age</th>\n",
       "      <th>NumberOfTime30-59DaysPastDueNotWorse</th>\n",
       "      <th>DebtRatio</th>\n",
       "      <th>MonthlyIncome</th>\n",
       "      <th>NumberOfOpenCreditLinesAndLoans</th>\n",
       "      <th>NumberOfTimes90DaysLate</th>\n",
       "      <th>NumberRealEstateLoansOrLines</th>\n",
       "      <th>NumberOfTime60-89DaysPastDueNotWorse</th>\n",
       "      <th>NumberOfDependents</th>\n",
       "    </tr>\n",
       "  </thead>\n",
       "  <tbody>\n",
       "    <tr>\n",
       "      <th>1</th>\n",
       "      <td>NaN</td>\n",
       "      <td>0.885519</td>\n",
       "      <td>43</td>\n",
       "      <td>0</td>\n",
       "      <td>0.177513</td>\n",
       "      <td>5700.0</td>\n",
       "      <td>4</td>\n",
       "      <td>0</td>\n",
       "      <td>0</td>\n",
       "      <td>0</td>\n",
       "      <td>0.0</td>\n",
       "    </tr>\n",
       "    <tr>\n",
       "      <th>2</th>\n",
       "      <td>NaN</td>\n",
       "      <td>0.463295</td>\n",
       "      <td>57</td>\n",
       "      <td>0</td>\n",
       "      <td>0.527237</td>\n",
       "      <td>9141.0</td>\n",
       "      <td>15</td>\n",
       "      <td>0</td>\n",
       "      <td>4</td>\n",
       "      <td>0</td>\n",
       "      <td>2.0</td>\n",
       "    </tr>\n",
       "    <tr>\n",
       "      <th>3</th>\n",
       "      <td>NaN</td>\n",
       "      <td>0.043275</td>\n",
       "      <td>59</td>\n",
       "      <td>0</td>\n",
       "      <td>0.687648</td>\n",
       "      <td>5083.0</td>\n",
       "      <td>12</td>\n",
       "      <td>0</td>\n",
       "      <td>1</td>\n",
       "      <td>0</td>\n",
       "      <td>2.0</td>\n",
       "    </tr>\n",
       "    <tr>\n",
       "      <th>4</th>\n",
       "      <td>NaN</td>\n",
       "      <td>0.280308</td>\n",
       "      <td>38</td>\n",
       "      <td>1</td>\n",
       "      <td>0.925961</td>\n",
       "      <td>3200.0</td>\n",
       "      <td>7</td>\n",
       "      <td>0</td>\n",
       "      <td>2</td>\n",
       "      <td>0</td>\n",
       "      <td>0.0</td>\n",
       "    </tr>\n",
       "    <tr>\n",
       "      <th>5</th>\n",
       "      <td>NaN</td>\n",
       "      <td>1.000000</td>\n",
       "      <td>27</td>\n",
       "      <td>0</td>\n",
       "      <td>0.019917</td>\n",
       "      <td>3865.0</td>\n",
       "      <td>4</td>\n",
       "      <td>0</td>\n",
       "      <td>0</td>\n",
       "      <td>0</td>\n",
       "      <td>1.0</td>\n",
       "    </tr>\n",
       "  </tbody>\n",
       "</table>\n",
       "</div>"
      ],
      "text/plain": [
       "   SeriousDlqin2yrs  RevolvingUtilizationOfUnsecuredLines  age  \\\n",
       "1               NaN                              0.885519   43   \n",
       "2               NaN                              0.463295   57   \n",
       "3               NaN                              0.043275   59   \n",
       "4               NaN                              0.280308   38   \n",
       "5               NaN                              1.000000   27   \n",
       "\n",
       "   NumberOfTime30-59DaysPastDueNotWorse  DebtRatio  MonthlyIncome  \\\n",
       "1                                     0   0.177513         5700.0   \n",
       "2                                     0   0.527237         9141.0   \n",
       "3                                     0   0.687648         5083.0   \n",
       "4                                     1   0.925961         3200.0   \n",
       "5                                     0   0.019917         3865.0   \n",
       "\n",
       "   NumberOfOpenCreditLinesAndLoans  NumberOfTimes90DaysLate  \\\n",
       "1                                4                        0   \n",
       "2                               15                        0   \n",
       "3                               12                        0   \n",
       "4                                7                        0   \n",
       "5                                4                        0   \n",
       "\n",
       "   NumberRealEstateLoansOrLines  NumberOfTime60-89DaysPastDueNotWorse  \\\n",
       "1                             0                                     0   \n",
       "2                             4                                     0   \n",
       "3                             1                                     0   \n",
       "4                             2                                     0   \n",
       "5                             0                                     0   \n",
       "\n",
       "   NumberOfDependents  \n",
       "1                 0.0  \n",
       "2                 2.0  \n",
       "3                 2.0  \n",
       "4                 0.0  \n",
       "5                 1.0  "
      ]
     },
     "execution_count": 222,
     "metadata": {},
     "output_type": "execute_result"
    }
   ],
   "source": [
    "test_data.head()"
   ]
  },
  {
   "cell_type": "markdown",
   "metadata": {},
   "source": [
    "- 调用之前封装的函数对新数据清洗"
   ]
  },
  {
   "cell_type": "code",
   "execution_count": 225,
   "metadata": {},
   "outputs": [],
   "source": [
    "test_newdata=datacleaning(test_data)"
   ]
  },
  {
   "cell_type": "markdown",
   "metadata": {},
   "source": [
    "- 由之前得到的分箱对象生成包含woe列的数据"
   ]
  },
  {
   "cell_type": "code",
   "execution_count": 226,
   "metadata": {},
   "outputs": [
    {
     "data": {
      "text/html": [
       "<div>\n",
       "<style scoped>\n",
       "    .dataframe tbody tr th:only-of-type {\n",
       "        vertical-align: middle;\n",
       "    }\n",
       "\n",
       "    .dataframe tbody tr th {\n",
       "        vertical-align: top;\n",
       "    }\n",
       "\n",
       "    .dataframe thead th {\n",
       "        text-align: right;\n",
       "    }\n",
       "</style>\n",
       "<table border=\"1\" class=\"dataframe\">\n",
       "  <thead>\n",
       "    <tr style=\"text-align: right;\">\n",
       "      <th></th>\n",
       "      <th>SeriousDlqin2yrs</th>\n",
       "      <th>RevolvingUtilizationOfUnsecuredLines</th>\n",
       "      <th>age</th>\n",
       "      <th>NumberOfTime30_59DaysPastDueNotWorse</th>\n",
       "      <th>DebtRatio</th>\n",
       "      <th>MonthlyIncome</th>\n",
       "      <th>NumberOfOpenCreditLinesAndLoans</th>\n",
       "      <th>NumberOfTimes90DaysLate</th>\n",
       "      <th>NumberRealEstateLoansOrLines</th>\n",
       "      <th>NumberOfTime60_89DaysPastDueNotWorse</th>\n",
       "      <th>NumberOfDependents</th>\n",
       "      <th>RevolvingUtilizationOfUnsecuredLines_woe</th>\n",
       "      <th>age_woe</th>\n",
       "      <th>NumberOfTime30_59DaysPastDueNotWorse_woe</th>\n",
       "      <th>DebtRatio_woe</th>\n",
       "      <th>MonthlyIncome_woe</th>\n",
       "      <th>NumberOfOpenCreditLinesAndLoans_woe</th>\n",
       "      <th>NumberOfTimes90DaysLate_woe</th>\n",
       "      <th>NumberRealEstateLoansOrLines_woe</th>\n",
       "      <th>NumberOfTime60_89DaysPastDueNotWorse_woe</th>\n",
       "      <th>NumberOfDependents_woe</th>\n",
       "    </tr>\n",
       "  </thead>\n",
       "  <tbody>\n",
       "    <tr>\n",
       "      <th>1</th>\n",
       "      <td>NaN</td>\n",
       "      <td>0.885519</td>\n",
       "      <td>43</td>\n",
       "      <td>0</td>\n",
       "      <td>0.177513</td>\n",
       "      <td>5700.0</td>\n",
       "      <td>4</td>\n",
       "      <td>0</td>\n",
       "      <td>0</td>\n",
       "      <td>0</td>\n",
       "      <td>0.0</td>\n",
       "      <td>-1.2175</td>\n",
       "      <td>-0.3249</td>\n",
       "      <td>0.5408</td>\n",
       "      <td>0.1117</td>\n",
       "      <td>0.0025</td>\n",
       "      <td>0.1557</td>\n",
       "      <td>0.389</td>\n",
       "      <td>-0.2413</td>\n",
       "      <td>0.2874</td>\n",
       "      <td>0.1489</td>\n",
       "    </tr>\n",
       "    <tr>\n",
       "      <th>2</th>\n",
       "      <td>NaN</td>\n",
       "      <td>0.463295</td>\n",
       "      <td>57</td>\n",
       "      <td>0</td>\n",
       "      <td>0.527237</td>\n",
       "      <td>9141.0</td>\n",
       "      <td>15</td>\n",
       "      <td>0</td>\n",
       "      <td>4</td>\n",
       "      <td>0</td>\n",
       "      <td>2.0</td>\n",
       "      <td>0.1515</td>\n",
       "      <td>0.3025</td>\n",
       "      <td>0.5408</td>\n",
       "      <td>-0.2128</td>\n",
       "      <td>0.3397</td>\n",
       "      <td>-0.0441</td>\n",
       "      <td>0.389</td>\n",
       "      <td>-0.5904</td>\n",
       "      <td>0.2874</td>\n",
       "      <td>-0.2068</td>\n",
       "    </tr>\n",
       "    <tr>\n",
       "      <th>3</th>\n",
       "      <td>NaN</td>\n",
       "      <td>0.043275</td>\n",
       "      <td>59</td>\n",
       "      <td>0</td>\n",
       "      <td>0.687648</td>\n",
       "      <td>5083.0</td>\n",
       "      <td>12</td>\n",
       "      <td>0</td>\n",
       "      <td>1</td>\n",
       "      <td>0</td>\n",
       "      <td>2.0</td>\n",
       "      <td>1.3365</td>\n",
       "      <td>0.3025</td>\n",
       "      <td>0.5408</td>\n",
       "      <td>-0.5947</td>\n",
       "      <td>-0.1884</td>\n",
       "      <td>0.1557</td>\n",
       "      <td>0.389</td>\n",
       "      <td>0.2152</td>\n",
       "      <td>0.2874</td>\n",
       "      <td>-0.2068</td>\n",
       "    </tr>\n",
       "    <tr>\n",
       "      <th>4</th>\n",
       "      <td>NaN</td>\n",
       "      <td>0.280308</td>\n",
       "      <td>38</td>\n",
       "      <td>1</td>\n",
       "      <td>0.925961</td>\n",
       "      <td>3200.0</td>\n",
       "      <td>7</td>\n",
       "      <td>0</td>\n",
       "      <td>2</td>\n",
       "      <td>0</td>\n",
       "      <td>0.0</td>\n",
       "      <td>0.7032</td>\n",
       "      <td>-0.3249</td>\n",
       "      <td>-0.9011</td>\n",
       "      <td>-0.5947</td>\n",
       "      <td>-0.4417</td>\n",
       "      <td>0.1557</td>\n",
       "      <td>0.389</td>\n",
       "      <td>0.2152</td>\n",
       "      <td>0.2874</td>\n",
       "      <td>0.1489</td>\n",
       "    </tr>\n",
       "    <tr>\n",
       "      <th>5</th>\n",
       "      <td>NaN</td>\n",
       "      <td>1.000000</td>\n",
       "      <td>27</td>\n",
       "      <td>0</td>\n",
       "      <td>0.019917</td>\n",
       "      <td>3865.0</td>\n",
       "      <td>4</td>\n",
       "      <td>0</td>\n",
       "      <td>0</td>\n",
       "      <td>0</td>\n",
       "      <td>1.0</td>\n",
       "      <td>-1.2175</td>\n",
       "      <td>-0.5507</td>\n",
       "      <td>0.5408</td>\n",
       "      <td>0.1117</td>\n",
       "      <td>-0.1884</td>\n",
       "      <td>0.1557</td>\n",
       "      <td>0.389</td>\n",
       "      <td>-0.2413</td>\n",
       "      <td>0.2874</td>\n",
       "      <td>-0.1001</td>\n",
       "    </tr>\n",
       "  </tbody>\n",
       "</table>\n",
       "</div>"
      ],
      "text/plain": [
       "   SeriousDlqin2yrs  RevolvingUtilizationOfUnsecuredLines  age  \\\n",
       "1               NaN                              0.885519   43   \n",
       "2               NaN                              0.463295   57   \n",
       "3               NaN                              0.043275   59   \n",
       "4               NaN                              0.280308   38   \n",
       "5               NaN                              1.000000   27   \n",
       "\n",
       "   NumberOfTime30_59DaysPastDueNotWorse  DebtRatio  MonthlyIncome  \\\n",
       "1                                     0   0.177513         5700.0   \n",
       "2                                     0   0.527237         9141.0   \n",
       "3                                     0   0.687648         5083.0   \n",
       "4                                     1   0.925961         3200.0   \n",
       "5                                     0   0.019917         3865.0   \n",
       "\n",
       "   NumberOfOpenCreditLinesAndLoans  NumberOfTimes90DaysLate  \\\n",
       "1                                4                        0   \n",
       "2                               15                        0   \n",
       "3                               12                        0   \n",
       "4                                7                        0   \n",
       "5                                4                        0   \n",
       "\n",
       "   NumberRealEstateLoansOrLines  NumberOfTime60_89DaysPastDueNotWorse  \\\n",
       "1                             0                                     0   \n",
       "2                             4                                     0   \n",
       "3                             1                                     0   \n",
       "4                             2                                     0   \n",
       "5                             0                                     0   \n",
       "\n",
       "   NumberOfDependents  RevolvingUtilizationOfUnsecuredLines_woe  age_woe  \\\n",
       "1                 0.0                                   -1.2175  -0.3249   \n",
       "2                 2.0                                    0.1515   0.3025   \n",
       "3                 2.0                                    1.3365   0.3025   \n",
       "4                 0.0                                    0.7032  -0.3249   \n",
       "5                 1.0                                   -1.2175  -0.5507   \n",
       "\n",
       "   NumberOfTime30_59DaysPastDueNotWorse_woe  DebtRatio_woe  MonthlyIncome_woe  \\\n",
       "1                                    0.5408         0.1117             0.0025   \n",
       "2                                    0.5408        -0.2128             0.3397   \n",
       "3                                    0.5408        -0.5947            -0.1884   \n",
       "4                                   -0.9011        -0.5947            -0.4417   \n",
       "5                                    0.5408         0.1117            -0.1884   \n",
       "\n",
       "   NumberOfOpenCreditLinesAndLoans_woe  NumberOfTimes90DaysLate_woe  \\\n",
       "1                               0.1557                        0.389   \n",
       "2                              -0.0441                        0.389   \n",
       "3                               0.1557                        0.389   \n",
       "4                               0.1557                        0.389   \n",
       "5                               0.1557                        0.389   \n",
       "\n",
       "   NumberRealEstateLoansOrLines_woe  NumberOfTime60_89DaysPastDueNotWorse_woe  \\\n",
       "1                           -0.2413                                    0.2874   \n",
       "2                           -0.5904                                    0.2874   \n",
       "3                            0.2152                                    0.2874   \n",
       "4                            0.2152                                    0.2874   \n",
       "5                           -0.2413                                    0.2874   \n",
       "\n",
       "   NumberOfDependents_woe  \n",
       "1                  0.1489  \n",
       "2                 -0.2068  \n",
       "3                 -0.2068  \n",
       "4                  0.1489  \n",
       "5                 -0.1001  "
      ]
     },
     "execution_count": 226,
     "metadata": {},
     "output_type": "execute_result"
    }
   ],
   "source": [
    "test_woe=smgennew(test_newdata,x_list)\n",
    "test_woe.head()"
   ]
  },
  {
   "cell_type": "markdown",
   "metadata": {},
   "source": [
    "- 抽取WOE数据生成预测用数据\n",
    "- 要加常数项列"
   ]
  },
  {
   "cell_type": "code",
   "execution_count": 227,
   "metadata": {},
   "outputs": [],
   "source": [
    "T=test_woe.iloc[:,-len(x_list):]\n",
    "T=sm.add_constant(T)"
   ]
  },
  {
   "cell_type": "code",
   "execution_count": 228,
   "metadata": {},
   "outputs": [],
   "source": [
    "y_pred=glmodel.predict(T)"
   ]
  },
  {
   "cell_type": "code",
   "execution_count": 229,
   "metadata": {},
   "outputs": [],
   "source": [
    "Tscore=smscoregen(scorecard,T)"
   ]
  },
  {
   "cell_type": "markdown",
   "metadata": {},
   "source": [
    "- 根据分数和训练得到的阈值判断客户的好坏,好客户是1,坏客户是0"
   ]
  },
  {
   "cell_type": "code",
   "execution_count": 230,
   "metadata": {},
   "outputs": [
    {
     "data": {
      "text/html": [
       "<div>\n",
       "<style scoped>\n",
       "    .dataframe tbody tr th:only-of-type {\n",
       "        vertical-align: middle;\n",
       "    }\n",
       "\n",
       "    .dataframe tbody tr th {\n",
       "        vertical-align: top;\n",
       "    }\n",
       "\n",
       "    .dataframe thead th {\n",
       "        text-align: right;\n",
       "    }\n",
       "</style>\n",
       "<table border=\"1\" class=\"dataframe\">\n",
       "  <thead>\n",
       "    <tr style=\"text-align: right;\">\n",
       "      <th></th>\n",
       "      <th>SeriousDlqin2yrs</th>\n",
       "      <th>RevolvingUtilizationOfUnsecuredLines</th>\n",
       "      <th>age</th>\n",
       "      <th>NumberOfTime30_59DaysPastDueNotWorse</th>\n",
       "      <th>DebtRatio</th>\n",
       "      <th>MonthlyIncome</th>\n",
       "      <th>NumberOfOpenCreditLinesAndLoans</th>\n",
       "      <th>NumberOfTimes90DaysLate</th>\n",
       "      <th>NumberRealEstateLoansOrLines</th>\n",
       "      <th>NumberOfTime60_89DaysPastDueNotWorse</th>\n",
       "      <th>NumberOfDependents</th>\n",
       "    </tr>\n",
       "  </thead>\n",
       "  <tbody>\n",
       "    <tr>\n",
       "      <th>1</th>\n",
       "      <td>1.0</td>\n",
       "      <td>0.885519</td>\n",
       "      <td>43</td>\n",
       "      <td>0</td>\n",
       "      <td>0.177513</td>\n",
       "      <td>5700.0</td>\n",
       "      <td>4</td>\n",
       "      <td>0</td>\n",
       "      <td>0</td>\n",
       "      <td>0</td>\n",
       "      <td>0.0</td>\n",
       "    </tr>\n",
       "    <tr>\n",
       "      <th>2</th>\n",
       "      <td>1.0</td>\n",
       "      <td>0.463295</td>\n",
       "      <td>57</td>\n",
       "      <td>0</td>\n",
       "      <td>0.527237</td>\n",
       "      <td>9141.0</td>\n",
       "      <td>15</td>\n",
       "      <td>0</td>\n",
       "      <td>4</td>\n",
       "      <td>0</td>\n",
       "      <td>2.0</td>\n",
       "    </tr>\n",
       "    <tr>\n",
       "      <th>3</th>\n",
       "      <td>0.0</td>\n",
       "      <td>0.043275</td>\n",
       "      <td>59</td>\n",
       "      <td>0</td>\n",
       "      <td>0.687648</td>\n",
       "      <td>5083.0</td>\n",
       "      <td>12</td>\n",
       "      <td>0</td>\n",
       "      <td>1</td>\n",
       "      <td>0</td>\n",
       "      <td>2.0</td>\n",
       "    </tr>\n",
       "    <tr>\n",
       "      <th>4</th>\n",
       "      <td>0.0</td>\n",
       "      <td>0.280308</td>\n",
       "      <td>38</td>\n",
       "      <td>1</td>\n",
       "      <td>0.925961</td>\n",
       "      <td>3200.0</td>\n",
       "      <td>7</td>\n",
       "      <td>0</td>\n",
       "      <td>2</td>\n",
       "      <td>0</td>\n",
       "      <td>0.0</td>\n",
       "    </tr>\n",
       "    <tr>\n",
       "      <th>5</th>\n",
       "      <td>1.0</td>\n",
       "      <td>1.000000</td>\n",
       "      <td>27</td>\n",
       "      <td>0</td>\n",
       "      <td>0.019917</td>\n",
       "      <td>3865.0</td>\n",
       "      <td>4</td>\n",
       "      <td>0</td>\n",
       "      <td>0</td>\n",
       "      <td>0</td>\n",
       "      <td>1.0</td>\n",
       "    </tr>\n",
       "  </tbody>\n",
       "</table>\n",
       "</div>"
      ],
      "text/plain": [
       "   SeriousDlqin2yrs  RevolvingUtilizationOfUnsecuredLines  age  \\\n",
       "1               1.0                              0.885519   43   \n",
       "2               1.0                              0.463295   57   \n",
       "3               0.0                              0.043275   59   \n",
       "4               0.0                              0.280308   38   \n",
       "5               1.0                              1.000000   27   \n",
       "\n",
       "   NumberOfTime30_59DaysPastDueNotWorse  DebtRatio  MonthlyIncome  \\\n",
       "1                                     0   0.177513         5700.0   \n",
       "2                                     0   0.527237         9141.0   \n",
       "3                                     0   0.687648         5083.0   \n",
       "4                                     1   0.925961         3200.0   \n",
       "5                                     0   0.019917         3865.0   \n",
       "\n",
       "   NumberOfOpenCreditLinesAndLoans  NumberOfTimes90DaysLate  \\\n",
       "1                                4                        0   \n",
       "2                               15                        0   \n",
       "3                               12                        0   \n",
       "4                                7                        0   \n",
       "5                                4                        0   \n",
       "\n",
       "   NumberRealEstateLoansOrLines  NumberOfTime60_89DaysPastDueNotWorse  \\\n",
       "1                             0                                     0   \n",
       "2                             4                                     0   \n",
       "3                             1                                     0   \n",
       "4                             2                                     0   \n",
       "5                             0                                     0   \n",
       "\n",
       "   NumberOfDependents  \n",
       "1                 0.0  \n",
       "2                 2.0  \n",
       "3                 2.0  \n",
       "4                 0.0  \n",
       "5                 1.0  "
      ]
     },
     "execution_count": 230,
     "metadata": {},
     "output_type": "execute_result"
    }
   ],
   "source": [
    "test_newdata[y]=(Tscore.Score>evaluate1.cutoff)*1\n",
    "test_newdata.head()"
   ]
  },
  {
   "cell_type": "code",
   "execution_count": null,
   "metadata": {},
   "outputs": [],
   "source": []
  },
  {
   "cell_type": "code",
   "execution_count": 122,
   "metadata": {},
   "outputs": [
    {
     "data": {
      "text/plain": [
       "IVtable                       Bins  CntRec  CntGood  CntBad    P...\n",
       "IV                                                           0.0339\n",
       "Xname                                            NumberOfDependents\n",
       "Dict              {'(-0.001, 0.5]': 0.1489, '(0.5, 1.5]': -0.100...\n",
       "Xbin              1            (1.5, 2.5]\n",
       "2            (0.5, 1.5...\n",
       "Cutpoints                           [0.0, 0.5, 1.5, 2.5, 3.5, 20.0]\n",
       "Tree_structure    The cart tree structure has 9 nodes, tree stru...\n",
       "dtype: object"
      ]
     },
     "execution_count": 122,
     "metadata": {},
     "output_type": "execute_result"
    }
   ],
   "source": [
    "RUO\n",
    "age\n",
    "NO3059\n",
    "DR\n",
    "Mic\n",
    "NOO\n",
    "NO90\n",
    "NRE\n",
    "NO6089\n",
    "NOD"
   ]
  },
  {
   "cell_type": "code",
   "execution_count": null,
   "metadata": {},
   "outputs": [],
   "source": []
  },
  {
   "cell_type": "code",
   "execution_count": null,
   "metadata": {},
   "outputs": [],
   "source": []
  }
 ],
 "metadata": {
  "kernelspec": {
   "display_name": "Python 3",
   "language": "python",
   "name": "python3"
  },
  "language_info": {
   "codemirror_mode": {
    "name": "ipython",
    "version": 3
   },
   "file_extension": ".py",
   "mimetype": "text/x-python",
   "name": "python",
   "nbconvert_exporter": "python",
   "pygments_lexer": "ipython3",
   "version": "3.7.3"
  },
  "toc": {
   "base_numbering": 1,
   "nav_menu": {},
   "number_sections": true,
   "sideBar": true,
   "skip_h1_title": false,
   "title_cell": "Table of Contents",
   "title_sidebar": "Contents",
   "toc_cell": true,
   "toc_position": {
    "height": "calc(100% - 180px)",
    "left": "10px",
    "top": "150px",
    "width": "265.188px"
   },
   "toc_section_display": true,
   "toc_window_display": true
  }
 },
 "nbformat": 4,
 "nbformat_minor": 2
}
